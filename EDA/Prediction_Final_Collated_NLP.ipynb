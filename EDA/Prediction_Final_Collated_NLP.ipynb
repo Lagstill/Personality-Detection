{
  "cells": [
    {
      "cell_type": "markdown",
      "metadata": {
        "id": "nKJpUgKO9_pT"
      },
      "source": [
        "## Logistic Regression\n",
        "\n"
      ]
    },
    {
      "cell_type": "code",
      "execution_count": 11,
      "metadata": {
        "colab": {
          "base_uri": "https://localhost:8080/"
        },
        "id": "9NWZE-g5-NoW",
        "outputId": "f45e55b4-7496-45c4-cc41-0ba993c45ae3"
      },
      "outputs": [
        {
          "name": "stderr",
          "output_type": "stream",
          "text": [
            "[nltk_data] Downloading package punkt to\n",
            "[nltk_data]     C:\\Users\\kpdla\\AppData\\Roaming\\nltk_data...\n",
            "[nltk_data]   Package punkt is already up-to-date!\n",
            "[nltk_data] Downloading package averaged_perceptron_tagger to\n",
            "[nltk_data]     C:\\Users\\kpdla\\AppData\\Roaming\\nltk_data...\n",
            "[nltk_data]   Package averaged_perceptron_tagger is already up-to-\n",
            "[nltk_data]       date!\n",
            "[nltk_data] Downloading package wordnet to\n",
            "[nltk_data]     C:\\Users\\kpdla\\AppData\\Roaming\\nltk_data...\n",
            "[nltk_data]   Package wordnet is already up-to-date!\n",
            "[nltk_data] Downloading package stopwords to\n",
            "[nltk_data]     C:\\Users\\kpdla\\AppData\\Roaming\\nltk_data...\n",
            "[nltk_data]   Package stopwords is already up-to-date!\n"
          ]
        }
      ],
      "source": [
        "import nltk\n",
        "nltk.download('punkt')\n",
        "nltk.download('averaged_perceptron_tagger')\n",
        "nltk.download('wordnet')\n",
        "nltk.download('stopwords')\n",
        "import pandas as pd\n",
        "from joblib import load\n",
        "# import time\n",
        "# import os\n",
        "# # class imbalance\n",
        "\n",
        "# from imblearn.under_sampling import RandomUnderSampler\n",
        "# from imblearn.pipeline import make_pipeline as imb_make_pipeline\n",
        "# # preprocessing\n",
        "# from sklearn.feature_extraction.text import TfidfVectorizer\n",
        "# from sklearn.feature_extraction.text import CountVectorizer\n",
        "# from sklearn.preprocessing import MinMaxScaler\n",
        "# from sklearn.pipeline import make_pipeline\n",
        "# from sklearn.feature_selection import f_classif\n",
        "# from sklearn.feature_selection import SelectKBest\n",
        "# from sklearn.compose import ColumnTransformer\n",
        "# from sklearn.model_selection import train_test_split\n",
        "\n",
        "# # algorithms/models\n",
        "# from sklearn.linear_model import LogisticRegression\n",
        "# from sklearn.linear_model import LogisticRegressionCV\n",
        "# from sklearn.svm import LinearSVC, SVC\n",
        "# from sklearn.naive_bayes import MultinomialNB\n",
        "# from sklearn.ensemble import RandomForestClassifier\n",
        "\n",
        "# # model evaluation\n",
        "# from imblearn.metrics import classification_report_imbalanced\n",
        "# from imblearn.metrics import geometric_mean_score\n",
        "# from sklearn.metrics import average_precision_score\n",
        "# from sklearn.metrics import roc_auc_score\n"
      ]
    },
    {
      "cell_type": "code",
      "execution_count": null,
      "metadata": {
        "colab": {
          "base_uri": "https://localhost:8080/"
        },
        "id": "hPq0X3-o_G4d",
        "outputId": "5e61b2ff-6637-4628-fba9-2266d93f5ab0"
      },
      "outputs": [
        {
          "name": "stdout",
          "output_type": "stream",
          "text": [
            "Looking in indexes: https://pypi.org/simple, https://us-python.pkg.dev/colab-wheels/public/simple/\n",
            "Collecting vaderSentiment\n",
            "  Downloading vaderSentiment-3.3.2-py2.py3-none-any.whl (125 kB)\n",
            "\u001b[2K     \u001b[90m━━━━━━━━━━━━━━━━━━━━━━━━━━━━━━━━━━━━━━━\u001b[0m \u001b[32m126.0/126.0 KB\u001b[0m \u001b[31m3.0 MB/s\u001b[0m eta \u001b[36m0:00:00\u001b[0m\n",
            "\u001b[?25hRequirement already satisfied: requests in /usr/local/lib/python3.9/dist-packages (from vaderSentiment) (2.27.1)\n",
            "Requirement already satisfied: urllib3<1.27,>=1.21.1 in /usr/local/lib/python3.9/dist-packages (from requests->vaderSentiment) (1.26.15)\n",
            "Requirement already satisfied: charset-normalizer~=2.0.0 in /usr/local/lib/python3.9/dist-packages (from requests->vaderSentiment) (2.0.12)\n",
            "Requirement already satisfied: idna<4,>=2.5 in /usr/local/lib/python3.9/dist-packages (from requests->vaderSentiment) (3.4)\n",
            "Requirement already satisfied: certifi>=2017.4.17 in /usr/local/lib/python3.9/dist-packages (from requests->vaderSentiment) (2022.12.7)\n",
            "Installing collected packages: vaderSentiment\n",
            "Successfully installed vaderSentiment-3.3.2\n"
          ]
        }
      ],
      "source": [
        "!pip install vaderSentiment"
      ]
    },
    {
      "cell_type": "code",
      "execution_count": 2,
      "metadata": {
        "id": "ievlK6Uc-1Pe"
      },
      "outputs": [],
      "source": [
        "import re\n",
        "from nltk.stem import WordNetLemmatizer\n",
        "from nltk.corpus import stopwords\n",
        "from vaderSentiment.vaderSentiment import SentimentIntensityAnalyzer\n",
        "from nltk.tokenize import word_tokenize, sent_tokenize"
      ]
    },
    {
      "cell_type": "code",
      "execution_count": null,
      "metadata": {
        "id": "x6QbS5oA_SR4"
      },
      "outputs": [],
      "source": []
    },
    {
      "cell_type": "code",
      "execution_count": null,
      "metadata": {
        "id": "8POoj0I_-Vh_"
      },
      "outputs": [],
      "source": [
        "import pandas as pd\n",
        "\n",
        "personality_data = pd.read_csv(\"/content/drive/MyDrive/NLP_PACKAGE/cleaned_data_countandvectorised.csv\")"
      ]
    },
    {
      "cell_type": "code",
      "execution_count": 3,
      "metadata": {
        "id": "It71Fm5l-l2t"
      },
      "outputs": [],
      "source": [
        "mbti = [\n",
        "    \"INFP\",\n",
        "    \"INFJ\",\n",
        "    \"INTP\",\n",
        "    \"INTJ\",\n",
        "    \"ENTP\",\n",
        "    \"enfp\",\n",
        "    \"ISTP\",\n",
        "    \"ISFP\",\n",
        "    \"ENTJ\",\n",
        "    \"ISTJ\",\n",
        "    \"ENFJ\",\n",
        "    \"ISFJ\",\n",
        "    \"ESTP\",\n",
        "    \"ESFP\",\n",
        "    \"ESFJ\",\n",
        "    \"ESTJ\",\n",
        "]\n",
        "\n",
        "# part of speech dictionary\n",
        "tags_dict = {\n",
        "    \"ADJ_avg\": [\"JJ\", \"JJR\", \"JJS\"],\n",
        "    \"ADP_avg\": [\"EX\", \"TO\"],\n",
        "    \"ADV_avg\": [\"RB\", \"RBR\", \"RBS\", \"WRB\"],\n",
        "    \"CONJ_avg\": [\"CC\", \"IN\"],\n",
        "    \"DET_avg\": [\"DT\", \"PDT\", \"WDT\"],\n",
        "    \"NOUN_avg\": [\"NN\", \"NNS\", \"NNP\", \"NNPS\"],\n",
        "    \"NUM_avg\": [\"CD\"],\n",
        "    \"PRT_avg\": [\"RP\"],\n",
        "    \"PRON_avg\": [\"PRP\", \"PRP$\", \"WP\", \"WP$\"],\n",
        "    \"VERB_avg\": [\"MD\", \"VB\", \"VBD\", \"VBG\", \"VBN\", \"VBP\", \"VBZ\"],\n",
        "    \".\": [\"#\", \"$\", \"''\", \"(\", \")\", \",\", \".\", \":\"],\n",
        "    \"X\": [\"FW\", \"LS\", \"UH\"],\n",
        "}\n",
        "\n",
        "# input to the model\n",
        "features = [\n",
        "      \"clean_posts\",\n",
        "        \"compound_sentiment\",\n",
        "        \"ADJ_avg\",\n",
        "        \"ADP_avg\",\n",
        "        \"ADV_avg\",\n",
        "        \"CONJ_avg\",\n",
        "        \"DET_avg\",\n",
        "        \"NOUN_avg\",\n",
        "        \"NUM_avg\",\n",
        "        \"PRT_avg\",\n",
        "        \"PRON_avg\",\n",
        "        \"VERB_avg\",\n",
        "        \"em\",\n",
        "        \"word_count\",\n",
        "        \"unique_words\"\n",
        "]\n",
        "\n",
        "\n",
        "def unique_words(s):\n",
        "    unique = set(s.split(\" \"))\n",
        "    return len(unique)\n",
        "\n",
        "\n",
        "def emojis(post):\n",
        "    # does not include emojis made purely from symbols, only :word:\n",
        "    emoji_count = 0\n",
        "    words = post.split()\n",
        "    for e in words:\n",
        "        if \"http\" not in e:\n",
        "            if e.count(\":\") == 2:\n",
        "                emoji_count += 1\n",
        "    return emoji_count\n",
        "\n",
        "\n",
        "def colons(post):\n",
        "    # Includes colons used in emojis\n",
        "    colon_count = 0\n",
        "    words = post.split()\n",
        "    for e in words:\n",
        "        if \"http\" not in e:\n",
        "            colon_count += e.count(\":\")\n",
        "    return colon_count\n",
        "\n",
        "\n",
        "def lemmitize(s):\n",
        "    lemmatizer = WordNetLemmatizer()\n",
        "    new_s = \"\"\n",
        "    for word in s.split(\" \"):\n",
        "        lemmatizer.lemmatize(word)\n",
        "        if word not in stopwords.words(\"english\"):\n",
        "            new_s += word + \" \"\n",
        "    return new_s[:-1]\n",
        "\n",
        "\n",
        "def clean(s):\n",
        "    # remove urls\n",
        "    s = re.sub(re.compile(r\"https?:\\/\\/(www)?.?([A-Za-z_0-9-]+).*\"), \"\", s)\n",
        "    # remove emails\n",
        "    s = re.sub(re.compile(r\"\\S+@\\S+\"), \"\", s)\n",
        "    # remove punctuation\n",
        "    s = re.sub(re.compile(r\"[^a-z\\s]\"), \"\", s)\n",
        "    # Make everything lowercase\n",
        "    s = s.lower()\n",
        "    # remove all personality types\n",
        "    for type_word in mbti:\n",
        "        s = s.replace(type_word.lower(), \"\")\n",
        "    return s\n",
        "\n",
        "\n",
        "def prep_counts(s):\n",
        "    clean_s = clean(s)\n",
        "    d = {\n",
        "        \"clean_posts\": lemmitize(clean_s),\n",
        "        \"link_count\": s.count(\"http\"),\n",
        "        \"youtube\": s.count(\"youtube\") + s.count(\"youtu.be\"),\n",
        "        \"img_count\": len(re.findall(r\"(\\.jpg)|(\\.jpeg)|(\\.gif)|(\\.png)\", s)),\n",
        "        \"upper\": len([x for x in s.split() if x.isupper()]),\n",
        "        \"char_count\": len(s),\n",
        "        \"word_count\": clean_s.count(\" \") + 1,\n",
        "        \"qm\": s.count(\"?\"),\n",
        "        \"em\": s.count(\"!\"),\n",
        "        \"colons\": colons(s),\n",
        "        \"emojis\": emojis(s),\n",
        "        \"unique_words\": unique_words(clean_s),\n",
        "        \"ellipses\": len(re.findall(r\"\\.\\.\\.\\ \", s)),\n",
        "    }\n",
        "    return clean_s, d\n",
        "\n",
        "\n",
        "def prep_sentiment(s):\n",
        "    analyzer = SentimentIntensityAnalyzer()\n",
        "    score = analyzer.polarity_scores(s)\n",
        "    d = {\n",
        "        \"compound_sentiment\": score[\"compound\"],\n",
        "        \"pos_sentiment\": score[\"pos\"],\n",
        "        \"neg_sentiment\": score[\"neg\"],\n",
        "        \"neu_sentiment\": score[\"neu\"],\n",
        "    }\n",
        "    return d\n",
        "\n",
        "\n",
        "def tag_pos(s):\n",
        "    tagged_words = nltk.pos_tag(word_tokenize(s))\n",
        "    d = dict.fromkeys(tags_dict, 0)\n",
        "    for tup in tagged_words:\n",
        "        tag = tup[1]\n",
        "        for key, val in tags_dict.items():\n",
        "            if tag in val:\n",
        "                tag = key\n",
        "        d[tag] += 1\n",
        "    return d\n",
        "\n",
        "\n",
        "def prep_data(s):\n",
        "    clean_s, d = prep_counts(s)\n",
        "    d.update(prep_sentiment(lemmitize(clean_s)))\n",
        "    d.update(tag_pos(clean_s))\n",
        "    return pd.DataFrame([d])[features]"
      ]
    },
    {
      "cell_type": "code",
      "execution_count": 4,
      "metadata": {
        "id": "mDu8W612-ma0"
      },
      "outputs": [],
      "source": [
        "def trace_back(combined):\n",
        "    type_list = [\n",
        "        {\"0\": \"I\", \"1\": \"E\"},\n",
        "        {\"0\": \"N\", \"1\": \"S\"},\n",
        "        {\"0\": \"F\", \"1\": \"T\"},\n",
        "        {\"0\": \"P\", \"1\": \"J\"},\n",
        "    ]\n",
        "    result = []\n",
        "    for num in combined:\n",
        "        s = \"\"\n",
        "        for i in range(len(num)):\n",
        "            s += type_list[i][num[i]]\n",
        "        result.append(s)\n",
        "    return result"
      ]
    },
    {
      "cell_type": "code",
      "execution_count": 5,
      "metadata": {
        "id": "Itm3_Kvb-oLz"
      },
      "outputs": [],
      "source": [
        "def combine_classes(y_pred1, y_pred2, y_pred3, y_pred4):\n",
        "    combined = []\n",
        "    for i in range(len(y_pred1)):\n",
        "        combined.append(\n",
        "            str(y_pred1[i]) + str(y_pred2[i]) + str(y_pred3[i]) + str(y_pred4[i])\n",
        "        )\n",
        "    result = trace_back(combined)\n",
        "    return result[0]"
      ]
    },
    {
      "cell_type": "code",
      "execution_count": 13,
      "metadata": {
        "id": "LgZBF4Ne-CtP"
      },
      "outputs": [],
      "source": [
        "def predict(s):\n",
        "\n",
        "    X = prep_data(s)\n",
        "\n",
        "    # loading the 4 models\n",
        "    EorI_model = load(\"LR_model/clf_is_Extrovert.joblib\")\n",
        "    SorN_model = load(\"LR_model/clf_is_Sensing.joblib\")\n",
        "    TorF_model = load(\"LR_model/clf_is_Thinking.joblib\")\n",
        "    JorP_model = load(\"LR_model/clf_is_Judging.joblib\")\n",
        "\n",
        "    # predicting\n",
        "    EorI_pred = EorI_model.predict(X)\n",
        "    SorN_pred = SorN_model.predict(X)\n",
        "    TorF_pred = TorF_model.predict(X)\n",
        "    JorP_pred = JorP_model.predict(X)\n",
        "\n",
        "    # print(EorI_pred, SorN_pred, TorF_pred, JorP_pred)\n",
        "    # combining the predictions from the 4 models\n",
        "    result = combine_classes(EorI_pred, SorN_pred, TorF_pred, JorP_pred)\n",
        "\n",
        "    return result"
      ]
    },
    {
      "cell_type": "code",
      "execution_count": 7,
      "metadata": {
        "id": "bzEG3CJ-JWhk"
      },
      "outputs": [],
      "source": [
        "def compute_personality_probabilities(data):\n",
        "  mbti = [\n",
        "    \"INFP\",\n",
        "    \"INFJ\",\n",
        "    \"INTP\",\n",
        "    \"INTJ\",\n",
        "    \"ENTP\",\n",
        "    \"ENFP\",\n",
        "    \"ISTP\",\n",
        "    \"ISFP\",\n",
        "    \"ENTJ\",\n",
        "    \"ISTJ\",\n",
        "    \"ENFJ\",\n",
        "    \"ISFJ\",\n",
        "    \"ESTP\",\n",
        "    \"ESFP\",\n",
        "    \"ESFJ\",\n",
        "    \"ESTJ\",]\n",
        "  res = {}\n",
        "  for i in mbti:\n",
        "    score = 0\n",
        "    for j in list(i):\n",
        "      score += data[j]\n",
        "    res[i] = score\n",
        "  return res  \n",
        "        \n",
        "\n"
      ]
    },
    {
      "cell_type": "code",
      "execution_count": 8,
      "metadata": {
        "id": "OZtrEUkSCjxy"
      },
      "outputs": [],
      "source": [
        "def combine_classes_proba(data):    \n",
        "  print(data)\n",
        "  personality_dict = {}\n",
        "  for i, subarray in enumerate(data):\n",
        "      if subarray[0] > subarray[1]:\n",
        "          if i == 0:\n",
        "              personality_dict[\"E\"] = subarray[0]\n",
        "              personality_dict[\"I\"] = subarray[1]\n",
        "          elif i == 1:\n",
        "              personality_dict[\"S\"] = subarray[0]\n",
        "              personality_dict[\"N\"] = subarray[1]\n",
        "          elif i == 2:\n",
        "              personality_dict[\"F\"] = subarray[0]\n",
        "              personality_dict[\"T\"] = subarray[1]\n",
        "          elif i == 3:\n",
        "              personality_dict[\"P\"] = subarray[0]\n",
        "              personality_dict[\"J\"] = subarray[1]\n",
        "      else:\n",
        "          if i == 0:\n",
        "              personality_dict[\"E\"] = subarray[1]\n",
        "              personality_dict[\"I\"] = subarray[0]\n",
        "          elif i == 1:\n",
        "              personality_dict[\"S\"] = subarray[1]\n",
        "              personality_dict[\"N\"] = subarray[0]\n",
        "          elif i == 2:\n",
        "              personality_dict[\"F\"] = subarray[1]\n",
        "              personality_dict[\"T\"] = subarray[0]\n",
        "          elif i == 3:\n",
        "              personality_dict[\"P\"] = subarray[1]\n",
        "              personality_dict[\"J\"] = subarray[0]\n",
        "  print(personality_dict)\n",
        "  return compute_personality_probabilities(personality_dict)\n"
      ]
    },
    {
      "cell_type": "code",
      "execution_count": 9,
      "metadata": {
        "id": "8G7KGOE4C_6Y"
      },
      "outputs": [],
      "source": [
        "def predict_probabilty(s):\n",
        "\n",
        "    X = prep_data(s)\n",
        "\n",
        "    # loading the 4 models\n",
        "    EorI_model = load(\"LR_model/clf_is_Extrovert.joblib\")\n",
        "    SorN_model = load(\"LR_model/clf_is_Sensing.joblib\")\n",
        "    TorF_model = load(\"LR_model/clf_is_Thinking.joblib\")\n",
        "    JorP_model = load(\"LR_model/clf_is_Judging.joblib\")\n",
        "\n",
        "    # predicting\n",
        "    EorI_pred = EorI_model.predict_proba(X)\n",
        "    SorN_pred = SorN_model.predict_proba(X)\n",
        "    TorF_pred = TorF_model.predict_proba(X)\n",
        "    JorP_pred = JorP_model.predict_proba(X)\n",
        "\n",
        "    # print(EorI_pred, SorN_pred, TorF_pred, JorP_pred)\n",
        "    # combining the predictions from the 4 models\n",
        "    result = combine_classes_proba([EorI_pred.tolist()[0], SorN_pred.tolist()[0], TorF_pred.tolist()[0], JorP_pred.tolist()[0]])\n",
        "\n",
        "    return result"
      ]
    },
    {
      "cell_type": "code",
      "execution_count": 15,
      "metadata": {
        "colab": {
          "base_uri": "https://localhost:8080/"
        },
        "id": "AsOuwZNVEmXQ",
        "outputId": "a8996df0-5a1d-4949-b46f-bba80585585e"
      },
      "outputs": [
        {
          "name": "stderr",
          "output_type": "stream",
          "text": [
            "c:\\Users\\kpdla\\AppData\\Local\\Programs\\Python\\Python310\\lib\\site-packages\\sklearn\\base.py:299: UserWarning: Trying to unpickle estimator TfidfVectorizer from version 1.2.2 when using version 1.2.1. This might lead to breaking code or invalid results. Use at your own risk. For more info please refer to:\n",
            "https://scikit-learn.org/stable/model_persistence.html#security-maintainability-limitations\n",
            "  warnings.warn(\n",
            "c:\\Users\\kpdla\\AppData\\Local\\Programs\\Python\\Python310\\lib\\site-packages\\sklearn\\base.py:299: UserWarning: Trying to unpickle estimator MinMaxScaler from version 1.2.2 when using version 1.2.1. This might lead to breaking code or invalid results. Use at your own risk. For more info please refer to:\n",
            "https://scikit-learn.org/stable/model_persistence.html#security-maintainability-limitations\n",
            "  warnings.warn(\n",
            "c:\\Users\\kpdla\\AppData\\Local\\Programs\\Python\\Python310\\lib\\site-packages\\sklearn\\base.py:299: UserWarning: Trying to unpickle estimator SelectKBest from version 1.2.2 when using version 1.2.1. This might lead to breaking code or invalid results. Use at your own risk. For more info please refer to:\n",
            "https://scikit-learn.org/stable/model_persistence.html#security-maintainability-limitations\n",
            "  warnings.warn(\n",
            "c:\\Users\\kpdla\\AppData\\Local\\Programs\\Python\\Python310\\lib\\site-packages\\sklearn\\base.py:299: UserWarning: Trying to unpickle estimator Pipeline from version 1.2.2 when using version 1.2.1. This might lead to breaking code or invalid results. Use at your own risk. For more info please refer to:\n",
            "https://scikit-learn.org/stable/model_persistence.html#security-maintainability-limitations\n",
            "  warnings.warn(\n",
            "c:\\Users\\kpdla\\AppData\\Local\\Programs\\Python\\Python310\\lib\\site-packages\\sklearn\\base.py:299: UserWarning: Trying to unpickle estimator TfidfTransformer from version 1.2.2 when using version 1.2.1. This might lead to breaking code or invalid results. Use at your own risk. For more info please refer to:\n",
            "https://scikit-learn.org/stable/model_persistence.html#security-maintainability-limitations\n",
            "  warnings.warn(\n",
            "c:\\Users\\kpdla\\AppData\\Local\\Programs\\Python\\Python310\\lib\\site-packages\\sklearn\\base.py:299: UserWarning: Trying to unpickle estimator ColumnTransformer from version 1.2.2 when using version 1.2.1. This might lead to breaking code or invalid results. Use at your own risk. For more info please refer to:\n",
            "https://scikit-learn.org/stable/model_persistence.html#security-maintainability-limitations\n",
            "  warnings.warn(\n",
            "c:\\Users\\kpdla\\AppData\\Local\\Programs\\Python\\Python310\\lib\\site-packages\\sklearn\\base.py:299: UserWarning: Trying to unpickle estimator LogisticRegressionCV from version 1.2.2 when using version 1.2.1. This might lead to breaking code or invalid results. Use at your own risk. For more info please refer to:\n",
            "https://scikit-learn.org/stable/model_persistence.html#security-maintainability-limitations\n",
            "  warnings.warn(\n"
          ]
        },
        {
          "name": "stdout",
          "output_type": "stream",
          "text": [
            "ENFP\n"
          ]
        },
        {
          "name": "stderr",
          "output_type": "stream",
          "text": [
            "c:\\Users\\kpdla\\AppData\\Local\\Programs\\Python\\Python310\\lib\\site-packages\\sklearn\\base.py:299: UserWarning: Trying to unpickle estimator TfidfVectorizer from version 1.2.2 when using version 1.2.1. This might lead to breaking code or invalid results. Use at your own risk. For more info please refer to:\n",
            "https://scikit-learn.org/stable/model_persistence.html#security-maintainability-limitations\n",
            "  warnings.warn(\n",
            "c:\\Users\\kpdla\\AppData\\Local\\Programs\\Python\\Python310\\lib\\site-packages\\sklearn\\base.py:299: UserWarning: Trying to unpickle estimator MinMaxScaler from version 1.2.2 when using version 1.2.1. This might lead to breaking code or invalid results. Use at your own risk. For more info please refer to:\n",
            "https://scikit-learn.org/stable/model_persistence.html#security-maintainability-limitations\n",
            "  warnings.warn(\n",
            "c:\\Users\\kpdla\\AppData\\Local\\Programs\\Python\\Python310\\lib\\site-packages\\sklearn\\base.py:299: UserWarning: Trying to unpickle estimator SelectKBest from version 1.2.2 when using version 1.2.1. This might lead to breaking code or invalid results. Use at your own risk. For more info please refer to:\n",
            "https://scikit-learn.org/stable/model_persistence.html#security-maintainability-limitations\n",
            "  warnings.warn(\n",
            "c:\\Users\\kpdla\\AppData\\Local\\Programs\\Python\\Python310\\lib\\site-packages\\sklearn\\base.py:299: UserWarning: Trying to unpickle estimator Pipeline from version 1.2.2 when using version 1.2.1. This might lead to breaking code or invalid results. Use at your own risk. For more info please refer to:\n",
            "https://scikit-learn.org/stable/model_persistence.html#security-maintainability-limitations\n",
            "  warnings.warn(\n",
            "c:\\Users\\kpdla\\AppData\\Local\\Programs\\Python\\Python310\\lib\\site-packages\\sklearn\\base.py:299: UserWarning: Trying to unpickle estimator TfidfTransformer from version 1.2.2 when using version 1.2.1. This might lead to breaking code or invalid results. Use at your own risk. For more info please refer to:\n",
            "https://scikit-learn.org/stable/model_persistence.html#security-maintainability-limitations\n",
            "  warnings.warn(\n",
            "c:\\Users\\kpdla\\AppData\\Local\\Programs\\Python\\Python310\\lib\\site-packages\\sklearn\\base.py:299: UserWarning: Trying to unpickle estimator ColumnTransformer from version 1.2.2 when using version 1.2.1. This might lead to breaking code or invalid results. Use at your own risk. For more info please refer to:\n",
            "https://scikit-learn.org/stable/model_persistence.html#security-maintainability-limitations\n",
            "  warnings.warn(\n",
            "c:\\Users\\kpdla\\AppData\\Local\\Programs\\Python\\Python310\\lib\\site-packages\\sklearn\\base.py:299: UserWarning: Trying to unpickle estimator LogisticRegressionCV from version 1.2.2 when using version 1.2.1. This might lead to breaking code or invalid results. Use at your own risk. For more info please refer to:\n",
            "https://scikit-learn.org/stable/model_persistence.html#security-maintainability-limitations\n",
            "  warnings.warn(\n"
          ]
        },
        {
          "name": "stdout",
          "output_type": "stream",
          "text": [
            "[[0.25798028337237267, 0.7420197166276273], [0.6696626973349491, 0.3303373026650509], [0.8560927738342032, 0.14390722616579676], [0.512624016545046, 0.4873759834549541]]\n",
            "{'E': 0.7420197166276273, 'I': 0.25798028337237267, 'S': 0.6696626973349491, 'N': 0.3303373026650509, 'F': 0.8560927738342032, 'T': 0.14390722616579676, 'P': 0.512624016545046, 'J': 0.4873759834549541}\n"
          ]
        }
      ],
      "source": [
        "string = \"I love to roam and meet new people\"\n",
        "print(predict(string))\n",
        "res = predict_probabilty(string)"
      ]
    },
    {
      "cell_type": "code",
      "execution_count": 23,
      "metadata": {},
      "outputs": [
        {
          "name": "stdout",
          "output_type": "stream",
          "text": [
            "{'INFP': 50, 'INFJ': 25, 'INTP': 25, 'INTJ': 1, 'ENTP': 50, 'ENFP': 75, 'ISTP': 50, 'ISFP': 75, 'ENTJ': 25, 'ISTJ': 25, 'ENFJ': 50, 'ISFJ': 50, 'ESTP': 75, 'ESFP': 100, 'ESFJ': 75, 'ESTJ': 50}\n"
          ]
        }
      ],
      "source": [
        "data = {'INFP': 1.999972807759133, 'INFJ': 1.0000271922622952, 'INTP': 0.9999728077591331, 'INTJ': 2.7192262295128908e-05, 'ENTP': 1.9999728077377048, 'ENFP': 2.999972807737705, 'ISTP': 1.999972807759133, 'ISFP': 2.999972807759133, 'ENTJ': 1.000027192240867, 'ISTJ': 1.0000271922622952, 'ENFJ': 2.000027192240867, 'ISFJ': 2.000027192262295, 'ESTP': 2.999972807737705, 'ESFP': 3.999972807737705, 'ESFJ': 3.000027192240867, 'ESTJ': 2.000027192240867}\n",
        "\n",
        "# Find the minimum and maximum values in the dictionary\n",
        "min_val = min(data.values())\n",
        "max_val = max(data.values())\n",
        "\n",
        "# Create an empty dictionary to store the normalized values\n",
        "normalized_data = {}\n",
        "\n",
        "# Loop through each key-value pair in the original dictionary\n",
        "for key, value in data.items():\n",
        "    # Apply Min-Max normalization formula\n",
        "    normalized_value = (value - min_val) / (max_val - min_val) * 99 + 1\n",
        "    # Store the normalized value in the new dictionary\n",
        "    normalized_data[key] = int(normalized_value)\n",
        "\n",
        "# Print the normalized data\n",
        "print(normalized_data)\n"
      ]
    },
    {
      "cell_type": "code",
      "execution_count": 3,
      "metadata": {},
      "outputs": [
        {
          "data": {
            "text/plain": [
              "3.999972807737705"
            ]
          },
          "execution_count": 3,
          "metadata": {},
          "output_type": "execute_result"
        }
      ],
      "source": [
        "data = {'INFP': 1.999972807759133, 'INFJ': 1.0000271922622952, 'INTP': 0.9999728077591331, 'INTJ': 2.7192262295128908e-05, 'ENTP': 1.9999728077377048, 'ENFP': 2.999972807737705, 'ISTP': 1.999972807759133, 'ISFP': 2.999972807759133, 'ENTJ': 1.000027192240867, 'ISTJ': 1.0000271922622952, 'ENFJ': 2.000027192240867, 'ISFJ': 2.000027192262295, 'ESTP': 2.999972807737705, 'ESFP': 3.999972807737705, 'ESFJ': 3.000027192240867, 'ESTJ': 2.000027192240867}\n",
        "max(data.values())"
      ]
    },
    {
      "cell_type": "code",
      "execution_count": 22,
      "metadata": {},
      "outputs": [
        {
          "data": {
            "text/plain": [
              "16"
            ]
          },
          "execution_count": 22,
          "metadata": {},
          "output_type": "execute_result"
        }
      ],
      "source": [
        "h = [-10,100,35,-20,-13,13,99,2,60,100,20,-90,80,20,3,4]\n",
        "len(h)"
      ]
    },
    {
      "cell_type": "code",
      "execution_count": 18,
      "metadata": {},
      "outputs": [
        {
          "name": "stderr",
          "output_type": "stream",
          "text": [
            "c:\\Users\\kpdla\\AppData\\Local\\Programs\\Python\\Python310\\lib\\site-packages\\sklearn\\base.py:299: UserWarning: Trying to unpickle estimator TfidfVectorizer from version 1.2.2 when using version 1.2.1. This might lead to breaking code or invalid results. Use at your own risk. For more info please refer to:\n",
            "https://scikit-learn.org/stable/model_persistence.html#security-maintainability-limitations\n",
            "  warnings.warn(\n",
            "c:\\Users\\kpdla\\AppData\\Local\\Programs\\Python\\Python310\\lib\\site-packages\\sklearn\\base.py:299: UserWarning: Trying to unpickle estimator MinMaxScaler from version 1.2.2 when using version 1.2.1. This might lead to breaking code or invalid results. Use at your own risk. For more info please refer to:\n",
            "https://scikit-learn.org/stable/model_persistence.html#security-maintainability-limitations\n",
            "  warnings.warn(\n",
            "c:\\Users\\kpdla\\AppData\\Local\\Programs\\Python\\Python310\\lib\\site-packages\\sklearn\\base.py:299: UserWarning: Trying to unpickle estimator SelectKBest from version 1.2.2 when using version 1.2.1. This might lead to breaking code or invalid results. Use at your own risk. For more info please refer to:\n",
            "https://scikit-learn.org/stable/model_persistence.html#security-maintainability-limitations\n",
            "  warnings.warn(\n",
            "c:\\Users\\kpdla\\AppData\\Local\\Programs\\Python\\Python310\\lib\\site-packages\\sklearn\\base.py:299: UserWarning: Trying to unpickle estimator Pipeline from version 1.2.2 when using version 1.2.1. This might lead to breaking code or invalid results. Use at your own risk. For more info please refer to:\n",
            "https://scikit-learn.org/stable/model_persistence.html#security-maintainability-limitations\n",
            "  warnings.warn(\n",
            "c:\\Users\\kpdla\\AppData\\Local\\Programs\\Python\\Python310\\lib\\site-packages\\sklearn\\base.py:299: UserWarning: Trying to unpickle estimator TfidfTransformer from version 1.2.2 when using version 1.2.1. This might lead to breaking code or invalid results. Use at your own risk. For more info please refer to:\n",
            "https://scikit-learn.org/stable/model_persistence.html#security-maintainability-limitations\n",
            "  warnings.warn(\n",
            "c:\\Users\\kpdla\\AppData\\Local\\Programs\\Python\\Python310\\lib\\site-packages\\sklearn\\base.py:299: UserWarning: Trying to unpickle estimator ColumnTransformer from version 1.2.2 when using version 1.2.1. This might lead to breaking code or invalid results. Use at your own risk. For more info please refer to:\n",
            "https://scikit-learn.org/stable/model_persistence.html#security-maintainability-limitations\n",
            "  warnings.warn(\n",
            "c:\\Users\\kpdla\\AppData\\Local\\Programs\\Python\\Python310\\lib\\site-packages\\sklearn\\base.py:299: UserWarning: Trying to unpickle estimator LogisticRegressionCV from version 1.2.2 when using version 1.2.1. This might lead to breaking code or invalid results. Use at your own risk. For more info please refer to:\n",
            "https://scikit-learn.org/stable/model_persistence.html#security-maintainability-limitations\n",
            "  warnings.warn(\n"
          ]
        },
        {
          "ename": "TypeError",
          "evalue": "string indices must be integers",
          "output_type": "error",
          "traceback": [
            "\u001b[1;31m---------------------------------------------------------------------------\u001b[0m",
            "\u001b[1;31mTypeError\u001b[0m                                 Traceback (most recent call last)",
            "\u001b[1;32mc:\\Users\\kpdla\\Desktop\\Personality_Prediction\\Prediction_Final_Collated_NLP.ipynb Cell 16\u001b[0m in \u001b[0;36m<cell line: 6>\u001b[1;34m()\u001b[0m\n\u001b[0;32m      <a href='vscode-notebook-cell:/c%3A/Users/kpdla/Desktop/Personality_Prediction/Prediction_Final_Collated_NLP.ipynb#X64sZmlsZQ%3D%3D?line=8'>9</a>\u001b[0m             \u001b[39mfor\u001b[39;00m jp \u001b[39min\u001b[39;00m [\u001b[39m'\u001b[39m\u001b[39mJ\u001b[39m\u001b[39m'\u001b[39m, \u001b[39m'\u001b[39m\u001b[39mP\u001b[39m\u001b[39m'\u001b[39m]:\n\u001b[0;32m     <a href='vscode-notebook-cell:/c%3A/Users/kpdla/Desktop/Personality_Prediction/Prediction_Final_Collated_NLP.ipynb#X64sZmlsZQ%3D%3D?line=9'>10</a>\u001b[0m                 personality \u001b[39m=\u001b[39m ei \u001b[39m+\u001b[39m sn \u001b[39m+\u001b[39m tf \u001b[39m+\u001b[39m jp\n\u001b[1;32m---> <a href='vscode-notebook-cell:/c%3A/Users/kpdla/Desktop/Personality_Prediction/Prediction_Final_Collated_NLP.ipynb#X64sZmlsZQ%3D%3D?line=10'>11</a>\u001b[0m                 probability_scores[personality] \u001b[39m=\u001b[39m probabilities[ei] \u001b[39m*\u001b[39m probabilities[sn] \u001b[39m*\u001b[39m probabilities[tf] \u001b[39m*\u001b[39m probabilities[jp]\n\u001b[0;32m     <a href='vscode-notebook-cell:/c%3A/Users/kpdla/Desktop/Personality_Prediction/Prediction_Final_Collated_NLP.ipynb#X64sZmlsZQ%3D%3D?line=12'>13</a>\u001b[0m \u001b[39m# Print the probability score dictionary\u001b[39;00m\n\u001b[0;32m     <a href='vscode-notebook-cell:/c%3A/Users/kpdla/Desktop/Personality_Prediction/Prediction_Final_Collated_NLP.ipynb#X64sZmlsZQ%3D%3D?line=13'>14</a>\u001b[0m \u001b[39mprint\u001b[39m(probability_scores)\n",
            "\u001b[1;31mTypeError\u001b[0m: string indices must be integers"
          ]
        }
      ],
      "source": [
        "probabilities = predict(string)\n",
        "\n",
        "probability_scores = {}\n",
        "\n",
        "# Loop through each combination of personality traits and calculate the probability score\n",
        "for ei in ['E', 'I']:\n",
        "    for sn in ['S', 'N']:\n",
        "        for tf in ['T', 'F']:\n",
        "            for jp in ['J', 'P']:\n",
        "                personality = ei + sn + tf + jp\n",
        "                probability_scores[personality] = probabilities[ei] * probabilities[sn] * probabilities[tf] * probabilities[jp]\n",
        "\n",
        "# Print the probability score dictionary\n",
        "print(probability_scores)\n"
      ]
    },
    {
      "cell_type": "code",
      "execution_count": 19,
      "metadata": {},
      "outputs": [
        {
          "name": "stderr",
          "output_type": "stream",
          "text": [
            "c:\\Users\\kpdla\\AppData\\Local\\Programs\\Python\\Python310\\lib\\site-packages\\sklearn\\base.py:299: UserWarning: Trying to unpickle estimator TfidfVectorizer from version 1.2.2 when using version 1.2.1. This might lead to breaking code or invalid results. Use at your own risk. For more info please refer to:\n",
            "https://scikit-learn.org/stable/model_persistence.html#security-maintainability-limitations\n",
            "  warnings.warn(\n",
            "c:\\Users\\kpdla\\AppData\\Local\\Programs\\Python\\Python310\\lib\\site-packages\\sklearn\\base.py:299: UserWarning: Trying to unpickle estimator MinMaxScaler from version 1.2.2 when using version 1.2.1. This might lead to breaking code or invalid results. Use at your own risk. For more info please refer to:\n",
            "https://scikit-learn.org/stable/model_persistence.html#security-maintainability-limitations\n",
            "  warnings.warn(\n",
            "c:\\Users\\kpdla\\AppData\\Local\\Programs\\Python\\Python310\\lib\\site-packages\\sklearn\\base.py:299: UserWarning: Trying to unpickle estimator SelectKBest from version 1.2.2 when using version 1.2.1. This might lead to breaking code or invalid results. Use at your own risk. For more info please refer to:\n",
            "https://scikit-learn.org/stable/model_persistence.html#security-maintainability-limitations\n",
            "  warnings.warn(\n",
            "c:\\Users\\kpdla\\AppData\\Local\\Programs\\Python\\Python310\\lib\\site-packages\\sklearn\\base.py:299: UserWarning: Trying to unpickle estimator Pipeline from version 1.2.2 when using version 1.2.1. This might lead to breaking code or invalid results. Use at your own risk. For more info please refer to:\n",
            "https://scikit-learn.org/stable/model_persistence.html#security-maintainability-limitations\n",
            "  warnings.warn(\n",
            "c:\\Users\\kpdla\\AppData\\Local\\Programs\\Python\\Python310\\lib\\site-packages\\sklearn\\base.py:299: UserWarning: Trying to unpickle estimator TfidfTransformer from version 1.2.2 when using version 1.2.1. This might lead to breaking code or invalid results. Use at your own risk. For more info please refer to:\n",
            "https://scikit-learn.org/stable/model_persistence.html#security-maintainability-limitations\n",
            "  warnings.warn(\n",
            "c:\\Users\\kpdla\\AppData\\Local\\Programs\\Python\\Python310\\lib\\site-packages\\sklearn\\base.py:299: UserWarning: Trying to unpickle estimator ColumnTransformer from version 1.2.2 when using version 1.2.1. This might lead to breaking code or invalid results. Use at your own risk. For more info please refer to:\n",
            "https://scikit-learn.org/stable/model_persistence.html#security-maintainability-limitations\n",
            "  warnings.warn(\n",
            "c:\\Users\\kpdla\\AppData\\Local\\Programs\\Python\\Python310\\lib\\site-packages\\sklearn\\base.py:299: UserWarning: Trying to unpickle estimator LogisticRegressionCV from version 1.2.2 when using version 1.2.1. This might lead to breaking code or invalid results. Use at your own risk. For more info please refer to:\n",
            "https://scikit-learn.org/stable/model_persistence.html#security-maintainability-limitations\n",
            "  warnings.warn(\n"
          ]
        },
        {
          "data": {
            "text/plain": [
              "'ENFP'"
            ]
          },
          "execution_count": 19,
          "metadata": {},
          "output_type": "execute_result"
        }
      ],
      "source": [
        "predict(string)"
      ]
    },
    {
      "cell_type": "markdown",
      "metadata": {
        "id": "NB2eyOWHIjJc"
      },
      "source": []
    },
    {
      "cell_type": "code",
      "execution_count": null,
      "metadata": {
        "colab": {
          "base_uri": "https://localhost:8080/",
          "height": 621
        },
        "id": "uTTgrxZoK367",
        "outputId": "541de5fb-0c7c-47bf-d385-cc2cde6a4b95"
      },
      "outputs": [
        {
          "data": {
            "image/png": "[encoded data removed]",
            "text/plain": [
              "<Figure size 1080x720 with 1 Axes>"
            ]
          },
          "metadata": {
            "needs_background": "light"
          },
          "output_type": "display_data"
        }
      ],
      "source": [
        "import matplotlib.pyplot as plt\n",
        "plt.figure(figsize=(15,10))\n",
        "\n",
        "# Sample dictionary\n",
        "# my_dict = {'a': 10, 'b': 20, 'c': 30, 'd': 40}\n",
        "max_val = max(res.values())\n",
        "\n",
        "# Normalize values between 0 and 1\n",
        "res = {k: v/max_val for k, v in res.items()}\n",
        "# Extract values and keys\n",
        "values = res.values()\n",
        "keys = res.keys()\n",
        "\n",
        "# Create a bar plot\n",
        "plt.bar(keys, values)\n",
        "\n",
        "# Add labels and title\n",
        "plt.xlabel('Keys')\n",
        "plt.ylabel('Values')\n",
        "plt.title('My dictionary values visualization')\n",
        "\n",
        "# Show the plot\n",
        "plt.show()\n"
      ]
    },
    {
      "cell_type": "markdown",
      "metadata": {
        "id": "j_rn0JQhNghA"
      },
      "source": [
        "## SVC"
      ]
    },
    {
      "cell_type": "code",
      "execution_count": null,
      "metadata": {
        "id": "gk0CjJOkMiu0"
      },
      "outputs": [],
      "source": [
        "from sklearn.svm import LinearSVC\n",
        "from sklearn.pipeline import Pipeline\n",
        "import pickle\n",
        "from sklearn import metrics\n",
        "from sklearn.metrics import classification_report, f1_score\n",
        "from sklearn.calibration import CalibratedClassifierCV\n"
      ]
    },
    {
      "cell_type": "code",
      "execution_count": null,
      "metadata": {
        "id": "7U6zorIULNsu"
      },
      "outputs": [],
      "source": [
        "X = personality_data['posts'] # features\n",
        "y = personality_data['type']  # labels\n",
        "X_train, X_test, y_train, y_test = train_test_split(X, y, test_size=0.2, random_state=42)"
      ]
    },
    {
      "cell_type": "code",
      "execution_count": null,
      "metadata": {
        "id": "Y9j9v00lLjE0"
      },
      "outputs": [],
      "source": [
        "recreate_model=False\n",
        "filename = '/content/drive/MyDrive/NLP_PACKAGE/mbti_svm_v2.sav'"
      ]
    },
    {
      "cell_type": "code",
      "execution_count": null,
      "metadata": {
        "id": "mvHBKwUsK26N"
      },
      "outputs": [],
      "source": [
        "# Check if need to recreate the model\n",
        "if recreate_model:    \n",
        "    \n",
        "    # Creating an instance to vectorizer:\n",
        "    vectorizer = TfidfVectorizer()\n",
        "    \n",
        "    # Training the vectorizer:\n",
        "    X_train_tfidf = vectorizer.fit_transform(X_train)\n",
        "    \n",
        "    # Training the classifier:\n",
        "    clf = LinearSVC()\n",
        "    clf.fit(X_train_tfidf, y_train)\n",
        "    \n",
        "    # Pipelining the vectorizer and the classifier\n",
        "    text_clf = Pipeline([('tfidf',TfidfVectorizer()),('clf',LinearSVC())])\n",
        "    text_clf.fit(X_train, y_train)\n",
        "    \n",
        "    # saving the model to disk\n",
        "    pickle.dump(text_clf, open(filename, 'wb'))\n",
        "\n",
        "# If there is no need to recreate the model, just open the file from the disk    \n",
        "else:\n",
        "    # loading the model from disk\n",
        "    text_clf = pickle.load(open(filename, 'rb'))"
      ]
    },
    {
      "cell_type": "code",
      "execution_count": null,
      "metadata": {
        "id": "KBNlz0MdM5Rx"
      },
      "outputs": [],
      "source": [
        "# Let's say you have a string to classify\n",
        "# input_string = \"I love you babe\"\n",
        "\n",
        "# # Use the trained pipeline to predict the personality type\n",
        "# predicted_type = text_clf.predict([[input_string]])[0]\n",
        "# # class_probabilities = text_clf.predict_proba([input_string])[0]\n",
        "# class_probabilities = text_clf.predict_proba(X_test)\n",
        "# # Print the predicted personality type\n",
        "# print(predicted_type)\n"
      ]
    },
    {
      "cell_type": "code",
      "execution_count": null,
      "metadata": {
        "colab": {
          "base_uri": "https://localhost:8080/"
        },
        "id": "Ctc2MfdnNzET",
        "outputId": "03354c4c-877c-4786-d965-a034b3832c98"
      },
      "outputs": [
        {
          "name": "stdout",
          "output_type": "stream",
          "text": [
            "The predicted personality type for \"I love to roam and meet new people\" is INFP.\n"
          ]
        }
      ],
      "source": [
        "import pickle\n",
        "from sklearn.feature_extraction.text import TfidfVectorizer\n",
        "from sklearn.calibration import CalibratedClassifierCV\n",
        "\n",
        "# Load the trained model from disk\n",
        "filename = '/content/drive/MyDrive/NLP_PACKAGE/mbti_svm_v2.sav'\n",
        "model = pickle.load(open(filename, 'rb'))\n",
        "\n",
        "# Example input string\n",
        "input_string = 'I love to roam and meet new people'\n",
        "\n",
        "# Process the input string using the vectorizer\n",
        "vectorizer = model.named_steps['tfidf']\n",
        "input_tfidf = vectorizer.transform([input_string])\n",
        "\n",
        "# Predict the personality type\n",
        "calibrated_clf = model.named_steps['clf']\n",
        "predicted_proba = calibrated_clf.predict_proba(input_tfidf)\n",
        "predicted_personality = calibrated_clf.classes_[predicted_proba.argmax()]\n",
        "\n",
        "print(f'The predicted personality type for \"{input_string}\" is {predicted_personality}.')\n",
        "label =['ENFJ', 'ENFP', 'ENTJ', 'ENTP', 'ESFJ', 'ESFP', 'ESTJ', 'ESTP', 'INFJ', 'INFP', 'INTJ', 'INTP', 'ISFJ', 'ISFP', 'ISTJ', 'ISTP']\n",
        "prob = predicted_proba[0]\n",
        "\n",
        "res = {}\n",
        "for i in range(16):\n",
        "  res[label[i]] = prob[i]\n"
      ]
    },
    {
      "cell_type": "code",
      "execution_count": null,
      "metadata": {
        "colab": {
          "base_uri": "https://localhost:8080/",
          "height": 621
        },
        "id": "Mr3Rql3tSgd2",
        "outputId": "01ce6bb6-494b-40bc-bb07-7db7395f6512"
      },
      "outputs": [
        {
          "data": {
            "image/png": "[encoded data removed]",
            "text/plain": [
              "<Figure size 1080x720 with 1 Axes>"
            ]
          },
          "metadata": {
            "needs_background": "light"
          },
          "output_type": "display_data"
        }
      ],
      "source": [
        "import matplotlib.pyplot as plt\n",
        "plt.figure(figsize=(15,10))\n",
        "\n",
        "# Sample dictionary\n",
        "# my_dict = {'a': 10, 'b': 20, 'c': 30, 'd': 40}\n",
        "max_val = max(res.values())\n",
        "\n",
        "# Normalize values between 0 and 1\n",
        "res = {k: v/max_val for k, v in res.items()}\n",
        "# Extract values and keys\n",
        "values = res.values()\n",
        "keys = res.keys()\n",
        "\n",
        "# Create a bar plot\n",
        "plt.bar(keys, values)\n",
        "\n",
        "# Add labels and title\n",
        "plt.xlabel('Keys')\n",
        "plt.ylabel('Values')\n",
        "plt.title('My dictionary values visualization')\n",
        "\n",
        "# Show the plot\n",
        "plt.show()"
      ]
    },
    {
      "cell_type": "code",
      "execution_count": null,
      "metadata": {
        "id": "AxHSh8_XShb-"
      },
      "outputs": [],
      "source": []
    },
    {
      "cell_type": "code",
      "execution_count": null,
      "metadata": {
        "colab": {
          "base_uri": "https://localhost:8080/"
        },
        "id": "uJtway6AIqIl",
        "outputId": "52de9f91-77ec-43b5-9181-8fb82573d11f"
      },
      "outputs": [
        {
          "name": "stdout",
          "output_type": "stream",
          "text": [
            "Looking in indexes: https://pypi.org/simple, https://us-python.pkg.dev/colab-wheels/public/simple/\n",
            "Collecting transformers\n",
            "  Downloading transformers-4.27.4-py3-none-any.whl (6.8 MB)\n",
            "\u001b[2K     \u001b[90m━━━━━━━━━━━━━━━━━━━━━━━━━━━━━━━━━━━━━━━━\u001b[0m \u001b[32m6.8/6.8 MB\u001b[0m \u001b[31m43.6 MB/s\u001b[0m eta \u001b[36m0:00:00\u001b[0m\n",
            "\u001b[?25hCollecting tokenizers!=0.11.3,<0.14,>=0.11.1\n",
            "  Downloading tokenizers-0.13.2-cp39-cp39-manylinux_2_17_x86_64.manylinux2014_x86_64.whl (7.6 MB)\n",
            "\u001b[2K     \u001b[90m━━━━━━━━━━━━━━━━━━━━━━━━━━━━━━━━━━━━━━━━\u001b[0m \u001b[32m7.6/7.6 MB\u001b[0m \u001b[31m69.2 MB/s\u001b[0m eta \u001b[36m0:00:00\u001b[0m\n",
            "\u001b[?25hRequirement already satisfied: packaging>=20.0 in /usr/local/lib/python3.9/dist-packages (from transformers) (23.0)\n",
            "Requirement already satisfied: regex!=2019.12.17 in /usr/local/lib/python3.9/dist-packages (from transformers) (2022.10.31)\n",
            "Requirement already satisfied: filelock in /usr/local/lib/python3.9/dist-packages (from transformers) (3.10.7)\n",
            "Requirement already satisfied: requests in /usr/local/lib/python3.9/dist-packages (from transformers) (2.27.1)\n",
            "Requirement already satisfied: tqdm>=4.27 in /usr/local/lib/python3.9/dist-packages (from transformers) (4.65.0)\n",
            "Requirement already satisfied: pyyaml>=5.1 in /usr/local/lib/python3.9/dist-packages (from transformers) (6.0)\n",
            "Collecting huggingface-hub<1.0,>=0.11.0\n",
            "  Downloading huggingface_hub-0.13.3-py3-none-any.whl (199 kB)\n",
            "\u001b[2K     \u001b[90m━━━━━━━━━━━━━━━━━━━━━━━━━━━━━━━━━━━━━━\u001b[0m \u001b[32m199.8/199.8 KB\u001b[0m \u001b[31m19.8 MB/s\u001b[0m eta \u001b[36m0:00:00\u001b[0m\n",
            "\u001b[?25hRequirement already satisfied: numpy>=1.17 in /usr/local/lib/python3.9/dist-packages (from transformers) (1.22.4)\n",
            "Requirement already satisfied: typing-extensions>=3.7.4.3 in /usr/local/lib/python3.9/dist-packages (from huggingface-hub<1.0,>=0.11.0->transformers) (4.5.0)\n",
            "Requirement already satisfied: certifi>=2017.4.17 in /usr/local/lib/python3.9/dist-packages (from requests->transformers) (2022.12.7)\n",
            "Requirement already satisfied: charset-normalizer~=2.0.0 in /usr/local/lib/python3.9/dist-packages (from requests->transformers) (2.0.12)\n",
            "Requirement already satisfied: idna<4,>=2.5 in /usr/local/lib/python3.9/dist-packages (from requests->transformers) (3.4)\n",
            "Requirement already satisfied: urllib3<1.27,>=1.21.1 in /usr/local/lib/python3.9/dist-packages (from requests->transformers) (1.26.15)\n",
            "Installing collected packages: tokenizers, huggingface-hub, transformers\n",
            "Successfully installed huggingface-hub-0.13.3 tokenizers-0.13.2 transformers-4.27.4\n"
          ]
        }
      ],
      "source": [
        "!pip install transformers"
      ]
    },
    {
      "cell_type": "code",
      "execution_count": null,
      "metadata": {
        "colab": {
          "base_uri": "https://localhost:8080/",
          "height": 336,
          "referenced_widgets": [
            "22e3e1b279ce451995041a4f40eb63ee",
            "49ee24aae98142cbad4fdbb393bc4c9d",
            "0c1fa6405cdb4b8e918cc81cb6b83180",
            "3cdc962af4904743b92fdcf383ece447",
            "1b8d6042bad741529c47520fe3ad7e4a",
            "9dd2c7b81695410a85a0b440abff63e9",
            "38954aacda1d4e1a913542eb72376006",
            "0eb8eaa7f85342939b495f06f3d229a4",
            "16837d9a9b13467da81654a9b92365ab",
            "f48e57d2c3334523b6dafb89cf932364",
            "783bf092384648499b4417a7c42aba06",
            "a9dc96b33a5f436a85b29c75f77aac85",
            "6e5fbce166a64664ba26eaf1f09a6973",
            "baa797f012314f2e9ec0f0d1cb798522",
            "af921d772b68415580de7f6bcfb04e32",
            "8c837265f4924a54b5d45f658f197bfb",
            "ab95bb281bc84444804cfe6124134da0",
            "81b9e63f5eaa4723ab9b03dd6de440e6",
            "763705413575433094c9c31ca91b54c9",
            "11fe8baa378e40828ea829416cdc94b4",
            "e4dbf568e088472fa416cfd82a16a321",
            "d9b50136fa7945ecbd87be01747565c8",
            "d8bd61b8e25b4b17a546cfbb1c608869",
            "761411bd08664a328ac0479241bd6194",
            "49fd181e22e64c698de6e8aa577bca3d",
            "e938f7f0f6b54d64b71ff3c586973106",
            "b746f9f61b2a487d9b23d53176980b32",
            "53fca330744c428cb6e66d81030a8cc9",
            "443e7d5a12c04e56aec657497dc271db",
            "960042fa31e54c46abddfb2550838d55",
            "1c6e34c078604f0da94a8079c440e0e4",
            "87f915e9a24647d6a6e986ed5760d00a",
            "5124780e54d94086a83229f64966d16f",
            "746ffa24f2644007909c6bc889e78317",
            "11f39b08be1d45138e69eb05cae38d6d",
            "b607305ba3fe4a43bb29ef2906637b73",
            "fd64a29969b742889250f63540236270",
            "b91952dd2d6045ab98ec5b1693cc91c5",
            "b7e0d499ccec4ba696ee7460930fa935",
            "07e1b4e027da472486c224fba0baab0d",
            "33f3b504e9314024add373c325094a92",
            "45d11f5463a448b39623fb8a5de69408",
            "0d4429b7898244708393fd1b3bd86587",
            "90fe484ac111434489a4839215c35cad"
          ]
        },
        "id": "oa3e10CMTDvC",
        "outputId": "7dfe7c22-f2e5-4c92-d32b-bb25073cadb0"
      },
      "outputs": [
        {
          "data": {
            "application/vnd.jupyter.widget-view+json": {
              "model_id": "22e3e1b279ce451995041a4f40eb63ee",
              "version_major": 2,
              "version_minor": 0
            },
            "text/plain": [
              "Downloading (…)okenizer_config.json:   0%|          | 0.00/60.0 [00:00<?, ?B/s]"
            ]
          },
          "metadata": {},
          "output_type": "display_data"
        },
        {
          "data": {
            "application/vnd.jupyter.widget-view+json": {
              "model_id": "a9dc96b33a5f436a85b29c75f77aac85",
              "version_major": 2,
              "version_minor": 0
            },
            "text/plain": [
              "Downloading (…)lve/main/config.json:   0%|          | 0.00/998 [00:00<?, ?B/s]"
            ]
          },
          "metadata": {},
          "output_type": "display_data"
        },
        {
          "data": {
            "application/vnd.jupyter.widget-view+json": {
              "model_id": "d8bd61b8e25b4b17a546cfbb1c608869",
              "version_major": 2,
              "version_minor": 0
            },
            "text/plain": [
              "Downloading (…)solve/main/vocab.txt:   0%|          | 0.00/213k [00:00<?, ?B/s]"
            ]
          },
          "metadata": {},
          "output_type": "display_data"
        },
        {
          "data": {
            "application/vnd.jupyter.widget-view+json": {
              "model_id": "746ffa24f2644007909c6bc889e78317",
              "version_major": 2,
              "version_minor": 0
            },
            "text/plain": [
              "Downloading pytorch_model.bin:   0%|          | 0.00/1.33G [00:00<?, ?B/s]"
            ]
          },
          "metadata": {},
          "output_type": "display_data"
        },
        {
          "name": "stdout",
          "output_type": "stream",
          "text": [
            "Enter your long text: Hi I am ALagu living in Tiruupuur, but my boss today shouted at me Ramya, for just chilling out\n",
            "{'entity': 'I-ORG', 'score': 0.67666537, 'index': 4, 'word': 'AL', 'start': 8, 'end': 10}\n",
            "{'entity': 'I-PER', 'score': 0.7425848, 'index': 5, 'word': '##agu', 'start': 10, 'end': 13}\n",
            "{'entity': 'I-LOC', 'score': 0.99569905, 'index': 8, 'word': 'T', 'start': 24, 'end': 25}\n",
            "{'entity': 'I-LOC', 'score': 0.9579995, 'index': 9, 'word': '##ir', 'start': 25, 'end': 27}\n",
            "{'entity': 'I-LOC', 'score': 0.8226492, 'index': 10, 'word': '##u', 'start': 27, 'end': 28}\n",
            "{'entity': 'I-LOC', 'score': 0.7625259, 'index': 11, 'word': '##up', 'start': 28, 'end': 30}\n",
            "{'entity': 'I-LOC', 'score': 0.65837306, 'index': 12, 'word': '##u', 'start': 30, 'end': 31}\n",
            "{'entity': 'I-LOC', 'score': 0.935152, 'index': 13, 'word': '##ur', 'start': 31, 'end': 33}\n",
            "{'entity': 'I-PER', 'score': 0.99602157, 'index': 22, 'word': 'Ram', 'start': 67, 'end': 70}\n",
            "{'entity': 'I-PER', 'score': 0.9948232, 'index': 23, 'word': '##ya', 'start': 70, 'end': 72}\n"
          ]
        }
      ],
      "source": [
        "from transformers import pipeline, AutoTokenizer, AutoModelForTokenClassification\n",
        "\n",
        "# Load the tokenizer and model for the specific NER task\n",
        "tokenizer = AutoTokenizer.from_pretrained(\"dbmdz/bert-large-cased-finetuned-conll03-english\")\n",
        "model = AutoModelForTokenClassification.from_pretrained(\"dbmdz/bert-large-cased-finetuned-conll03-english\")\n",
        "\n",
        "# Create the NER pipeline\n",
        "nlp = pipeline(\"ner\", model=model, tokenizer=tokenizer)\n",
        "\n",
        "text = input(\"Enter your long text: \")\n",
        "\n",
        "results = nlp(text)\n",
        "\n",
        "for result in results:\n",
        "    print(result)\n"
      ]
    },
    {
      "cell_type": "code",
      "execution_count": null,
      "metadata": {
        "colab": {
          "base_uri": "https://localhost:8080/"
        },
        "id": "OyAzoLySIt9-",
        "outputId": "5d0f37d8-b786-4f62-f26c-1c0ec0e5e21e"
      },
      "outputs": [
        {
          "name": "stdout",
          "output_type": "stream",
          "text": [
            "Enter some text: Hi I am janani, and you must be Sam right? Well my day was bad...what your boss Ram is here? Oh I thought he was at the backyard sniffing the cat with a bag. Okay I am going to get a cab\n",
            "Word: j, Tag: I-PER, Probability: 0.6243192553520203\n",
            "Word: ##ana, Tag: I-PER, Probability: 0.5052528381347656\n",
            "Word: ##ni, Tag: I-PER, Probability: 0.8133019208908081\n",
            "Word: Sam, Tag: I-PER, Probability: 0.9908915162086487\n",
            "Word: Ram, Tag: I-PER, Probability: 0.9936957955360413\n"
          ]
        }
      ],
      "source": [
        "text = input(\"Enter some text: \")\n",
        "\n",
        "# perform NER on the text\n",
        "ner_results = nlp(text)\n",
        "\n",
        "# print the NER results\n",
        "for result in ner_results:\n",
        "    print(f\"Word: {result['word']}, Tag: {result['entity']}, Probability: {result['score']}\")"
      ]
    },
    {
      "cell_type": "code",
      "execution_count": null,
      "metadata": {
        "colab": {
          "base_uri": "https://localhost:8080/"
        },
        "id": "8VSuKDFvL5LT",
        "outputId": "5e8d631f-469a-47f2-bf07-c8a3b160858f"
      },
      "outputs": [
        {
          "name": "stdout",
          "output_type": "stream",
          "text": [
            "I-PER: j, ##ana, ##ni, Sam, Ram\n"
          ]
        }
      ],
      "source": [
        "entities = {\"I-PER\": [], \"I-LOC\": [], \"I-ORG\": [], \"I-MISC\": []}\n",
        "\n",
        "# iterate through the NER results and add the entities to the dictionary\n",
        "for result in ner_results:\n",
        "    if result['entity'] in entities:\n",
        "        entities[result['entity']].append(result['word'])\n",
        "    else:\n",
        "      entities[result['entity']] = [result['word']]\n",
        "\n",
        "# print the entities and their types\n",
        "for entity_type, entity_list in entities.items():\n",
        "    if len(entity_list) > 0:\n",
        "        print(f\"{entity_type}: {', '.join(entity_list)}\")"
      ]
    },
    {
      "cell_type": "code",
      "execution_count": null,
      "metadata": {
        "colab": {
          "base_uri": "https://localhost:8080/"
        },
        "id": "fv93EychMw-z",
        "outputId": "8974af72-5baa-4d14-c901-2614f5b4bdbd"
      },
      "outputs": [
        {
          "data": {
            "text/plain": [
              "{'I-PER': ['j', '##ana', '##ni', 'Sam', 'Ram'],\n",
              " 'I-LOC': [],\n",
              " 'I-ORG': [],\n",
              " 'I-MISC': []}"
            ]
          },
          "execution_count": 10,
          "metadata": {},
          "output_type": "execute_result"
        }
      ],
      "source": [
        "entities"
      ]
    },
    {
      "cell_type": "code",
      "execution_count": null,
      "metadata": {
        "colab": {
          "base_uri": "https://localhost:8080/",
          "height": 246,
          "referenced_widgets": [
            "c86ca809e3af4a198a219d49f400e392",
            "2269c1a35b504b8a8290308ae185d904",
            "e06845cbc12a4349a5441d83455bab77",
            "e71fd8d0706749b0804ae38e48830921",
            "601ef2fdeddb4742ba306ceaf3374e61",
            "f59ff01bb1e14521b4a233b9ec4d3717",
            "f227938cbc594b1ea358c78e3d547606",
            "1dab5c66dd444041a75e1ed595068194",
            "c3d830420abf4b0a848047d6e8ad080b",
            "0d4a8f4dc8ab4140b28ed6bda8b08bc0",
            "89cb7ca3329c4ebbb79868fd0884d9b5",
            "37f1fd1d5f334de483280e2e89e0d4b2",
            "32a9d03939a44fa5880acec9cdce2746",
            "fd832e114e7a4132b4248902ebf482a9",
            "3d92e1833546409085444a67d8ab8d6d",
            "ccbcebe1f3f14251bfb60752c48cc181",
            "6347148c1fe4475488070810ef806203",
            "95c74503559d406ab8e6961afa26a5a6",
            "0d145d6e08254dd58d31c09e2f3dd340",
            "ed84b9a1373b4efa9ebd54c9b1b6665a",
            "53146ce1d5924fb091c5ef06141debde",
            "7455f60f88324c59ab99db74d7068e06",
            "f7a1a582ff794bd2811177ab23345fe1",
            "695c0de4c6c548ea88da792216372cf4",
            "c9042952310c499a8554544fe65588c0",
            "f832cdc6c6304a17ba447f622da7d417",
            "64100dd783ea4cd898d246844a3b5cec",
            "98a3aa59b9cd45c1947e433652e65157",
            "1a622837e24246e38f796eaceef9f486",
            "81dedd7e1f354bd89ebb7ac1bb5cd7da",
            "f472beb5b8c448038e5d5d259b7af4a5",
            "d9113d0a87ec4258a77ec9f6def4d379",
            "779e896f670740448f92887615b99e08",
            "3a9ed297a4e3464ebac8af325292eb07",
            "cf47e98819b74f29915fead7c1e2e287",
            "fcb36dfdbbf74c06a2de93eb6081bbaf",
            "ca47537fa7a041aa8b9b8ceda8ff4124",
            "44dd83e2e72b4eceba46f919d5cc8c23",
            "323f7237deb2428c8ccd7b476bc87fb4",
            "7aadb6b79dd645fab1be626ec571953a",
            "47e1497994e74295bc8de7b8464726da",
            "750d7acd14164d65a090e7f30539fe3f",
            "139a17520c2e4271a1225785a3cf78e9",
            "ed1ff54758eb4d91a355ab5c52fc9de1",
            "0089fd3e4eca48ca9acf9e2688f0e3a1",
            "8115a68558a140d682c4871f95ba980e",
            "8639530107d2435ba00bc844d1d4c4c1",
            "120aa2cd02ab4f7592b90d66b46372b6",
            "58f8673f94ff4cd9b64d3ebd027a74ac",
            "82cdfe44c70b40d99c85aaa52fe1c6bc",
            "bc24b81a7b6f4a22af19aa68c02884b5",
            "26325dcd59df4775a17d3d2a0b6461ba",
            "e56f6eabbe2a43f7bc80c51fb83591b2",
            "0e86b1bc8963405190d18edf1cea7f98",
            "f3f2ef5fe4f04292b26f485be5510c87",
            "1871f5f3674f4107973bbe5f14fca6f1",
            "f3c9eca7d2f44a1bb5992df7bf14e8ee",
            "b887f1213b4d49f5bceca7c550caffb4",
            "9cd1d2e024bc4d40a5817a1ad0c35cd5",
            "8399c31dcf844de5b25e22701345ef1e",
            "cf4fc8c81f334e52b4c90c4e9db2e890",
            "b4bbeadca3dc4bcfa75655bcd5c56ef2",
            "33f2fb8b15f04042b7da2681970aa6b6",
            "042c69a9488447ac921a02d4eedffe74",
            "3f3dab1f29164c03acb9e392ca6dd0ac",
            "986b024a009c46a9b5b958a5c8565567"
          ]
        },
        "id": "sWtaXCDJM0xO",
        "outputId": "43cdc6c0-ef6f-4ba7-9d62-5e58da5bcee6"
      },
      "outputs": [
        {
          "data": {
            "application/vnd.jupyter.widget-view+json": {
              "model_id": "c86ca809e3af4a198a219d49f400e392",
              "version_major": 2,
              "version_minor": 0
            },
            "text/plain": [
              "Downloading (…)okenizer_config.json:   0%|          | 0.00/59.0 [00:00<?, ?B/s]"
            ]
          },
          "metadata": {},
          "output_type": "display_data"
        },
        {
          "data": {
            "application/vnd.jupyter.widget-view+json": {
              "model_id": "37f1fd1d5f334de483280e2e89e0d4b2",
              "version_major": 2,
              "version_minor": 0
            },
            "text/plain": [
              "Downloading (…)lve/main/config.json:   0%|          | 0.00/829 [00:00<?, ?B/s]"
            ]
          },
          "metadata": {},
          "output_type": "display_data"
        },
        {
          "data": {
            "application/vnd.jupyter.widget-view+json": {
              "model_id": "f7a1a582ff794bd2811177ab23345fe1",
              "version_major": 2,
              "version_minor": 0
            },
            "text/plain": [
              "Downloading (…)solve/main/vocab.txt:   0%|          | 0.00/213k [00:00<?, ?B/s]"
            ]
          },
          "metadata": {},
          "output_type": "display_data"
        },
        {
          "data": {
            "application/vnd.jupyter.widget-view+json": {
              "model_id": "3a9ed297a4e3464ebac8af325292eb07",
              "version_major": 2,
              "version_minor": 0
            },
            "text/plain": [
              "Downloading (…)in/added_tokens.json:   0%|          | 0.00/2.00 [00:00<?, ?B/s]"
            ]
          },
          "metadata": {},
          "output_type": "display_data"
        },
        {
          "data": {
            "application/vnd.jupyter.widget-view+json": {
              "model_id": "0089fd3e4eca48ca9acf9e2688f0e3a1",
              "version_major": 2,
              "version_minor": 0
            },
            "text/plain": [
              "Downloading (…)cial_tokens_map.json:   0%|          | 0.00/112 [00:00<?, ?B/s]"
            ]
          },
          "metadata": {},
          "output_type": "display_data"
        },
        {
          "data": {
            "application/vnd.jupyter.widget-view+json": {
              "model_id": "1871f5f3674f4107973bbe5f14fca6f1",
              "version_major": 2,
              "version_minor": 0
            },
            "text/plain": [
              "Downloading pytorch_model.bin:   0%|          | 0.00/433M [00:00<?, ?B/s]"
            ]
          },
          "metadata": {},
          "output_type": "display_data"
        },
        {
          "name": "stdout",
          "output_type": "stream",
          "text": [
            "[{'entity': 'B-PER', 'score': 0.9990139, 'index': 4, 'word': 'Wolfgang', 'start': 11, 'end': 19}, {'entity': 'B-LOC', 'score': 0.999645, 'index': 9, 'word': 'Berlin', 'start': 34, 'end': 40}]\n"
          ]
        }
      ],
      "source": [
        "from transformers import AutoTokenizer, AutoModelForTokenClassification\n",
        "from transformers import pipeline\n",
        "\n",
        "tokenizer = AutoTokenizer.from_pretrained(\"dslim/bert-base-NER\")\n",
        "model = AutoModelForTokenClassification.from_pretrained(\"dslim/bert-base-NER\")\n",
        "\n",
        "nlp = pipeline(\"ner\", model=model, tokenizer=tokenizer)\n",
        "example = \"Hi I am janani, and you must be Sam right? Well my day was bad...what your boss Ram is here? Oh I thought he was at the backyard sniffing the cat with a bag. Okay I am going to get a cab\"\n",
        "\n",
        "ner_results = nlp(example)\n",
        "print(ner_results)\n"
      ]
    },
    {
      "cell_type": "code",
      "execution_count": null,
      "metadata": {
        "id": "iPjmCmq_QwDa"
      },
      "outputs": [],
      "source": [
        "example = \"The school in London Killer went to shopping mall with John\"\n",
        "\n",
        "ner_results = nlp(example)\n",
        "print(ner_results)"
      ]
    },
    {
      "cell_type": "markdown",
      "metadata": {
        "id": "GKiiDnyGIyUW"
      },
      "source": [
        "## BERT"
      ]
    },
    {
      "cell_type": "code",
      "execution_count": null,
      "metadata": {
        "colab": {
          "base_uri": "https://localhost:8080/"
        },
        "id": "l2XIFj8oSNNd",
        "outputId": "73d18a3b-0b47-48d3-f342-dfb17bab28f7"
      },
      "outputs": [
        {
          "name": "stdout",
          "output_type": "stream",
          "text": [
            "Looking in indexes: https://pypi.org/simple, https://us-python.pkg.dev/colab-wheels/public/simple/\n",
            "Collecting transformers\n",
            "  Downloading transformers-4.27.1-py3-none-any.whl (6.7 MB)\n",
            "\u001b[2K     \u001b[90m━━━━━━━━━━━━━━━━━━━━━━━━━━━━━━━━━━━━━━━━\u001b[0m \u001b[32m6.7/6.7 MB\u001b[0m \u001b[31m51.3 MB/s\u001b[0m eta \u001b[36m0:00:00\u001b[0m\n",
            "\u001b[?25hCollecting huggingface-hub<1.0,>=0.11.0\n",
            "  Downloading huggingface_hub-0.13.2-py3-none-any.whl (199 kB)\n",
            "\u001b[2K     \u001b[90m━━━━━━━━━━━━━━━━━━━━━━━━━━━━━━━━━━━━━━\u001b[0m \u001b[32m199.2/199.2 KB\u001b[0m \u001b[31m26.4 MB/s\u001b[0m eta \u001b[36m0:00:00\u001b[0m\n",
            "\u001b[?25hRequirement already satisfied: requests in /usr/local/lib/python3.8/dist-packages (from transformers) (2.25.1)\n",
            "Requirement already satisfied: pyyaml>=5.1 in /usr/local/lib/python3.8/dist-packages (from transformers) (6.0)\n",
            "Requirement already satisfied: filelock in /usr/local/lib/python3.8/dist-packages (from transformers) (3.9.0)\n",
            "Requirement already satisfied: regex!=2019.12.17 in /usr/local/lib/python3.8/dist-packages (from transformers) (2022.6.2)\n",
            "Requirement already satisfied: tqdm>=4.27 in /usr/local/lib/python3.8/dist-packages (from transformers) (4.64.1)\n",
            "Collecting tokenizers!=0.11.3,<0.14,>=0.11.1\n",
            "  Downloading tokenizers-0.13.2-cp38-cp38-manylinux_2_17_x86_64.manylinux2014_x86_64.whl (7.6 MB)\n",
            "\u001b[2K     \u001b[90m━━━━━━━━━━━━━━━━━━━━━━━━━━━━━━━━━━━━━━━━\u001b[0m \u001b[32m7.6/7.6 MB\u001b[0m \u001b[31m111.4 MB/s\u001b[0m eta \u001b[36m0:00:00\u001b[0m\n",
            "\u001b[?25hRequirement already satisfied: numpy>=1.17 in /usr/local/lib/python3.8/dist-packages (from transformers) (1.22.4)\n",
            "Requirement already satisfied: packaging>=20.0 in /usr/local/lib/python3.8/dist-packages (from transformers) (23.0)\n",
            "Requirement already satisfied: typing-extensions>=3.7.4.3 in /usr/local/lib/python3.8/dist-packages (from huggingface-hub<1.0,>=0.11.0->transformers) (4.5.0)\n",
            "Requirement already satisfied: idna<3,>=2.5 in /usr/local/lib/python3.8/dist-packages (from requests->transformers) (2.10)\n",
            "Requirement already satisfied: urllib3<1.27,>=1.21.1 in /usr/local/lib/python3.8/dist-packages (from requests->transformers) (1.24.3)\n",
            "Requirement already satisfied: chardet<5,>=3.0.2 in /usr/local/lib/python3.8/dist-packages (from requests->transformers) (4.0.0)\n",
            "Requirement already satisfied: certifi>=2017.4.17 in /usr/local/lib/python3.8/dist-packages (from requests->transformers) (2022.12.7)\n",
            "Installing collected packages: tokenizers, huggingface-hub, transformers\n",
            "Successfully installed huggingface-hub-0.13.2 tokenizers-0.13.2 transformers-4.27.1\n",
            "Looking in indexes: https://pypi.org/simple, https://us-python.pkg.dev/colab-wheels/public/simple/\n",
            "Collecting tensorflow_addons\n",
            "  Downloading tensorflow_addons-0.19.0-cp38-cp38-manylinux_2_17_x86_64.manylinux2014_x86_64.whl (1.1 MB)\n",
            "\u001b[2K     \u001b[90m━━━━━━━━━━━━━━━━━━━━━━━━━━━━━━━━━━━━━━━━\u001b[0m \u001b[32m1.1/1.1 MB\u001b[0m \u001b[31m14.6 MB/s\u001b[0m eta \u001b[36m0:00:00\u001b[0m\n",
            "\u001b[?25hRequirement already satisfied: packaging in /usr/local/lib/python3.8/dist-packages (from tensorflow_addons) (23.0)\n",
            "Requirement already satisfied: typeguard>=2.7 in /usr/local/lib/python3.8/dist-packages (from tensorflow_addons) (2.7.1)\n",
            "Installing collected packages: tensorflow_addons\n",
            "Successfully installed tensorflow_addons-0.19.0\n"
          ]
        }
      ],
      "source": [
        "!pip install transformers\n",
        "!pip install tensorflow_addons"
      ]
    },
    {
      "cell_type": "code",
      "execution_count": null,
      "metadata": {
        "id": "NlEeml2lR1mu"
      },
      "outputs": [],
      "source": [
        "import pandas as pd\n",
        "from transformers import TFBertModel, BertTokenizer\n",
        "seed_value = 29\n",
        "import os\n",
        "os.environ['PYTHONHASHSEED'] = str(seed_value)\n",
        "import random\n",
        "random.seed(seed_value)\n",
        "import numpy as np\n",
        "np.random.seed(seed_value)\n",
        "np.set_printoptions(precision=2)\n",
        "import tensorflow as tf\n",
        "tf.random.set_seed(seed_value)\n",
        "import tensorflow_addons as tfa\n",
        "import tensorflow.keras as keras\n",
        "import tensorflow.keras.layers as layers\n",
        "from tensorflow.keras.callbacks import ModelCheckpoint\n",
        "import re\n",
        "import matplotlib.pyplot as plt\n",
        "from sklearn.metrics import auc, roc_curve"
      ]
    },
    {
      "cell_type": "code",
      "execution_count": null,
      "metadata": {
        "colab": {
          "base_uri": "https://localhost:8080/"
        },
        "id": "EcERPRFBTCKt",
        "outputId": "5eb9dc38-d159-4023-8eaa-7fcb810fd284"
      },
      "outputs": [
        {
          "name": "stdout",
          "output_type": "stream",
          "text": [
            "Drive already mounted at /content/drive; to attempt to forcibly remount, call drive.mount(\"/content/drive\", force_remount=True).\n"
          ]
        }
      ],
      "source": [
        "from google.colab import drive\n",
        "drive.mount('/content/drive')"
      ]
    },
    {
      "cell_type": "code",
      "execution_count": null,
      "metadata": {
        "colab": {
          "base_uri": "https://localhost:8080/"
        },
        "id": "nwofacDZR5fm",
        "outputId": "bf220930-1366-46d8-eaa5-1863656a00a1"
      },
      "outputs": [
        {
          "name": "stdout",
          "output_type": "stream",
          "text": [
            "Found GPU at: /device:GPU:0\n"
          ]
        }
      ],
      "source": [
        "device_name = tf.test.gpu_device_name()\n",
        "if device_name != '/device:GPU:0':\n",
        "  raise SystemError('GPU device not found')\n",
        "print('Found GPU at: {}'.format(device_name))"
      ]
    },
    {
      "cell_type": "code",
      "execution_count": null,
      "metadata": {
        "id": "odqoe7MxSim9"
      },
      "outputs": [],
      "source": [
        "N_AXIS = 4\n",
        "MAX_SEQ_LEN = 128\n",
        "BERT_NAME = 'bert-base-uncased'\n",
        "'''\n",
        "EMOTIONAL AXES:\n",
        "Introversion (I) – Extroversion (E)\n",
        "Intuition (N) – Sensing (S)\n",
        "Thinking (T) – Feeling (F)\n",
        "Judging (J) – Perceiving (P)\n",
        "'''\n",
        "axes = [\"I-E\",\"N-S\",\"T-F\",\"J-P\"]\n",
        "classes = {\"I\":0, \"E\":1, # axis 1\n",
        "           \"N\":0,\"S\":1, # axis 2\n",
        "           \"T\":0, \"F\":1, # axis 3\n",
        "           \"J\":0,\"P\":1} # axis 4"
      ]
    },
    {
      "cell_type": "code",
      "execution_count": null,
      "metadata": {
        "id": "4mudrRNqSwAN"
      },
      "outputs": [],
      "source": [
        "def text_preprocessing(text):\n",
        "    text = text.lower()\n",
        "    text = re.sub('\\[.*?\\]', '', text)\n",
        "    text = re.sub('https?://\\S+|www\\.\\S+', '', text)\n",
        "    text = re.sub('<.*?>+', '', text)\n",
        "    text = re.sub('\\n', '', text)\n",
        "    text = re.sub('\\w*\\d\\w*', '', text)\n",
        "    text.encode('ascii', 'ignore').decode('ascii')\n",
        "    if text.startswith(\"'\"):\n",
        "        text = text[1:-1]\n",
        "    return text"
      ]
    },
    {
      "cell_type": "code",
      "execution_count": null,
      "metadata": {
        "colab": {
          "base_uri": "https://localhost:8080/"
        },
        "id": "1ulmRWkcSyDX",
        "outputId": "6a352f9c-a93f-4f86-e1e3-68f7bdbdc904"
      },
      "outputs": [
        {
          "name": "stdout",
          "output_type": "stream",
          "text": [
            "      Unnamed: 0  type  is_Extrovert  is_Sensing  is_Thinking  is_Judging  \\\n",
            "4558        3696  ISTP             0           1            1           0   \n",
            "2401        7487  INTP             0           0            1           0   \n",
            "6952        7566  ISFP             0           1            0           0   \n",
            "1174         803  INFJ             0           0            0           1   \n",
            "5021         847  INTP             0           0            1           0   \n",
            "...          ...   ...           ...         ...          ...         ...   \n",
            "920         5360  ISTJ             0           1            1           1   \n",
            "864         4416  ENTP             1           0            1           0   \n",
            "808         3790  ENFP             1           0            0           0   \n",
            "6380        8481  ENTP             1           0            1           0   \n",
            "8149        7873  INTP             0           0            1           0   \n",
            "\n",
            "                                                  posts  \\\n",
            "4558  'The martial arts that King Arthur and his kni...   \n",
            "2401  'I am an INTP and love illusionary arts stuff....   \n",
            "6952  They live in Stonypoint?|||I can't remember ha...   \n",
            "1174  'I hardly ever come onto this site anymore, bu...   \n",
            "5021  'College students who don't use the recycling ...   \n",
            "...                                                 ...   \n",
            "920   'I just rewatched this movie (the full movie i...   \n",
            "864   'RuPaul: INFJ Michele Visage: ESFJ  Violet: IS...   \n",
            "808   'Dhani Jones?      I don't know if anyone here...   \n",
            "6380  'Yep.  I'm looking forward to getting through ...   \n",
            "8149  'INTP's and ENTP's have very different functio...   \n",
            "\n",
            "                                            clean_posts  \n",
            "4558   the martial arts that king arthur and his kni...  \n",
            "2401   i am an  and love illusionary arts stuff  i d...  \n",
            "6952  they live in stonypoint  i can t remember haha...  \n",
            "1174   i hardly ever come onto this site anymore  bu...  \n",
            "5021   college students who don t use the recycling ...  \n",
            "...                                                 ...  \n",
            "920    i just rewatched this movie  the full movie i...  \n",
            "864    rupaul   michele visage    violet    ginger  ...  \n",
            "808    dhani jones       i don t know if anyone here...  \n",
            "6380   yep   i m looking forward to getting through ...  \n",
            "8149    s and  s have very different functions   s r...  \n",
            "\n",
            "[8588 rows x 8 columns]\n"
          ]
        }
      ],
      "source": [
        "train_n=6624\n",
        "val_n=1024\n",
        "test_n=1024\n",
        "data = pd.read_csv(\"/content/drive/MyDrive/NLP_PACKAGE/cleaned_data.csv\")\n",
        "data = data.sample(frac=1)\n",
        "labels = []\n",
        "print(data)\n",
        "for personality in data[\"type\"]:\n",
        "    pers_vect = []\n",
        "    for p in personality:\n",
        "        pers_vect.append(classes[p])\n",
        "    labels.append(pers_vect)\n",
        "# sentences = data[\"posts\"].apply(str).apply(lambda x: text_preprocessing(x))\n",
        "sentences = data[\"clean_posts\"]\n",
        "labels = np.array(labels, dtype=\"float32\")\n",
        "train_sentences = sentences[:train_n]\n",
        "y_train = labels[:train_n]\n",
        "val_sentences = sentences[train_n:train_n+val_n]\n",
        "y_val = labels[train_n:train_n+val_n]\n",
        "test_sentences = sentences[train_n+val_n:train_n+val_n+test_n]\n",
        "y_test = labels[train_n+val_n:train_n+val_n+test_n]"
      ]
    },
    {
      "cell_type": "code",
      "execution_count": null,
      "metadata": {
        "id": "WMehX1gGS0O2"
      },
      "outputs": [],
      "source": [
        "def prepare_bert_input(sentences, seq_len, bert_name):\n",
        "    tokenizer = BertTokenizer.from_pretrained(bert_name)\n",
        "    encodings = tokenizer(sentences.tolist(), truncation=True, padding='max_length',\n",
        "                                max_length=seq_len)\n",
        "    input = [np.array(encodings[\"input_ids\"]), np.array(encodings[\"token_type_ids\"]),\n",
        "               np.array(encodings[\"attention_mask\"])]\n",
        "    return input"
      ]
    },
    {
      "cell_type": "code",
      "execution_count": null,
      "metadata": {
        "colab": {
          "base_uri": "https://localhost:8080/",
          "height": 113,
          "referenced_widgets": [
            "76a87085ca0e41b3a27bf1c0f697cf40",
            "271f85d2bd6b474d80c928af4a04f93b",
            "97efa8a6125c46778b44489ff321ed21",
            "f915f20236014419aca6d8b43bce740b",
            "dd0a3c4a6d994f758172b6f434f76ae2",
            "c9cb310b90d244f89acf9b72887ed20c",
            "acc5fdc1a15e41e080dbab16a26b48a9",
            "7b0c6a258c7f45d5b770d4f78f51af78",
            "38c64dd6ad7a4c8c8b6318f3666a9457",
            "f76010ee36ec4c938658a5119719ae44",
            "c3d2daf0c62a45729ec4994fe1514d53",
            "2320cbe8fa9a4f7ab2cbee928048f550",
            "e316e24f32bb4417a4a4bab4732c2a59",
            "b227dca314004925947465e42492c010",
            "50009017c5f14a68b81ace394ad1be5b",
            "2df09ec6f1454fb0b0068a50df8cae80",
            "0588604462f347d8a8b48868920602f4",
            "1621d0c3ae5f4f3a9357f5d6fa99a428",
            "78c78509ceda4009ab25664937008923",
            "a10e834513bf4921b810bcf7dcd9cf6e",
            "fd2882e7615544e0a9574f8ae37f4aca",
            "109186ce872f4e8f9f526b7d9d3aac88",
            "40b0885482f6458f86e4861e32001ecc",
            "e4f478e3076f44d9b8332ff99d79c0c1",
            "65dd4cfbdaac4350ad8bf83839da0863",
            "1e5c3d5416714cbeb743d61a473cf5d4",
            "f446727db6364ff6b0e72b6f0c6b258c",
            "df0d16f43d2b46238005dcf274a654f3",
            "4c70625a8d8047fa98093f50f68b7088",
            "fe6843f6a0e9400aabbd45467536498c",
            "47343d9de7594615ab12c0df3986b35a",
            "c1981687212441febc13826710afcd7c",
            "c46e4da911cd4bcab527570255e8e77a"
          ]
        },
        "id": "k5Uxbp8kUdIw",
        "outputId": "c69b7aab-f8ad-4c60-c4de-60c8e5c88a43"
      },
      "outputs": [
        {
          "data": {
            "application/vnd.jupyter.widget-view+json": {
              "model_id": "76a87085ca0e41b3a27bf1c0f697cf40",
              "version_major": 2,
              "version_minor": 0
            },
            "text/plain": [
              "Downloading (…)solve/main/vocab.txt:   0%|          | 0.00/232k [00:00<?, ?B/s]"
            ]
          },
          "metadata": {},
          "output_type": "display_data"
        },
        {
          "data": {
            "application/vnd.jupyter.widget-view+json": {
              "model_id": "2320cbe8fa9a4f7ab2cbee928048f550",
              "version_major": 2,
              "version_minor": 0
            },
            "text/plain": [
              "Downloading (…)okenizer_config.json:   0%|          | 0.00/28.0 [00:00<?, ?B/s]"
            ]
          },
          "metadata": {},
          "output_type": "display_data"
        },
        {
          "data": {
            "application/vnd.jupyter.widget-view+json": {
              "model_id": "40b0885482f6458f86e4861e32001ecc",
              "version_major": 2,
              "version_minor": 0
            },
            "text/plain": [
              "Downloading (…)lve/main/config.json:   0%|          | 0.00/570 [00:00<?, ?B/s]"
            ]
          },
          "metadata": {},
          "output_type": "display_data"
        }
      ],
      "source": [
        "X_train = prepare_bert_input(train_sentences, MAX_SEQ_LEN, BERT_NAME)\n",
        "X_val = prepare_bert_input(val_sentences, MAX_SEQ_LEN, BERT_NAME)\n",
        "X_test = prepare_bert_input(test_sentences, MAX_SEQ_LEN, BERT_NAME)"
      ]
    },
    {
      "cell_type": "code",
      "execution_count": null,
      "metadata": {
        "colab": {
          "base_uri": "https://localhost:8080/",
          "height": 746,
          "referenced_widgets": [
            "05221a12581b43f3a0836a78320ad97c",
            "f7eb6a5da11f46a69c41967efe681647",
            "5f7657129c0b4392b0076d873343cba1",
            "113eb15d23a44272b6e62e8ce3acba6b",
            "099ec9e20be24ddfb31921a5a06b39c7",
            "04fedd83198d436da86d75623784103b",
            "8b3609b343ce4f918f5dbfa20191ffc1",
            "e21d9da1f4c3460c99b7f7d0a08a19d0",
            "9ae5d5ddb0294fdeb412f0bfe1a6c83e",
            "35974a886da24999a17d365b16821e76",
            "72e208d158094f31b8eec4ad6890156d"
          ]
        },
        "id": "yusI7tz2UfEH",
        "outputId": "3094f9e1-937e-4364-ed49-d7b5e4a13ecf"
      },
      "outputs": [
        {
          "data": {
            "application/vnd.jupyter.widget-view+json": {
              "model_id": "05221a12581b43f3a0836a78320ad97c",
              "version_major": 2,
              "version_minor": 0
            },
            "text/plain": [
              "Downloading tf_model.h5:   0%|          | 0.00/536M [00:00<?, ?B/s]"
            ]
          },
          "metadata": {},
          "output_type": "display_data"
        },
        {
          "name": "stderr",
          "output_type": "stream",
          "text": [
            "Some layers from the model checkpoint at bert-base-uncased were not used when initializing TFBertModel: ['nsp___cls', 'mlm___cls']\n",
            "- This IS expected if you are initializing TFBertModel from the checkpoint of a model trained on another task or with another architecture (e.g. initializing a BertForSequenceClassification model from a BertForPreTraining model).\n",
            "- This IS NOT expected if you are initializing TFBertModel from the checkpoint of a model that you expect to be exactly identical (initializing a BertForSequenceClassification model from a BertForSequenceClassification model).\n",
            "All the layers of TFBertModel were initialized from the model checkpoint at bert-base-uncased.\n",
            "If your task is similar to the task the model of the checkpoint was trained on, you can already use TFBertModel for predictions without further training.\n"
          ]
        },
        {
          "name": "stdout",
          "output_type": "stream",
          "text": [
            "Model: \"model\"\n",
            "__________________________________________________________________________________________________\n",
            " Layer (type)                   Output Shape         Param #     Connected to                     \n",
            "==================================================================================================\n",
            " input_ids (InputLayer)         [(None, 128)]        0           []                               \n",
            "                                                                                                  \n",
            " token_type_ids (InputLayer)    [(None, 128)]        0           []                               \n",
            "                                                                                                  \n",
            " attention_mask (InputLayer)    [(None, 128)]        0           []                               \n",
            "                                                                                                  \n",
            " tf_bert_model (TFBertModel)    TFBaseModelOutputWi  109482240   ['input_ids[0][0]',              \n",
            "                                thPoolingAndCrossAt               'token_type_ids[0][0]',         \n",
            "                                tentions(last_hidde               'attention_mask[0][0]']         \n",
            "                                n_state=(None, 128,                                               \n",
            "                                 768),                                                            \n",
            "                                 pooler_output=(Non                                               \n",
            "                                e, 768),                                                          \n",
            "                                 past_key_values=No                                               \n",
            "                                ne, hidden_states=N                                               \n",
            "                                one, attentions=Non                                               \n",
            "                                e, cross_attentions                                               \n",
            "                                =None)                                                            \n",
            "                                                                                                  \n",
            " global_average_pooling1d (Glob  (None, 768)         0           ['tf_bert_model[0][0]']          \n",
            " alAveragePooling1D)                                                                              \n",
            "                                                                                                  \n",
            " dense (Dense)                  (None, 4)            3076        ['global_average_pooling1d[0][0]'\n",
            "                                                                 ]                                \n",
            "                                                                                                  \n",
            "==================================================================================================\n",
            "Total params: 109,485,316\n",
            "Trainable params: 109,485,316\n",
            "Non-trainable params: 0\n",
            "__________________________________________________________________________________________________\n"
          ]
        }
      ],
      "source": [
        "input_ids = layers.Input(shape=(MAX_SEQ_LEN,), dtype=tf.int32, name='input_ids')\n",
        "input_type = layers.Input(shape=(MAX_SEQ_LEN,), dtype=tf.int32, name='token_type_ids')\n",
        "input_mask = layers.Input(shape=(MAX_SEQ_LEN,), dtype=tf.int32, name='attention_mask')\n",
        "inputs = [input_ids, input_type, input_mask]\n",
        "bert = TFBertModel.from_pretrained(BERT_NAME)\n",
        "bert_outputs = bert(inputs)\n",
        "last_hidden_states = bert_outputs.last_hidden_state\n",
        "avg = layers.GlobalAveragePooling1D()(last_hidden_states)\n",
        "output = layers.Dense(N_AXIS, activation=\"sigmoid\")(avg)\n",
        "model = keras.Model(inputs=inputs, outputs=output)\n",
        "model.summary()"
      ]
    },
    {
      "cell_type": "code",
      "execution_count": null,
      "metadata": {
        "colab": {
          "base_uri": "https://localhost:8080/"
        },
        "id": "hdQY1LzoUiKB",
        "outputId": "dfc9800d-c339-4242-bf11-66dc59204fe0"
      },
      "outputs": [
        {
          "name": "stdout",
          "output_type": "stream",
          "text": [
            "Epoch 1/7\n"
          ]
        },
        {
          "name": "stderr",
          "output_type": "stream",
          "text": [
            "WARNING:tensorflow:Gradients do not exist for variables ['tf_bert_model/bert/pooler/dense/kernel:0', 'tf_bert_model/bert/pooler/dense/bias:0'] when minimizing the loss. If you're using `model.compile()`, did you forget to provide a `loss` argument?\n",
            "WARNING:tensorflow:Gradients do not exist for variables ['tf_bert_model/bert/pooler/dense/kernel:0', 'tf_bert_model/bert/pooler/dense/bias:0'] when minimizing the loss. If you're using `model.compile()`, did you forget to provide a `loss` argument?\n"
          ]
        },
        {
          "name": "stdout",
          "output_type": "stream",
          "text": [
            "\n",
            "Epoch 1: val_auc_1 improved from -inf to 0.64157, saving model to /content/drive/MyDrive/NLP_PACKAGE/berto_weights.h5\n",
            "207/207 - 222s - loss: 0.5670 - auc_1: 0.5578 - binary_accuracy: 0.7061 - val_loss: 0.5529 - val_auc_1: 0.6416 - val_binary_accuracy: 0.7227 - 222s/epoch - 1s/step\n",
            "Epoch 2/7\n",
            "\n",
            "Epoch 2: val_auc_1 improved from 0.64157 to 0.65123, saving model to /content/drive/MyDrive/NLP_PACKAGE/berto_weights.h5\n",
            "207/207 - 188s - loss: 0.5454 - auc_1: 0.6398 - binary_accuracy: 0.7252 - val_loss: 0.5551 - val_auc_1: 0.6512 - val_binary_accuracy: 0.7227 - 188s/epoch - 910ms/step\n",
            "Epoch 3/7\n",
            "\n",
            "Epoch 3: val_auc_1 improved from 0.65123 to 0.65647, saving model to /content/drive/MyDrive/NLP_PACKAGE/berto_weights.h5\n",
            "207/207 - 188s - loss: 0.5189 - auc_1: 0.6998 - binary_accuracy: 0.7431 - val_loss: 0.5635 - val_auc_1: 0.6565 - val_binary_accuracy: 0.7134 - 188s/epoch - 909ms/step\n",
            "Epoch 4/7\n",
            "\n",
            "Epoch 4: val_auc_1 did not improve from 0.65647\n",
            "207/207 - 184s - loss: 0.4740 - auc_1: 0.7676 - binary_accuracy: 0.7755 - val_loss: 0.5670 - val_auc_1: 0.6448 - val_binary_accuracy: 0.7114 - 184s/epoch - 889ms/step\n",
            "Epoch 5/7\n",
            "\n",
            "Epoch 5: val_auc_1 did not improve from 0.65647\n",
            "207/207 - 182s - loss: 0.3933 - auc_1: 0.8496 - binary_accuracy: 0.8214 - val_loss: 0.6788 - val_auc_1: 0.6332 - val_binary_accuracy: 0.6697 - 182s/epoch - 880ms/step\n",
            "Epoch 6/7\n",
            "\n",
            "Epoch 6: val_auc_1 did not improve from 0.65647\n",
            "207/207 - 184s - loss: 0.2646 - auc_1: 0.9354 - binary_accuracy: 0.8904 - val_loss: 0.8008 - val_auc_1: 0.6251 - val_binary_accuracy: 0.6843 - 184s/epoch - 887ms/step\n",
            "Epoch 7/7\n",
            "\n",
            "Epoch 7: val_auc_1 did not improve from 0.65647\n",
            "207/207 - 184s - loss: 0.1516 - auc_1: 0.9801 - binary_accuracy: 0.9418 - val_loss: 1.0932 - val_auc_1: 0.6061 - val_binary_accuracy: 0.6743 - 184s/epoch - 889ms/step\n"
          ]
        },
        {
          "data": {
            "text/plain": [
              "<keras.callbacks.History at 0x7f8df61e0130>"
            ]
          },
          "execution_count": 12,
          "metadata": {},
          "output_type": "execute_result"
        }
      ],
      "source": [
        "max_epochs = 7\n",
        "batch_size = 32\n",
        "opt = tfa.optimizers.RectifiedAdam(learning_rate=3e-5)\n",
        "loss = keras.losses.BinaryCrossentropy()\n",
        "best_weights_file = \"/content/drive/MyDrive/NLP_PACKAGE/berto_weights.h5\"\n",
        "auc = keras.metrics.AUC(multi_label=True, curve=\"ROC\")\n",
        "m_ckpt = ModelCheckpoint(best_weights_file, monitor='val_'+auc.name, mode='max', verbose=2,\n",
        "                          save_weights_only=True, save_best_only=True)\n",
        "model.compile(loss=loss, optimizer=opt, metrics=[auc, keras.metrics.BinaryAccuracy()])\n",
        "model.fit(\n",
        "    X_train, y_train,\n",
        "    validation_data=(X_val, y_val),\n",
        "    epochs=max_epochs,\n",
        "    batch_size=batch_size,\n",
        "    callbacks=[m_ckpt],\n",
        "    verbose=2\n",
        ")"
      ]
    },
    {
      "cell_type": "code",
      "execution_count": null,
      "metadata": {
        "colab": {
          "base_uri": "https://localhost:8080/"
        },
        "id": "4xq-SPF1WcUC",
        "outputId": "bd1fa89a-bd4b-47f4-ad9d-f18e1fae12dd"
      },
      "outputs": [
        {
          "name": "stdout",
          "output_type": "stream",
          "text": [
            "30/30 [==============================] - 11s 266ms/step\n",
            "30/30 [==============================] - 13s 274ms/step - loss: 0.5602 - auc_2: 0.6560 - binary_accuracy: 0.7176\n"
          ]
        },
        {
          "data": {
            "text/plain": [
              "[0.5601601004600525, 0.6560217142105103, 0.7175531983375549]"
            ]
          },
          "execution_count": 13,
          "metadata": {},
          "output_type": "execute_result"
        }
      ],
      "source": [
        "loss = keras.losses.BinaryCrossentropy()\n",
        "best_weights_file = \"/content/drive/MyDrive/NLP_PACKAGE/berto_weights.h5\"\n",
        "model.load_weights(best_weights_file)\n",
        "opt = tfa.optimizers.RectifiedAdam(learning_rate=3e-5)\n",
        "model.compile(loss=loss, optimizer=opt, metrics=[keras.metrics.AUC(multi_label=True, curve=\"ROC\"),\n",
        "                                                  keras.metrics.BinaryAccuracy()])\n",
        "predictions = model.predict(X_test)\n",
        "model.evaluate(X_test, y_test, batch_size=32)"
      ]
    },
    {
      "cell_type": "code",
      "execution_count": null,
      "metadata": {
        "colab": {
          "base_uri": "https://localhost:8080/"
        },
        "id": "Z8_OkRs0WyeM",
        "outputId": "fa03acfa-d747-4448-89bf-f3c44a1c7339"
      },
      "outputs": [
        {
          "name": "stdout",
          "output_type": "stream",
          "text": [
            "1/1 [==============================] - 0s 75ms/step\n",
            "-- comment: I dont like to talk\n",
            "-- personality: ['I', 'N', 'F', 'P']\n",
            "-- scores:[0.29 0.41 0.68 0.81]\n"
          ]
        }
      ],
      "source": [
        "s1 = \"I dont like to talk \"\n",
        "sentences = np.asarray([s1])\n",
        "enc_sentences = prepare_bert_input(sentences, MAX_SEQ_LEN, BERT_NAME)\n",
        "predictions = model.predict(enc_sentences)\n",
        "for sentence, pred in zip(sentences, predictions):\n",
        "    pred_axis = []\n",
        "    mask = (pred > 0.5).astype(bool)\n",
        "    for i in range(len(mask)):\n",
        "        if mask[i]:\n",
        "            pred_axis.append(axes[i][2])\n",
        "        else:\n",
        "            pred_axis.append(axes[i][0])\n",
        "    print('-- comment: '+sentence.replace(\"\\n\", \"\").strip() +\n",
        "          '\\n-- personality: '+str(pred_axis) +\n",
        "          '\\n-- scores:'+str(pred))"
      ]
    }
  ],
  "metadata": {
    "colab": {
      "collapsed_sections": [
        "nKJpUgKO9_pT",
        "j_rn0JQhNghA",
        "GKiiDnyGIyUW"
      ],
      "provenance": []
    },
    "kernelspec": {
      "display_name": "Python 3",
      "language": "python",
      "name": "python3"
    },
    "language_info": {
      "codemirror_mode": {
        "name": "ipython",
        "version": 3
      },
      "file_extension": ".py",
      "mimetype": "text/x-python",
      "name": "python",
      "nbconvert_exporter": "python",
      "pygments_lexer": "ipython3",
      "version": "3.10.9"
    },
    "vscode": {
      "interpreter": {
        "hash": "5833d7f9b8cf9ff4541fa90822f7617489d9a193dee65f379ef3dce41df4a936"
      }
    },
    "widgets": {
      "application/vnd.jupyter.widget-state+json": {
        "0089fd3e4eca48ca9acf9e2688f0e3a1": {
          "model_module": "@jupyter-widgets/controls",
          "model_module_version": "1.5.0",
          "model_name": "HBoxModel",
          "state": {
            "_dom_classes": [],
            "_model_module": "@jupyter-widgets/controls",
            "_model_module_version": "1.5.0",
            "_model_name": "HBoxModel",
            "_view_count": null,
            "_view_module": "@jupyter-widgets/controls",
            "_view_module_version": "1.5.0",
            "_view_name": "HBoxView",
            "box_style": "",
            "children": [
              "IPY_MODEL_8115a68558a140d682c4871f95ba980e",
              "IPY_MODEL_8639530107d2435ba00bc844d1d4c4c1",
              "IPY_MODEL_120aa2cd02ab4f7592b90d66b46372b6"
            ],
            "layout": "IPY_MODEL_58f8673f94ff4cd9b64d3ebd027a74ac"
          }
        },
        "042c69a9488447ac921a02d4eedffe74": {
          "model_module": "@jupyter-widgets/controls",
          "model_module_version": "1.5.0",
          "model_name": "ProgressStyleModel",
          "state": {
            "_model_module": "@jupyter-widgets/controls",
            "_model_module_version": "1.5.0",
            "_model_name": "ProgressStyleModel",
            "_view_count": null,
            "_view_module": "@jupyter-widgets/base",
            "_view_module_version": "1.2.0",
            "_view_name": "StyleView",
            "bar_color": null,
            "description_width": ""
          }
        },
        "07e1b4e027da472486c224fba0baab0d": {
          "model_module": "@jupyter-widgets/controls",
          "model_module_version": "1.5.0",
          "model_name": "DescriptionStyleModel",
          "state": {
            "_model_module": "@jupyter-widgets/controls",
            "_model_module_version": "1.5.0",
            "_model_name": "DescriptionStyleModel",
            "_view_count": null,
            "_view_module": "@jupyter-widgets/base",
            "_view_module_version": "1.2.0",
            "_view_name": "StyleView",
            "description_width": ""
          }
        },
        "0c1fa6405cdb4b8e918cc81cb6b83180": {
          "model_module": "@jupyter-widgets/controls",
          "model_module_version": "1.5.0",
          "model_name": "FloatProgressModel",
          "state": {
            "_dom_classes": [],
            "_model_module": "@jupyter-widgets/controls",
            "_model_module_version": "1.5.0",
            "_model_name": "FloatProgressModel",
            "_view_count": null,
            "_view_module": "@jupyter-widgets/controls",
            "_view_module_version": "1.5.0",
            "_view_name": "ProgressView",
            "bar_style": "success",
            "description": "",
            "description_tooltip": null,
            "layout": "IPY_MODEL_0eb8eaa7f85342939b495f06f3d229a4",
            "max": 60,
            "min": 0,
            "orientation": "horizontal",
            "style": "IPY_MODEL_16837d9a9b13467da81654a9b92365ab",
            "value": 60
          }
        },
        "0d145d6e08254dd58d31c09e2f3dd340": {
          "model_module": "@jupyter-widgets/base",
          "model_module_version": "1.2.0",
          "model_name": "LayoutModel",
          "state": {
            "_model_module": "@jupyter-widgets/base",
            "_model_module_version": "1.2.0",
            "_model_name": "LayoutModel",
            "_view_count": null,
            "_view_module": "@jupyter-widgets/base",
            "_view_module_version": "1.2.0",
            "_view_name": "LayoutView",
            "align_content": null,
            "align_items": null,
            "align_self": null,
            "border": null,
            "bottom": null,
            "display": null,
            "flex": null,
            "flex_flow": null,
            "grid_area": null,
            "grid_auto_columns": null,
            "grid_auto_flow": null,
            "grid_auto_rows": null,
            "grid_column": null,
            "grid_gap": null,
            "grid_row": null,
            "grid_template_areas": null,
            "grid_template_columns": null,
            "grid_template_rows": null,
            "height": null,
            "justify_content": null,
            "justify_items": null,
            "left": null,
            "margin": null,
            "max_height": null,
            "max_width": null,
            "min_height": null,
            "min_width": null,
            "object_fit": null,
            "object_position": null,
            "order": null,
            "overflow": null,
            "overflow_x": null,
            "overflow_y": null,
            "padding": null,
            "right": null,
            "top": null,
            "visibility": null,
            "width": null
          }
        },
        "0d4429b7898244708393fd1b3bd86587": {
          "model_module": "@jupyter-widgets/base",
          "model_module_version": "1.2.0",
          "model_name": "LayoutModel",
          "state": {
            "_model_module": "@jupyter-widgets/base",
            "_model_module_version": "1.2.0",
            "_model_name": "LayoutModel",
            "_view_count": null,
            "_view_module": "@jupyter-widgets/base",
            "_view_module_version": "1.2.0",
            "_view_name": "LayoutView",
            "align_content": null,
            "align_items": null,
            "align_self": null,
            "border": null,
            "bottom": null,
            "display": null,
            "flex": null,
            "flex_flow": null,
            "grid_area": null,
            "grid_auto_columns": null,
            "grid_auto_flow": null,
            "grid_auto_rows": null,
            "grid_column": null,
            "grid_gap": null,
            "grid_row": null,
            "grid_template_areas": null,
            "grid_template_columns": null,
            "grid_template_rows": null,
            "height": null,
            "justify_content": null,
            "justify_items": null,
            "left": null,
            "margin": null,
            "max_height": null,
            "max_width": null,
            "min_height": null,
            "min_width": null,
            "object_fit": null,
            "object_position": null,
            "order": null,
            "overflow": null,
            "overflow_x": null,
            "overflow_y": null,
            "padding": null,
            "right": null,
            "top": null,
            "visibility": null,
            "width": null
          }
        },
        "0d4a8f4dc8ab4140b28ed6bda8b08bc0": {
          "model_module": "@jupyter-widgets/base",
          "model_module_version": "1.2.0",
          "model_name": "LayoutModel",
          "state": {
            "_model_module": "@jupyter-widgets/base",
            "_model_module_version": "1.2.0",
            "_model_name": "LayoutModel",
            "_view_count": null,
            "_view_module": "@jupyter-widgets/base",
            "_view_module_version": "1.2.0",
            "_view_name": "LayoutView",
            "align_content": null,
            "align_items": null,
            "align_self": null,
            "border": null,
            "bottom": null,
            "display": null,
            "flex": null,
            "flex_flow": null,
            "grid_area": null,
            "grid_auto_columns": null,
            "grid_auto_flow": null,
            "grid_auto_rows": null,
            "grid_column": null,
            "grid_gap": null,
            "grid_row": null,
            "grid_template_areas": null,
            "grid_template_columns": null,
            "grid_template_rows": null,
            "height": null,
            "justify_content": null,
            "justify_items": null,
            "left": null,
            "margin": null,
            "max_height": null,
            "max_width": null,
            "min_height": null,
            "min_width": null,
            "object_fit": null,
            "object_position": null,
            "order": null,
            "overflow": null,
            "overflow_x": null,
            "overflow_y": null,
            "padding": null,
            "right": null,
            "top": null,
            "visibility": null,
            "width": null
          }
        },
        "0e86b1bc8963405190d18edf1cea7f98": {
          "model_module": "@jupyter-widgets/base",
          "model_module_version": "1.2.0",
          "model_name": "LayoutModel",
          "state": {
            "_model_module": "@jupyter-widgets/base",
            "_model_module_version": "1.2.0",
            "_model_name": "LayoutModel",
            "_view_count": null,
            "_view_module": "@jupyter-widgets/base",
            "_view_module_version": "1.2.0",
            "_view_name": "LayoutView",
            "align_content": null,
            "align_items": null,
            "align_self": null,
            "border": null,
            "bottom": null,
            "display": null,
            "flex": null,
            "flex_flow": null,
            "grid_area": null,
            "grid_auto_columns": null,
            "grid_auto_flow": null,
            "grid_auto_rows": null,
            "grid_column": null,
            "grid_gap": null,
            "grid_row": null,
            "grid_template_areas": null,
            "grid_template_columns": null,
            "grid_template_rows": null,
            "height": null,
            "justify_content": null,
            "justify_items": null,
            "left": null,
            "margin": null,
            "max_height": null,
            "max_width": null,
            "min_height": null,
            "min_width": null,
            "object_fit": null,
            "object_position": null,
            "order": null,
            "overflow": null,
            "overflow_x": null,
            "overflow_y": null,
            "padding": null,
            "right": null,
            "top": null,
            "visibility": null,
            "width": null
          }
        },
        "0eb8eaa7f85342939b495f06f3d229a4": {
          "model_module": "@jupyter-widgets/base",
          "model_module_version": "1.2.0",
          "model_name": "LayoutModel",
          "state": {
            "_model_module": "@jupyter-widgets/base",
            "_model_module_version": "1.2.0",
            "_model_name": "LayoutModel",
            "_view_count": null,
            "_view_module": "@jupyter-widgets/base",
            "_view_module_version": "1.2.0",
            "_view_name": "LayoutView",
            "align_content": null,
            "align_items": null,
            "align_self": null,
            "border": null,
            "bottom": null,
            "display": null,
            "flex": null,
            "flex_flow": null,
            "grid_area": null,
            "grid_auto_columns": null,
            "grid_auto_flow": null,
            "grid_auto_rows": null,
            "grid_column": null,
            "grid_gap": null,
            "grid_row": null,
            "grid_template_areas": null,
            "grid_template_columns": null,
            "grid_template_rows": null,
            "height": null,
            "justify_content": null,
            "justify_items": null,
            "left": null,
            "margin": null,
            "max_height": null,
            "max_width": null,
            "min_height": null,
            "min_width": null,
            "object_fit": null,
            "object_position": null,
            "order": null,
            "overflow": null,
            "overflow_x": null,
            "overflow_y": null,
            "padding": null,
            "right": null,
            "top": null,
            "visibility": null,
            "width": null
          }
        },
        "11f39b08be1d45138e69eb05cae38d6d": {
          "model_module": "@jupyter-widgets/controls",
          "model_module_version": "1.5.0",
          "model_name": "HTMLModel",
          "state": {
            "_dom_classes": [],
            "_model_module": "@jupyter-widgets/controls",
            "_model_module_version": "1.5.0",
            "_model_name": "HTMLModel",
            "_view_count": null,
            "_view_module": "@jupyter-widgets/controls",
            "_view_module_version": "1.5.0",
            "_view_name": "HTMLView",
            "description": "",
            "description_tooltip": null,
            "layout": "IPY_MODEL_b7e0d499ccec4ba696ee7460930fa935",
            "placeholder": "​",
            "style": "IPY_MODEL_07e1b4e027da472486c224fba0baab0d",
            "value": "Downloading pytorch_model.bin: 100%"
          }
        },
        "11fe8baa378e40828ea829416cdc94b4": {
          "model_module": "@jupyter-widgets/controls",
          "model_module_version": "1.5.0",
          "model_name": "ProgressStyleModel",
          "state": {
            "_model_module": "@jupyter-widgets/controls",
            "_model_module_version": "1.5.0",
            "_model_name": "ProgressStyleModel",
            "_view_count": null,
            "_view_module": "@jupyter-widgets/base",
            "_view_module_version": "1.2.0",
            "_view_name": "StyleView",
            "bar_color": null,
            "description_width": ""
          }
        },
        "120aa2cd02ab4f7592b90d66b46372b6": {
          "model_module": "@jupyter-widgets/controls",
          "model_module_version": "1.5.0",
          "model_name": "HTMLModel",
          "state": {
            "_dom_classes": [],
            "_model_module": "@jupyter-widgets/controls",
            "_model_module_version": "1.5.0",
            "_model_name": "HTMLModel",
            "_view_count": null,
            "_view_module": "@jupyter-widgets/controls",
            "_view_module_version": "1.5.0",
            "_view_name": "HTMLView",
            "description": "",
            "description_tooltip": null,
            "layout": "IPY_MODEL_0e86b1bc8963405190d18edf1cea7f98",
            "placeholder": "​",
            "style": "IPY_MODEL_f3f2ef5fe4f04292b26f485be5510c87",
            "value": " 112/112 [00:00&lt;00:00, 1.90kB/s]"
          }
        },
        "139a17520c2e4271a1225785a3cf78e9": {
          "model_module": "@jupyter-widgets/base",
          "model_module_version": "1.2.0",
          "model_name": "LayoutModel",
          "state": {
            "_model_module": "@jupyter-widgets/base",
            "_model_module_version": "1.2.0",
            "_model_name": "LayoutModel",
            "_view_count": null,
            "_view_module": "@jupyter-widgets/base",
            "_view_module_version": "1.2.0",
            "_view_name": "LayoutView",
            "align_content": null,
            "align_items": null,
            "align_self": null,
            "border": null,
            "bottom": null,
            "display": null,
            "flex": null,
            "flex_flow": null,
            "grid_area": null,
            "grid_auto_columns": null,
            "grid_auto_flow": null,
            "grid_auto_rows": null,
            "grid_column": null,
            "grid_gap": null,
            "grid_row": null,
            "grid_template_areas": null,
            "grid_template_columns": null,
            "grid_template_rows": null,
            "height": null,
            "justify_content": null,
            "justify_items": null,
            "left": null,
            "margin": null,
            "max_height": null,
            "max_width": null,
            "min_height": null,
            "min_width": null,
            "object_fit": null,
            "object_position": null,
            "order": null,
            "overflow": null,
            "overflow_x": null,
            "overflow_y": null,
            "padding": null,
            "right": null,
            "top": null,
            "visibility": null,
            "width": null
          }
        },
        "16837d9a9b13467da81654a9b92365ab": {
          "model_module": "@jupyter-widgets/controls",
          "model_module_version": "1.5.0",
          "model_name": "ProgressStyleModel",
          "state": {
            "_model_module": "@jupyter-widgets/controls",
            "_model_module_version": "1.5.0",
            "_model_name": "ProgressStyleModel",
            "_view_count": null,
            "_view_module": "@jupyter-widgets/base",
            "_view_module_version": "1.2.0",
            "_view_name": "StyleView",
            "bar_color": null,
            "description_width": ""
          }
        },
        "1871f5f3674f4107973bbe5f14fca6f1": {
          "model_module": "@jupyter-widgets/controls",
          "model_module_version": "1.5.0",
          "model_name": "HBoxModel",
          "state": {
            "_dom_classes": [],
            "_model_module": "@jupyter-widgets/controls",
            "_model_module_version": "1.5.0",
            "_model_name": "HBoxModel",
            "_view_count": null,
            "_view_module": "@jupyter-widgets/controls",
            "_view_module_version": "1.5.0",
            "_view_name": "HBoxView",
            "box_style": "",
            "children": [
              "IPY_MODEL_f3c9eca7d2f44a1bb5992df7bf14e8ee",
              "IPY_MODEL_b887f1213b4d49f5bceca7c550caffb4",
              "IPY_MODEL_9cd1d2e024bc4d40a5817a1ad0c35cd5"
            ],
            "layout": "IPY_MODEL_8399c31dcf844de5b25e22701345ef1e"
          }
        },
        "1a622837e24246e38f796eaceef9f486": {
          "model_module": "@jupyter-widgets/controls",
          "model_module_version": "1.5.0",
          "model_name": "DescriptionStyleModel",
          "state": {
            "_model_module": "@jupyter-widgets/controls",
            "_model_module_version": "1.5.0",
            "_model_name": "DescriptionStyleModel",
            "_view_count": null,
            "_view_module": "@jupyter-widgets/base",
            "_view_module_version": "1.2.0",
            "_view_name": "StyleView",
            "description_width": ""
          }
        },
        "1b8d6042bad741529c47520fe3ad7e4a": {
          "model_module": "@jupyter-widgets/base",
          "model_module_version": "1.2.0",
          "model_name": "LayoutModel",
          "state": {
            "_model_module": "@jupyter-widgets/base",
            "_model_module_version": "1.2.0",
            "_model_name": "LayoutModel",
            "_view_count": null,
            "_view_module": "@jupyter-widgets/base",
            "_view_module_version": "1.2.0",
            "_view_name": "LayoutView",
            "align_content": null,
            "align_items": null,
            "align_self": null,
            "border": null,
            "bottom": null,
            "display": null,
            "flex": null,
            "flex_flow": null,
            "grid_area": null,
            "grid_auto_columns": null,
            "grid_auto_flow": null,
            "grid_auto_rows": null,
            "grid_column": null,
            "grid_gap": null,
            "grid_row": null,
            "grid_template_areas": null,
            "grid_template_columns": null,
            "grid_template_rows": null,
            "height": null,
            "justify_content": null,
            "justify_items": null,
            "left": null,
            "margin": null,
            "max_height": null,
            "max_width": null,
            "min_height": null,
            "min_width": null,
            "object_fit": null,
            "object_position": null,
            "order": null,
            "overflow": null,
            "overflow_x": null,
            "overflow_y": null,
            "padding": null,
            "right": null,
            "top": null,
            "visibility": null,
            "width": null
          }
        },
        "1c6e34c078604f0da94a8079c440e0e4": {
          "model_module": "@jupyter-widgets/controls",
          "model_module_version": "1.5.0",
          "model_name": "ProgressStyleModel",
          "state": {
            "_model_module": "@jupyter-widgets/controls",
            "_model_module_version": "1.5.0",
            "_model_name": "ProgressStyleModel",
            "_view_count": null,
            "_view_module": "@jupyter-widgets/base",
            "_view_module_version": "1.2.0",
            "_view_name": "StyleView",
            "bar_color": null,
            "description_width": ""
          }
        },
        "1dab5c66dd444041a75e1ed595068194": {
          "model_module": "@jupyter-widgets/base",
          "model_module_version": "1.2.0",
          "model_name": "LayoutModel",
          "state": {
            "_model_module": "@jupyter-widgets/base",
            "_model_module_version": "1.2.0",
            "_model_name": "LayoutModel",
            "_view_count": null,
            "_view_module": "@jupyter-widgets/base",
            "_view_module_version": "1.2.0",
            "_view_name": "LayoutView",
            "align_content": null,
            "align_items": null,
            "align_self": null,
            "border": null,
            "bottom": null,
            "display": null,
            "flex": null,
            "flex_flow": null,
            "grid_area": null,
            "grid_auto_columns": null,
            "grid_auto_flow": null,
            "grid_auto_rows": null,
            "grid_column": null,
            "grid_gap": null,
            "grid_row": null,
            "grid_template_areas": null,
            "grid_template_columns": null,
            "grid_template_rows": null,
            "height": null,
            "justify_content": null,
            "justify_items": null,
            "left": null,
            "margin": null,
            "max_height": null,
            "max_width": null,
            "min_height": null,
            "min_width": null,
            "object_fit": null,
            "object_position": null,
            "order": null,
            "overflow": null,
            "overflow_x": null,
            "overflow_y": null,
            "padding": null,
            "right": null,
            "top": null,
            "visibility": null,
            "width": null
          }
        },
        "2269c1a35b504b8a8290308ae185d904": {
          "model_module": "@jupyter-widgets/controls",
          "model_module_version": "1.5.0",
          "model_name": "HTMLModel",
          "state": {
            "_dom_classes": [],
            "_model_module": "@jupyter-widgets/controls",
            "_model_module_version": "1.5.0",
            "_model_name": "HTMLModel",
            "_view_count": null,
            "_view_module": "@jupyter-widgets/controls",
            "_view_module_version": "1.5.0",
            "_view_name": "HTMLView",
            "description": "",
            "description_tooltip": null,
            "layout": "IPY_MODEL_f59ff01bb1e14521b4a233b9ec4d3717",
            "placeholder": "​",
            "style": "IPY_MODEL_f227938cbc594b1ea358c78e3d547606",
            "value": "Downloading (…)okenizer_config.json: 100%"
          }
        },
        "22e3e1b279ce451995041a4f40eb63ee": {
          "model_module": "@jupyter-widgets/controls",
          "model_module_version": "1.5.0",
          "model_name": "HBoxModel",
          "state": {
            "_dom_classes": [],
            "_model_module": "@jupyter-widgets/controls",
            "_model_module_version": "1.5.0",
            "_model_name": "HBoxModel",
            "_view_count": null,
            "_view_module": "@jupyter-widgets/controls",
            "_view_module_version": "1.5.0",
            "_view_name": "HBoxView",
            "box_style": "",
            "children": [
              "IPY_MODEL_49ee24aae98142cbad4fdbb393bc4c9d",
              "IPY_MODEL_0c1fa6405cdb4b8e918cc81cb6b83180",
              "IPY_MODEL_3cdc962af4904743b92fdcf383ece447"
            ],
            "layout": "IPY_MODEL_1b8d6042bad741529c47520fe3ad7e4a"
          }
        },
        "26325dcd59df4775a17d3d2a0b6461ba": {
          "model_module": "@jupyter-widgets/base",
          "model_module_version": "1.2.0",
          "model_name": "LayoutModel",
          "state": {
            "_model_module": "@jupyter-widgets/base",
            "_model_module_version": "1.2.0",
            "_model_name": "LayoutModel",
            "_view_count": null,
            "_view_module": "@jupyter-widgets/base",
            "_view_module_version": "1.2.0",
            "_view_name": "LayoutView",
            "align_content": null,
            "align_items": null,
            "align_self": null,
            "border": null,
            "bottom": null,
            "display": null,
            "flex": null,
            "flex_flow": null,
            "grid_area": null,
            "grid_auto_columns": null,
            "grid_auto_flow": null,
            "grid_auto_rows": null,
            "grid_column": null,
            "grid_gap": null,
            "grid_row": null,
            "grid_template_areas": null,
            "grid_template_columns": null,
            "grid_template_rows": null,
            "height": null,
            "justify_content": null,
            "justify_items": null,
            "left": null,
            "margin": null,
            "max_height": null,
            "max_width": null,
            "min_height": null,
            "min_width": null,
            "object_fit": null,
            "object_position": null,
            "order": null,
            "overflow": null,
            "overflow_x": null,
            "overflow_y": null,
            "padding": null,
            "right": null,
            "top": null,
            "visibility": null,
            "width": null
          }
        },
        "323f7237deb2428c8ccd7b476bc87fb4": {
          "model_module": "@jupyter-widgets/base",
          "model_module_version": "1.2.0",
          "model_name": "LayoutModel",
          "state": {
            "_model_module": "@jupyter-widgets/base",
            "_model_module_version": "1.2.0",
            "_model_name": "LayoutModel",
            "_view_count": null,
            "_view_module": "@jupyter-widgets/base",
            "_view_module_version": "1.2.0",
            "_view_name": "LayoutView",
            "align_content": null,
            "align_items": null,
            "align_self": null,
            "border": null,
            "bottom": null,
            "display": null,
            "flex": null,
            "flex_flow": null,
            "grid_area": null,
            "grid_auto_columns": null,
            "grid_auto_flow": null,
            "grid_auto_rows": null,
            "grid_column": null,
            "grid_gap": null,
            "grid_row": null,
            "grid_template_areas": null,
            "grid_template_columns": null,
            "grid_template_rows": null,
            "height": null,
            "justify_content": null,
            "justify_items": null,
            "left": null,
            "margin": null,
            "max_height": null,
            "max_width": null,
            "min_height": null,
            "min_width": null,
            "object_fit": null,
            "object_position": null,
            "order": null,
            "overflow": null,
            "overflow_x": null,
            "overflow_y": null,
            "padding": null,
            "right": null,
            "top": null,
            "visibility": null,
            "width": null
          }
        },
        "32a9d03939a44fa5880acec9cdce2746": {
          "model_module": "@jupyter-widgets/controls",
          "model_module_version": "1.5.0",
          "model_name": "HTMLModel",
          "state": {
            "_dom_classes": [],
            "_model_module": "@jupyter-widgets/controls",
            "_model_module_version": "1.5.0",
            "_model_name": "HTMLModel",
            "_view_count": null,
            "_view_module": "@jupyter-widgets/controls",
            "_view_module_version": "1.5.0",
            "_view_name": "HTMLView",
            "description": "",
            "description_tooltip": null,
            "layout": "IPY_MODEL_6347148c1fe4475488070810ef806203",
            "placeholder": "​",
            "style": "IPY_MODEL_95c74503559d406ab8e6961afa26a5a6",
            "value": "Downloading (…)lve/main/config.json: 100%"
          }
        },
        "33f2fb8b15f04042b7da2681970aa6b6": {
          "model_module": "@jupyter-widgets/base",
          "model_module_version": "1.2.0",
          "model_name": "LayoutModel",
          "state": {
            "_model_module": "@jupyter-widgets/base",
            "_model_module_version": "1.2.0",
            "_model_name": "LayoutModel",
            "_view_count": null,
            "_view_module": "@jupyter-widgets/base",
            "_view_module_version": "1.2.0",
            "_view_name": "LayoutView",
            "align_content": null,
            "align_items": null,
            "align_self": null,
            "border": null,
            "bottom": null,
            "display": null,
            "flex": null,
            "flex_flow": null,
            "grid_area": null,
            "grid_auto_columns": null,
            "grid_auto_flow": null,
            "grid_auto_rows": null,
            "grid_column": null,
            "grid_gap": null,
            "grid_row": null,
            "grid_template_areas": null,
            "grid_template_columns": null,
            "grid_template_rows": null,
            "height": null,
            "justify_content": null,
            "justify_items": null,
            "left": null,
            "margin": null,
            "max_height": null,
            "max_width": null,
            "min_height": null,
            "min_width": null,
            "object_fit": null,
            "object_position": null,
            "order": null,
            "overflow": null,
            "overflow_x": null,
            "overflow_y": null,
            "padding": null,
            "right": null,
            "top": null,
            "visibility": null,
            "width": null
          }
        },
        "33f3b504e9314024add373c325094a92": {
          "model_module": "@jupyter-widgets/base",
          "model_module_version": "1.2.0",
          "model_name": "LayoutModel",
          "state": {
            "_model_module": "@jupyter-widgets/base",
            "_model_module_version": "1.2.0",
            "_model_name": "LayoutModel",
            "_view_count": null,
            "_view_module": "@jupyter-widgets/base",
            "_view_module_version": "1.2.0",
            "_view_name": "LayoutView",
            "align_content": null,
            "align_items": null,
            "align_self": null,
            "border": null,
            "bottom": null,
            "display": null,
            "flex": null,
            "flex_flow": null,
            "grid_area": null,
            "grid_auto_columns": null,
            "grid_auto_flow": null,
            "grid_auto_rows": null,
            "grid_column": null,
            "grid_gap": null,
            "grid_row": null,
            "grid_template_areas": null,
            "grid_template_columns": null,
            "grid_template_rows": null,
            "height": null,
            "justify_content": null,
            "justify_items": null,
            "left": null,
            "margin": null,
            "max_height": null,
            "max_width": null,
            "min_height": null,
            "min_width": null,
            "object_fit": null,
            "object_position": null,
            "order": null,
            "overflow": null,
            "overflow_x": null,
            "overflow_y": null,
            "padding": null,
            "right": null,
            "top": null,
            "visibility": null,
            "width": null
          }
        },
        "37f1fd1d5f334de483280e2e89e0d4b2": {
          "model_module": "@jupyter-widgets/controls",
          "model_module_version": "1.5.0",
          "model_name": "HBoxModel",
          "state": {
            "_dom_classes": [],
            "_model_module": "@jupyter-widgets/controls",
            "_model_module_version": "1.5.0",
            "_model_name": "HBoxModel",
            "_view_count": null,
            "_view_module": "@jupyter-widgets/controls",
            "_view_module_version": "1.5.0",
            "_view_name": "HBoxView",
            "box_style": "",
            "children": [
              "IPY_MODEL_32a9d03939a44fa5880acec9cdce2746",
              "IPY_MODEL_fd832e114e7a4132b4248902ebf482a9",
              "IPY_MODEL_3d92e1833546409085444a67d8ab8d6d"
            ],
            "layout": "IPY_MODEL_ccbcebe1f3f14251bfb60752c48cc181"
          }
        },
        "38954aacda1d4e1a913542eb72376006": {
          "model_module": "@jupyter-widgets/controls",
          "model_module_version": "1.5.0",
          "model_name": "DescriptionStyleModel",
          "state": {
            "_model_module": "@jupyter-widgets/controls",
            "_model_module_version": "1.5.0",
            "_model_name": "DescriptionStyleModel",
            "_view_count": null,
            "_view_module": "@jupyter-widgets/base",
            "_view_module_version": "1.2.0",
            "_view_name": "StyleView",
            "description_width": ""
          }
        },
        "3a9ed297a4e3464ebac8af325292eb07": {
          "model_module": "@jupyter-widgets/controls",
          "model_module_version": "1.5.0",
          "model_name": "HBoxModel",
          "state": {
            "_dom_classes": [],
            "_model_module": "@jupyter-widgets/controls",
            "_model_module_version": "1.5.0",
            "_model_name": "HBoxModel",
            "_view_count": null,
            "_view_module": "@jupyter-widgets/controls",
            "_view_module_version": "1.5.0",
            "_view_name": "HBoxView",
            "box_style": "",
            "children": [
              "IPY_MODEL_cf47e98819b74f29915fead7c1e2e287",
              "IPY_MODEL_fcb36dfdbbf74c06a2de93eb6081bbaf",
              "IPY_MODEL_ca47537fa7a041aa8b9b8ceda8ff4124"
            ],
            "layout": "IPY_MODEL_44dd83e2e72b4eceba46f919d5cc8c23"
          }
        },
        "3cdc962af4904743b92fdcf383ece447": {
          "model_module": "@jupyter-widgets/controls",
          "model_module_version": "1.5.0",
          "model_name": "HTMLModel",
          "state": {
            "_dom_classes": [],
            "_model_module": "@jupyter-widgets/controls",
            "_model_module_version": "1.5.0",
            "_model_name": "HTMLModel",
            "_view_count": null,
            "_view_module": "@jupyter-widgets/controls",
            "_view_module_version": "1.5.0",
            "_view_name": "HTMLView",
            "description": "",
            "description_tooltip": null,
            "layout": "IPY_MODEL_f48e57d2c3334523b6dafb89cf932364",
            "placeholder": "​",
            "style": "IPY_MODEL_783bf092384648499b4417a7c42aba06",
            "value": " 60.0/60.0 [00:00&lt;00:00, 1.55kB/s]"
          }
        },
        "3d92e1833546409085444a67d8ab8d6d": {
          "model_module": "@jupyter-widgets/controls",
          "model_module_version": "1.5.0",
          "model_name": "HTMLModel",
          "state": {
            "_dom_classes": [],
            "_model_module": "@jupyter-widgets/controls",
            "_model_module_version": "1.5.0",
            "_model_name": "HTMLModel",
            "_view_count": null,
            "_view_module": "@jupyter-widgets/controls",
            "_view_module_version": "1.5.0",
            "_view_name": "HTMLView",
            "description": "",
            "description_tooltip": null,
            "layout": "IPY_MODEL_53146ce1d5924fb091c5ef06141debde",
            "placeholder": "​",
            "style": "IPY_MODEL_7455f60f88324c59ab99db74d7068e06",
            "value": " 829/829 [00:00&lt;00:00, 8.89kB/s]"
          }
        },
        "3f3dab1f29164c03acb9e392ca6dd0ac": {
          "model_module": "@jupyter-widgets/base",
          "model_module_version": "1.2.0",
          "model_name": "LayoutModel",
          "state": {
            "_model_module": "@jupyter-widgets/base",
            "_model_module_version": "1.2.0",
            "_model_name": "LayoutModel",
            "_view_count": null,
            "_view_module": "@jupyter-widgets/base",
            "_view_module_version": "1.2.0",
            "_view_name": "LayoutView",
            "align_content": null,
            "align_items": null,
            "align_self": null,
            "border": null,
            "bottom": null,
            "display": null,
            "flex": null,
            "flex_flow": null,
            "grid_area": null,
            "grid_auto_columns": null,
            "grid_auto_flow": null,
            "grid_auto_rows": null,
            "grid_column": null,
            "grid_gap": null,
            "grid_row": null,
            "grid_template_areas": null,
            "grid_template_columns": null,
            "grid_template_rows": null,
            "height": null,
            "justify_content": null,
            "justify_items": null,
            "left": null,
            "margin": null,
            "max_height": null,
            "max_width": null,
            "min_height": null,
            "min_width": null,
            "object_fit": null,
            "object_position": null,
            "order": null,
            "overflow": null,
            "overflow_x": null,
            "overflow_y": null,
            "padding": null,
            "right": null,
            "top": null,
            "visibility": null,
            "width": null
          }
        },
        "443e7d5a12c04e56aec657497dc271db": {
          "model_module": "@jupyter-widgets/controls",
          "model_module_version": "1.5.0",
          "model_name": "DescriptionStyleModel",
          "state": {
            "_model_module": "@jupyter-widgets/controls",
            "_model_module_version": "1.5.0",
            "_model_name": "DescriptionStyleModel",
            "_view_count": null,
            "_view_module": "@jupyter-widgets/base",
            "_view_module_version": "1.2.0",
            "_view_name": "StyleView",
            "description_width": ""
          }
        },
        "44dd83e2e72b4eceba46f919d5cc8c23": {
          "model_module": "@jupyter-widgets/base",
          "model_module_version": "1.2.0",
          "model_name": "LayoutModel",
          "state": {
            "_model_module": "@jupyter-widgets/base",
            "_model_module_version": "1.2.0",
            "_model_name": "LayoutModel",
            "_view_count": null,
            "_view_module": "@jupyter-widgets/base",
            "_view_module_version": "1.2.0",
            "_view_name": "LayoutView",
            "align_content": null,
            "align_items": null,
            "align_self": null,
            "border": null,
            "bottom": null,
            "display": null,
            "flex": null,
            "flex_flow": null,
            "grid_area": null,
            "grid_auto_columns": null,
            "grid_auto_flow": null,
            "grid_auto_rows": null,
            "grid_column": null,
            "grid_gap": null,
            "grid_row": null,
            "grid_template_areas": null,
            "grid_template_columns": null,
            "grid_template_rows": null,
            "height": null,
            "justify_content": null,
            "justify_items": null,
            "left": null,
            "margin": null,
            "max_height": null,
            "max_width": null,
            "min_height": null,
            "min_width": null,
            "object_fit": null,
            "object_position": null,
            "order": null,
            "overflow": null,
            "overflow_x": null,
            "overflow_y": null,
            "padding": null,
            "right": null,
            "top": null,
            "visibility": null,
            "width": null
          }
        },
        "45d11f5463a448b39623fb8a5de69408": {
          "model_module": "@jupyter-widgets/controls",
          "model_module_version": "1.5.0",
          "model_name": "ProgressStyleModel",
          "state": {
            "_model_module": "@jupyter-widgets/controls",
            "_model_module_version": "1.5.0",
            "_model_name": "ProgressStyleModel",
            "_view_count": null,
            "_view_module": "@jupyter-widgets/base",
            "_view_module_version": "1.2.0",
            "_view_name": "StyleView",
            "bar_color": null,
            "description_width": ""
          }
        },
        "47e1497994e74295bc8de7b8464726da": {
          "model_module": "@jupyter-widgets/base",
          "model_module_version": "1.2.0",
          "model_name": "LayoutModel",
          "state": {
            "_model_module": "@jupyter-widgets/base",
            "_model_module_version": "1.2.0",
            "_model_name": "LayoutModel",
            "_view_count": null,
            "_view_module": "@jupyter-widgets/base",
            "_view_module_version": "1.2.0",
            "_view_name": "LayoutView",
            "align_content": null,
            "align_items": null,
            "align_self": null,
            "border": null,
            "bottom": null,
            "display": null,
            "flex": null,
            "flex_flow": null,
            "grid_area": null,
            "grid_auto_columns": null,
            "grid_auto_flow": null,
            "grid_auto_rows": null,
            "grid_column": null,
            "grid_gap": null,
            "grid_row": null,
            "grid_template_areas": null,
            "grid_template_columns": null,
            "grid_template_rows": null,
            "height": null,
            "justify_content": null,
            "justify_items": null,
            "left": null,
            "margin": null,
            "max_height": null,
            "max_width": null,
            "min_height": null,
            "min_width": null,
            "object_fit": null,
            "object_position": null,
            "order": null,
            "overflow": null,
            "overflow_x": null,
            "overflow_y": null,
            "padding": null,
            "right": null,
            "top": null,
            "visibility": null,
            "width": null
          }
        },
        "49ee24aae98142cbad4fdbb393bc4c9d": {
          "model_module": "@jupyter-widgets/controls",
          "model_module_version": "1.5.0",
          "model_name": "HTMLModel",
          "state": {
            "_dom_classes": [],
            "_model_module": "@jupyter-widgets/controls",
            "_model_module_version": "1.5.0",
            "_model_name": "HTMLModel",
            "_view_count": null,
            "_view_module": "@jupyter-widgets/controls",
            "_view_module_version": "1.5.0",
            "_view_name": "HTMLView",
            "description": "",
            "description_tooltip": null,
            "layout": "IPY_MODEL_9dd2c7b81695410a85a0b440abff63e9",
            "placeholder": "​",
            "style": "IPY_MODEL_38954aacda1d4e1a913542eb72376006",
            "value": "Downloading (…)okenizer_config.json: 100%"
          }
        },
        "49fd181e22e64c698de6e8aa577bca3d": {
          "model_module": "@jupyter-widgets/controls",
          "model_module_version": "1.5.0",
          "model_name": "FloatProgressModel",
          "state": {
            "_dom_classes": [],
            "_model_module": "@jupyter-widgets/controls",
            "_model_module_version": "1.5.0",
            "_model_name": "FloatProgressModel",
            "_view_count": null,
            "_view_module": "@jupyter-widgets/controls",
            "_view_module_version": "1.5.0",
            "_view_name": "ProgressView",
            "bar_style": "success",
            "description": "",
            "description_tooltip": null,
            "layout": "IPY_MODEL_960042fa31e54c46abddfb2550838d55",
            "max": 213450,
            "min": 0,
            "orientation": "horizontal",
            "style": "IPY_MODEL_1c6e34c078604f0da94a8079c440e0e4",
            "value": 213450
          }
        },
        "5124780e54d94086a83229f64966d16f": {
          "model_module": "@jupyter-widgets/controls",
          "model_module_version": "1.5.0",
          "model_name": "DescriptionStyleModel",
          "state": {
            "_model_module": "@jupyter-widgets/controls",
            "_model_module_version": "1.5.0",
            "_model_name": "DescriptionStyleModel",
            "_view_count": null,
            "_view_module": "@jupyter-widgets/base",
            "_view_module_version": "1.2.0",
            "_view_name": "StyleView",
            "description_width": ""
          }
        },
        "53146ce1d5924fb091c5ef06141debde": {
          "model_module": "@jupyter-widgets/base",
          "model_module_version": "1.2.0",
          "model_name": "LayoutModel",
          "state": {
            "_model_module": "@jupyter-widgets/base",
            "_model_module_version": "1.2.0",
            "_model_name": "LayoutModel",
            "_view_count": null,
            "_view_module": "@jupyter-widgets/base",
            "_view_module_version": "1.2.0",
            "_view_name": "LayoutView",
            "align_content": null,
            "align_items": null,
            "align_self": null,
            "border": null,
            "bottom": null,
            "display": null,
            "flex": null,
            "flex_flow": null,
            "grid_area": null,
            "grid_auto_columns": null,
            "grid_auto_flow": null,
            "grid_auto_rows": null,
            "grid_column": null,
            "grid_gap": null,
            "grid_row": null,
            "grid_template_areas": null,
            "grid_template_columns": null,
            "grid_template_rows": null,
            "height": null,
            "justify_content": null,
            "justify_items": null,
            "left": null,
            "margin": null,
            "max_height": null,
            "max_width": null,
            "min_height": null,
            "min_width": null,
            "object_fit": null,
            "object_position": null,
            "order": null,
            "overflow": null,
            "overflow_x": null,
            "overflow_y": null,
            "padding": null,
            "right": null,
            "top": null,
            "visibility": null,
            "width": null
          }
        },
        "53fca330744c428cb6e66d81030a8cc9": {
          "model_module": "@jupyter-widgets/base",
          "model_module_version": "1.2.0",
          "model_name": "LayoutModel",
          "state": {
            "_model_module": "@jupyter-widgets/base",
            "_model_module_version": "1.2.0",
            "_model_name": "LayoutModel",
            "_view_count": null,
            "_view_module": "@jupyter-widgets/base",
            "_view_module_version": "1.2.0",
            "_view_name": "LayoutView",
            "align_content": null,
            "align_items": null,
            "align_self": null,
            "border": null,
            "bottom": null,
            "display": null,
            "flex": null,
            "flex_flow": null,
            "grid_area": null,
            "grid_auto_columns": null,
            "grid_auto_flow": null,
            "grid_auto_rows": null,
            "grid_column": null,
            "grid_gap": null,
            "grid_row": null,
            "grid_template_areas": null,
            "grid_template_columns": null,
            "grid_template_rows": null,
            "height": null,
            "justify_content": null,
            "justify_items": null,
            "left": null,
            "margin": null,
            "max_height": null,
            "max_width": null,
            "min_height": null,
            "min_width": null,
            "object_fit": null,
            "object_position": null,
            "order": null,
            "overflow": null,
            "overflow_x": null,
            "overflow_y": null,
            "padding": null,
            "right": null,
            "top": null,
            "visibility": null,
            "width": null
          }
        },
        "58f8673f94ff4cd9b64d3ebd027a74ac": {
          "model_module": "@jupyter-widgets/base",
          "model_module_version": "1.2.0",
          "model_name": "LayoutModel",
          "state": {
            "_model_module": "@jupyter-widgets/base",
            "_model_module_version": "1.2.0",
            "_model_name": "LayoutModel",
            "_view_count": null,
            "_view_module": "@jupyter-widgets/base",
            "_view_module_version": "1.2.0",
            "_view_name": "LayoutView",
            "align_content": null,
            "align_items": null,
            "align_self": null,
            "border": null,
            "bottom": null,
            "display": null,
            "flex": null,
            "flex_flow": null,
            "grid_area": null,
            "grid_auto_columns": null,
            "grid_auto_flow": null,
            "grid_auto_rows": null,
            "grid_column": null,
            "grid_gap": null,
            "grid_row": null,
            "grid_template_areas": null,
            "grid_template_columns": null,
            "grid_template_rows": null,
            "height": null,
            "justify_content": null,
            "justify_items": null,
            "left": null,
            "margin": null,
            "max_height": null,
            "max_width": null,
            "min_height": null,
            "min_width": null,
            "object_fit": null,
            "object_position": null,
            "order": null,
            "overflow": null,
            "overflow_x": null,
            "overflow_y": null,
            "padding": null,
            "right": null,
            "top": null,
            "visibility": null,
            "width": null
          }
        },
        "601ef2fdeddb4742ba306ceaf3374e61": {
          "model_module": "@jupyter-widgets/base",
          "model_module_version": "1.2.0",
          "model_name": "LayoutModel",
          "state": {
            "_model_module": "@jupyter-widgets/base",
            "_model_module_version": "1.2.0",
            "_model_name": "LayoutModel",
            "_view_count": null,
            "_view_module": "@jupyter-widgets/base",
            "_view_module_version": "1.2.0",
            "_view_name": "LayoutView",
            "align_content": null,
            "align_items": null,
            "align_self": null,
            "border": null,
            "bottom": null,
            "display": null,
            "flex": null,
            "flex_flow": null,
            "grid_area": null,
            "grid_auto_columns": null,
            "grid_auto_flow": null,
            "grid_auto_rows": null,
            "grid_column": null,
            "grid_gap": null,
            "grid_row": null,
            "grid_template_areas": null,
            "grid_template_columns": null,
            "grid_template_rows": null,
            "height": null,
            "justify_content": null,
            "justify_items": null,
            "left": null,
            "margin": null,
            "max_height": null,
            "max_width": null,
            "min_height": null,
            "min_width": null,
            "object_fit": null,
            "object_position": null,
            "order": null,
            "overflow": null,
            "overflow_x": null,
            "overflow_y": null,
            "padding": null,
            "right": null,
            "top": null,
            "visibility": null,
            "width": null
          }
        },
        "6347148c1fe4475488070810ef806203": {
          "model_module": "@jupyter-widgets/base",
          "model_module_version": "1.2.0",
          "model_name": "LayoutModel",
          "state": {
            "_model_module": "@jupyter-widgets/base",
            "_model_module_version": "1.2.0",
            "_model_name": "LayoutModel",
            "_view_count": null,
            "_view_module": "@jupyter-widgets/base",
            "_view_module_version": "1.2.0",
            "_view_name": "LayoutView",
            "align_content": null,
            "align_items": null,
            "align_self": null,
            "border": null,
            "bottom": null,
            "display": null,
            "flex": null,
            "flex_flow": null,
            "grid_area": null,
            "grid_auto_columns": null,
            "grid_auto_flow": null,
            "grid_auto_rows": null,
            "grid_column": null,
            "grid_gap": null,
            "grid_row": null,
            "grid_template_areas": null,
            "grid_template_columns": null,
            "grid_template_rows": null,
            "height": null,
            "justify_content": null,
            "justify_items": null,
            "left": null,
            "margin": null,
            "max_height": null,
            "max_width": null,
            "min_height": null,
            "min_width": null,
            "object_fit": null,
            "object_position": null,
            "order": null,
            "overflow": null,
            "overflow_x": null,
            "overflow_y": null,
            "padding": null,
            "right": null,
            "top": null,
            "visibility": null,
            "width": null
          }
        },
        "64100dd783ea4cd898d246844a3b5cec": {
          "model_module": "@jupyter-widgets/base",
          "model_module_version": "1.2.0",
          "model_name": "LayoutModel",
          "state": {
            "_model_module": "@jupyter-widgets/base",
            "_model_module_version": "1.2.0",
            "_model_name": "LayoutModel",
            "_view_count": null,
            "_view_module": "@jupyter-widgets/base",
            "_view_module_version": "1.2.0",
            "_view_name": "LayoutView",
            "align_content": null,
            "align_items": null,
            "align_self": null,
            "border": null,
            "bottom": null,
            "display": null,
            "flex": null,
            "flex_flow": null,
            "grid_area": null,
            "grid_auto_columns": null,
            "grid_auto_flow": null,
            "grid_auto_rows": null,
            "grid_column": null,
            "grid_gap": null,
            "grid_row": null,
            "grid_template_areas": null,
            "grid_template_columns": null,
            "grid_template_rows": null,
            "height": null,
            "justify_content": null,
            "justify_items": null,
            "left": null,
            "margin": null,
            "max_height": null,
            "max_width": null,
            "min_height": null,
            "min_width": null,
            "object_fit": null,
            "object_position": null,
            "order": null,
            "overflow": null,
            "overflow_x": null,
            "overflow_y": null,
            "padding": null,
            "right": null,
            "top": null,
            "visibility": null,
            "width": null
          }
        },
        "695c0de4c6c548ea88da792216372cf4": {
          "model_module": "@jupyter-widgets/controls",
          "model_module_version": "1.5.0",
          "model_name": "HTMLModel",
          "state": {
            "_dom_classes": [],
            "_model_module": "@jupyter-widgets/controls",
            "_model_module_version": "1.5.0",
            "_model_name": "HTMLModel",
            "_view_count": null,
            "_view_module": "@jupyter-widgets/controls",
            "_view_module_version": "1.5.0",
            "_view_name": "HTMLView",
            "description": "",
            "description_tooltip": null,
            "layout": "IPY_MODEL_98a3aa59b9cd45c1947e433652e65157",
            "placeholder": "​",
            "style": "IPY_MODEL_1a622837e24246e38f796eaceef9f486",
            "value": "Downloading (…)solve/main/vocab.txt: 100%"
          }
        },
        "6e5fbce166a64664ba26eaf1f09a6973": {
          "model_module": "@jupyter-widgets/controls",
          "model_module_version": "1.5.0",
          "model_name": "HTMLModel",
          "state": {
            "_dom_classes": [],
            "_model_module": "@jupyter-widgets/controls",
            "_model_module_version": "1.5.0",
            "_model_name": "HTMLModel",
            "_view_count": null,
            "_view_module": "@jupyter-widgets/controls",
            "_view_module_version": "1.5.0",
            "_view_name": "HTMLView",
            "description": "",
            "description_tooltip": null,
            "layout": "IPY_MODEL_ab95bb281bc84444804cfe6124134da0",
            "placeholder": "​",
            "style": "IPY_MODEL_81b9e63f5eaa4723ab9b03dd6de440e6",
            "value": "Downloading (…)lve/main/config.json: 100%"
          }
        },
        "7455f60f88324c59ab99db74d7068e06": {
          "model_module": "@jupyter-widgets/controls",
          "model_module_version": "1.5.0",
          "model_name": "DescriptionStyleModel",
          "state": {
            "_model_module": "@jupyter-widgets/controls",
            "_model_module_version": "1.5.0",
            "_model_name": "DescriptionStyleModel",
            "_view_count": null,
            "_view_module": "@jupyter-widgets/base",
            "_view_module_version": "1.2.0",
            "_view_name": "StyleView",
            "description_width": ""
          }
        },
        "746ffa24f2644007909c6bc889e78317": {
          "model_module": "@jupyter-widgets/controls",
          "model_module_version": "1.5.0",
          "model_name": "HBoxModel",
          "state": {
            "_dom_classes": [],
            "_model_module": "@jupyter-widgets/controls",
            "_model_module_version": "1.5.0",
            "_model_name": "HBoxModel",
            "_view_count": null,
            "_view_module": "@jupyter-widgets/controls",
            "_view_module_version": "1.5.0",
            "_view_name": "HBoxView",
            "box_style": "",
            "children": [
              "IPY_MODEL_11f39b08be1d45138e69eb05cae38d6d",
              "IPY_MODEL_b607305ba3fe4a43bb29ef2906637b73",
              "IPY_MODEL_fd64a29969b742889250f63540236270"
            ],
            "layout": "IPY_MODEL_b91952dd2d6045ab98ec5b1693cc91c5"
          }
        },
        "750d7acd14164d65a090e7f30539fe3f": {
          "model_module": "@jupyter-widgets/controls",
          "model_module_version": "1.5.0",
          "model_name": "ProgressStyleModel",
          "state": {
            "_model_module": "@jupyter-widgets/controls",
            "_model_module_version": "1.5.0",
            "_model_name": "ProgressStyleModel",
            "_view_count": null,
            "_view_module": "@jupyter-widgets/base",
            "_view_module_version": "1.2.0",
            "_view_name": "StyleView",
            "bar_color": null,
            "description_width": ""
          }
        },
        "761411bd08664a328ac0479241bd6194": {
          "model_module": "@jupyter-widgets/controls",
          "model_module_version": "1.5.0",
          "model_name": "HTMLModel",
          "state": {
            "_dom_classes": [],
            "_model_module": "@jupyter-widgets/controls",
            "_model_module_version": "1.5.0",
            "_model_name": "HTMLModel",
            "_view_count": null,
            "_view_module": "@jupyter-widgets/controls",
            "_view_module_version": "1.5.0",
            "_view_name": "HTMLView",
            "description": "",
            "description_tooltip": null,
            "layout": "IPY_MODEL_53fca330744c428cb6e66d81030a8cc9",
            "placeholder": "​",
            "style": "IPY_MODEL_443e7d5a12c04e56aec657497dc271db",
            "value": "Downloading (…)solve/main/vocab.txt: 100%"
          }
        },
        "763705413575433094c9c31ca91b54c9": {
          "model_module": "@jupyter-widgets/base",
          "model_module_version": "1.2.0",
          "model_name": "LayoutModel",
          "state": {
            "_model_module": "@jupyter-widgets/base",
            "_model_module_version": "1.2.0",
            "_model_name": "LayoutModel",
            "_view_count": null,
            "_view_module": "@jupyter-widgets/base",
            "_view_module_version": "1.2.0",
            "_view_name": "LayoutView",
            "align_content": null,
            "align_items": null,
            "align_self": null,
            "border": null,
            "bottom": null,
            "display": null,
            "flex": null,
            "flex_flow": null,
            "grid_area": null,
            "grid_auto_columns": null,
            "grid_auto_flow": null,
            "grid_auto_rows": null,
            "grid_column": null,
            "grid_gap": null,
            "grid_row": null,
            "grid_template_areas": null,
            "grid_template_columns": null,
            "grid_template_rows": null,
            "height": null,
            "justify_content": null,
            "justify_items": null,
            "left": null,
            "margin": null,
            "max_height": null,
            "max_width": null,
            "min_height": null,
            "min_width": null,
            "object_fit": null,
            "object_position": null,
            "order": null,
            "overflow": null,
            "overflow_x": null,
            "overflow_y": null,
            "padding": null,
            "right": null,
            "top": null,
            "visibility": null,
            "width": null
          }
        },
        "779e896f670740448f92887615b99e08": {
          "model_module": "@jupyter-widgets/controls",
          "model_module_version": "1.5.0",
          "model_name": "DescriptionStyleModel",
          "state": {
            "_model_module": "@jupyter-widgets/controls",
            "_model_module_version": "1.5.0",
            "_model_name": "DescriptionStyleModel",
            "_view_count": null,
            "_view_module": "@jupyter-widgets/base",
            "_view_module_version": "1.2.0",
            "_view_name": "StyleView",
            "description_width": ""
          }
        },
        "783bf092384648499b4417a7c42aba06": {
          "model_module": "@jupyter-widgets/controls",
          "model_module_version": "1.5.0",
          "model_name": "DescriptionStyleModel",
          "state": {
            "_model_module": "@jupyter-widgets/controls",
            "_model_module_version": "1.5.0",
            "_model_name": "DescriptionStyleModel",
            "_view_count": null,
            "_view_module": "@jupyter-widgets/base",
            "_view_module_version": "1.2.0",
            "_view_name": "StyleView",
            "description_width": ""
          }
        },
        "7aadb6b79dd645fab1be626ec571953a": {
          "model_module": "@jupyter-widgets/controls",
          "model_module_version": "1.5.0",
          "model_name": "DescriptionStyleModel",
          "state": {
            "_model_module": "@jupyter-widgets/controls",
            "_model_module_version": "1.5.0",
            "_model_name": "DescriptionStyleModel",
            "_view_count": null,
            "_view_module": "@jupyter-widgets/base",
            "_view_module_version": "1.2.0",
            "_view_name": "StyleView",
            "description_width": ""
          }
        },
        "8115a68558a140d682c4871f95ba980e": {
          "model_module": "@jupyter-widgets/controls",
          "model_module_version": "1.5.0",
          "model_name": "HTMLModel",
          "state": {
            "_dom_classes": [],
            "_model_module": "@jupyter-widgets/controls",
            "_model_module_version": "1.5.0",
            "_model_name": "HTMLModel",
            "_view_count": null,
            "_view_module": "@jupyter-widgets/controls",
            "_view_module_version": "1.5.0",
            "_view_name": "HTMLView",
            "description": "",
            "description_tooltip": null,
            "layout": "IPY_MODEL_82cdfe44c70b40d99c85aaa52fe1c6bc",
            "placeholder": "​",
            "style": "IPY_MODEL_bc24b81a7b6f4a22af19aa68c02884b5",
            "value": "Downloading (…)cial_tokens_map.json: 100%"
          }
        },
        "81b9e63f5eaa4723ab9b03dd6de440e6": {
          "model_module": "@jupyter-widgets/controls",
          "model_module_version": "1.5.0",
          "model_name": "DescriptionStyleModel",
          "state": {
            "_model_module": "@jupyter-widgets/controls",
            "_model_module_version": "1.5.0",
            "_model_name": "DescriptionStyleModel",
            "_view_count": null,
            "_view_module": "@jupyter-widgets/base",
            "_view_module_version": "1.2.0",
            "_view_name": "StyleView",
            "description_width": ""
          }
        },
        "81dedd7e1f354bd89ebb7ac1bb5cd7da": {
          "model_module": "@jupyter-widgets/base",
          "model_module_version": "1.2.0",
          "model_name": "LayoutModel",
          "state": {
            "_model_module": "@jupyter-widgets/base",
            "_model_module_version": "1.2.0",
            "_model_name": "LayoutModel",
            "_view_count": null,
            "_view_module": "@jupyter-widgets/base",
            "_view_module_version": "1.2.0",
            "_view_name": "LayoutView",
            "align_content": null,
            "align_items": null,
            "align_self": null,
            "border": null,
            "bottom": null,
            "display": null,
            "flex": null,
            "flex_flow": null,
            "grid_area": null,
            "grid_auto_columns": null,
            "grid_auto_flow": null,
            "grid_auto_rows": null,
            "grid_column": null,
            "grid_gap": null,
            "grid_row": null,
            "grid_template_areas": null,
            "grid_template_columns": null,
            "grid_template_rows": null,
            "height": null,
            "justify_content": null,
            "justify_items": null,
            "left": null,
            "margin": null,
            "max_height": null,
            "max_width": null,
            "min_height": null,
            "min_width": null,
            "object_fit": null,
            "object_position": null,
            "order": null,
            "overflow": null,
            "overflow_x": null,
            "overflow_y": null,
            "padding": null,
            "right": null,
            "top": null,
            "visibility": null,
            "width": null
          }
        },
        "82cdfe44c70b40d99c85aaa52fe1c6bc": {
          "model_module": "@jupyter-widgets/base",
          "model_module_version": "1.2.0",
          "model_name": "LayoutModel",
          "state": {
            "_model_module": "@jupyter-widgets/base",
            "_model_module_version": "1.2.0",
            "_model_name": "LayoutModel",
            "_view_count": null,
            "_view_module": "@jupyter-widgets/base",
            "_view_module_version": "1.2.0",
            "_view_name": "LayoutView",
            "align_content": null,
            "align_items": null,
            "align_self": null,
            "border": null,
            "bottom": null,
            "display": null,
            "flex": null,
            "flex_flow": null,
            "grid_area": null,
            "grid_auto_columns": null,
            "grid_auto_flow": null,
            "grid_auto_rows": null,
            "grid_column": null,
            "grid_gap": null,
            "grid_row": null,
            "grid_template_areas": null,
            "grid_template_columns": null,
            "grid_template_rows": null,
            "height": null,
            "justify_content": null,
            "justify_items": null,
            "left": null,
            "margin": null,
            "max_height": null,
            "max_width": null,
            "min_height": null,
            "min_width": null,
            "object_fit": null,
            "object_position": null,
            "order": null,
            "overflow": null,
            "overflow_x": null,
            "overflow_y": null,
            "padding": null,
            "right": null,
            "top": null,
            "visibility": null,
            "width": null
          }
        },
        "8399c31dcf844de5b25e22701345ef1e": {
          "model_module": "@jupyter-widgets/base",
          "model_module_version": "1.2.0",
          "model_name": "LayoutModel",
          "state": {
            "_model_module": "@jupyter-widgets/base",
            "_model_module_version": "1.2.0",
            "_model_name": "LayoutModel",
            "_view_count": null,
            "_view_module": "@jupyter-widgets/base",
            "_view_module_version": "1.2.0",
            "_view_name": "LayoutView",
            "align_content": null,
            "align_items": null,
            "align_self": null,
            "border": null,
            "bottom": null,
            "display": null,
            "flex": null,
            "flex_flow": null,
            "grid_area": null,
            "grid_auto_columns": null,
            "grid_auto_flow": null,
            "grid_auto_rows": null,
            "grid_column": null,
            "grid_gap": null,
            "grid_row": null,
            "grid_template_areas": null,
            "grid_template_columns": null,
            "grid_template_rows": null,
            "height": null,
            "justify_content": null,
            "justify_items": null,
            "left": null,
            "margin": null,
            "max_height": null,
            "max_width": null,
            "min_height": null,
            "min_width": null,
            "object_fit": null,
            "object_position": null,
            "order": null,
            "overflow": null,
            "overflow_x": null,
            "overflow_y": null,
            "padding": null,
            "right": null,
            "top": null,
            "visibility": null,
            "width": null
          }
        },
        "8639530107d2435ba00bc844d1d4c4c1": {
          "model_module": "@jupyter-widgets/controls",
          "model_module_version": "1.5.0",
          "model_name": "FloatProgressModel",
          "state": {
            "_dom_classes": [],
            "_model_module": "@jupyter-widgets/controls",
            "_model_module_version": "1.5.0",
            "_model_name": "FloatProgressModel",
            "_view_count": null,
            "_view_module": "@jupyter-widgets/controls",
            "_view_module_version": "1.5.0",
            "_view_name": "ProgressView",
            "bar_style": "success",
            "description": "",
            "description_tooltip": null,
            "layout": "IPY_MODEL_26325dcd59df4775a17d3d2a0b6461ba",
            "max": 112,
            "min": 0,
            "orientation": "horizontal",
            "style": "IPY_MODEL_e56f6eabbe2a43f7bc80c51fb83591b2",
            "value": 112
          }
        },
        "87f915e9a24647d6a6e986ed5760d00a": {
          "model_module": "@jupyter-widgets/base",
          "model_module_version": "1.2.0",
          "model_name": "LayoutModel",
          "state": {
            "_model_module": "@jupyter-widgets/base",
            "_model_module_version": "1.2.0",
            "_model_name": "LayoutModel",
            "_view_count": null,
            "_view_module": "@jupyter-widgets/base",
            "_view_module_version": "1.2.0",
            "_view_name": "LayoutView",
            "align_content": null,
            "align_items": null,
            "align_self": null,
            "border": null,
            "bottom": null,
            "display": null,
            "flex": null,
            "flex_flow": null,
            "grid_area": null,
            "grid_auto_columns": null,
            "grid_auto_flow": null,
            "grid_auto_rows": null,
            "grid_column": null,
            "grid_gap": null,
            "grid_row": null,
            "grid_template_areas": null,
            "grid_template_columns": null,
            "grid_template_rows": null,
            "height": null,
            "justify_content": null,
            "justify_items": null,
            "left": null,
            "margin": null,
            "max_height": null,
            "max_width": null,
            "min_height": null,
            "min_width": null,
            "object_fit": null,
            "object_position": null,
            "order": null,
            "overflow": null,
            "overflow_x": null,
            "overflow_y": null,
            "padding": null,
            "right": null,
            "top": null,
            "visibility": null,
            "width": null
          }
        },
        "89cb7ca3329c4ebbb79868fd0884d9b5": {
          "model_module": "@jupyter-widgets/controls",
          "model_module_version": "1.5.0",
          "model_name": "DescriptionStyleModel",
          "state": {
            "_model_module": "@jupyter-widgets/controls",
            "_model_module_version": "1.5.0",
            "_model_name": "DescriptionStyleModel",
            "_view_count": null,
            "_view_module": "@jupyter-widgets/base",
            "_view_module_version": "1.2.0",
            "_view_name": "StyleView",
            "description_width": ""
          }
        },
        "8c837265f4924a54b5d45f658f197bfb": {
          "model_module": "@jupyter-widgets/base",
          "model_module_version": "1.2.0",
          "model_name": "LayoutModel",
          "state": {
            "_model_module": "@jupyter-widgets/base",
            "_model_module_version": "1.2.0",
            "_model_name": "LayoutModel",
            "_view_count": null,
            "_view_module": "@jupyter-widgets/base",
            "_view_module_version": "1.2.0",
            "_view_name": "LayoutView",
            "align_content": null,
            "align_items": null,
            "align_self": null,
            "border": null,
            "bottom": null,
            "display": null,
            "flex": null,
            "flex_flow": null,
            "grid_area": null,
            "grid_auto_columns": null,
            "grid_auto_flow": null,
            "grid_auto_rows": null,
            "grid_column": null,
            "grid_gap": null,
            "grid_row": null,
            "grid_template_areas": null,
            "grid_template_columns": null,
            "grid_template_rows": null,
            "height": null,
            "justify_content": null,
            "justify_items": null,
            "left": null,
            "margin": null,
            "max_height": null,
            "max_width": null,
            "min_height": null,
            "min_width": null,
            "object_fit": null,
            "object_position": null,
            "order": null,
            "overflow": null,
            "overflow_x": null,
            "overflow_y": null,
            "padding": null,
            "right": null,
            "top": null,
            "visibility": null,
            "width": null
          }
        },
        "90fe484ac111434489a4839215c35cad": {
          "model_module": "@jupyter-widgets/controls",
          "model_module_version": "1.5.0",
          "model_name": "DescriptionStyleModel",
          "state": {
            "_model_module": "@jupyter-widgets/controls",
            "_model_module_version": "1.5.0",
            "_model_name": "DescriptionStyleModel",
            "_view_count": null,
            "_view_module": "@jupyter-widgets/base",
            "_view_module_version": "1.2.0",
            "_view_name": "StyleView",
            "description_width": ""
          }
        },
        "95c74503559d406ab8e6961afa26a5a6": {
          "model_module": "@jupyter-widgets/controls",
          "model_module_version": "1.5.0",
          "model_name": "DescriptionStyleModel",
          "state": {
            "_model_module": "@jupyter-widgets/controls",
            "_model_module_version": "1.5.0",
            "_model_name": "DescriptionStyleModel",
            "_view_count": null,
            "_view_module": "@jupyter-widgets/base",
            "_view_module_version": "1.2.0",
            "_view_name": "StyleView",
            "description_width": ""
          }
        },
        "960042fa31e54c46abddfb2550838d55": {
          "model_module": "@jupyter-widgets/base",
          "model_module_version": "1.2.0",
          "model_name": "LayoutModel",
          "state": {
            "_model_module": "@jupyter-widgets/base",
            "_model_module_version": "1.2.0",
            "_model_name": "LayoutModel",
            "_view_count": null,
            "_view_module": "@jupyter-widgets/base",
            "_view_module_version": "1.2.0",
            "_view_name": "LayoutView",
            "align_content": null,
            "align_items": null,
            "align_self": null,
            "border": null,
            "bottom": null,
            "display": null,
            "flex": null,
            "flex_flow": null,
            "grid_area": null,
            "grid_auto_columns": null,
            "grid_auto_flow": null,
            "grid_auto_rows": null,
            "grid_column": null,
            "grid_gap": null,
            "grid_row": null,
            "grid_template_areas": null,
            "grid_template_columns": null,
            "grid_template_rows": null,
            "height": null,
            "justify_content": null,
            "justify_items": null,
            "left": null,
            "margin": null,
            "max_height": null,
            "max_width": null,
            "min_height": null,
            "min_width": null,
            "object_fit": null,
            "object_position": null,
            "order": null,
            "overflow": null,
            "overflow_x": null,
            "overflow_y": null,
            "padding": null,
            "right": null,
            "top": null,
            "visibility": null,
            "width": null
          }
        },
        "986b024a009c46a9b5b958a5c8565567": {
          "model_module": "@jupyter-widgets/controls",
          "model_module_version": "1.5.0",
          "model_name": "DescriptionStyleModel",
          "state": {
            "_model_module": "@jupyter-widgets/controls",
            "_model_module_version": "1.5.0",
            "_model_name": "DescriptionStyleModel",
            "_view_count": null,
            "_view_module": "@jupyter-widgets/base",
            "_view_module_version": "1.2.0",
            "_view_name": "StyleView",
            "description_width": ""
          }
        },
        "98a3aa59b9cd45c1947e433652e65157": {
          "model_module": "@jupyter-widgets/base",
          "model_module_version": "1.2.0",
          "model_name": "LayoutModel",
          "state": {
            "_model_module": "@jupyter-widgets/base",
            "_model_module_version": "1.2.0",
            "_model_name": "LayoutModel",
            "_view_count": null,
            "_view_module": "@jupyter-widgets/base",
            "_view_module_version": "1.2.0",
            "_view_name": "LayoutView",
            "align_content": null,
            "align_items": null,
            "align_self": null,
            "border": null,
            "bottom": null,
            "display": null,
            "flex": null,
            "flex_flow": null,
            "grid_area": null,
            "grid_auto_columns": null,
            "grid_auto_flow": null,
            "grid_auto_rows": null,
            "grid_column": null,
            "grid_gap": null,
            "grid_row": null,
            "grid_template_areas": null,
            "grid_template_columns": null,
            "grid_template_rows": null,
            "height": null,
            "justify_content": null,
            "justify_items": null,
            "left": null,
            "margin": null,
            "max_height": null,
            "max_width": null,
            "min_height": null,
            "min_width": null,
            "object_fit": null,
            "object_position": null,
            "order": null,
            "overflow": null,
            "overflow_x": null,
            "overflow_y": null,
            "padding": null,
            "right": null,
            "top": null,
            "visibility": null,
            "width": null
          }
        },
        "9cd1d2e024bc4d40a5817a1ad0c35cd5": {
          "model_module": "@jupyter-widgets/controls",
          "model_module_version": "1.5.0",
          "model_name": "HTMLModel",
          "state": {
            "_dom_classes": [],
            "_model_module": "@jupyter-widgets/controls",
            "_model_module_version": "1.5.0",
            "_model_name": "HTMLModel",
            "_view_count": null,
            "_view_module": "@jupyter-widgets/controls",
            "_view_module_version": "1.5.0",
            "_view_name": "HTMLView",
            "description": "",
            "description_tooltip": null,
            "layout": "IPY_MODEL_3f3dab1f29164c03acb9e392ca6dd0ac",
            "placeholder": "​",
            "style": "IPY_MODEL_986b024a009c46a9b5b958a5c8565567",
            "value": " 433M/433M [00:05&lt;00:00, 75.6MB/s]"
          }
        },
        "9dd2c7b81695410a85a0b440abff63e9": {
          "model_module": "@jupyter-widgets/base",
          "model_module_version": "1.2.0",
          "model_name": "LayoutModel",
          "state": {
            "_model_module": "@jupyter-widgets/base",
            "_model_module_version": "1.2.0",
            "_model_name": "LayoutModel",
            "_view_count": null,
            "_view_module": "@jupyter-widgets/base",
            "_view_module_version": "1.2.0",
            "_view_name": "LayoutView",
            "align_content": null,
            "align_items": null,
            "align_self": null,
            "border": null,
            "bottom": null,
            "display": null,
            "flex": null,
            "flex_flow": null,
            "grid_area": null,
            "grid_auto_columns": null,
            "grid_auto_flow": null,
            "grid_auto_rows": null,
            "grid_column": null,
            "grid_gap": null,
            "grid_row": null,
            "grid_template_areas": null,
            "grid_template_columns": null,
            "grid_template_rows": null,
            "height": null,
            "justify_content": null,
            "justify_items": null,
            "left": null,
            "margin": null,
            "max_height": null,
            "max_width": null,
            "min_height": null,
            "min_width": null,
            "object_fit": null,
            "object_position": null,
            "order": null,
            "overflow": null,
            "overflow_x": null,
            "overflow_y": null,
            "padding": null,
            "right": null,
            "top": null,
            "visibility": null,
            "width": null
          }
        },
        "a9dc96b33a5f436a85b29c75f77aac85": {
          "model_module": "@jupyter-widgets/controls",
          "model_module_version": "1.5.0",
          "model_name": "HBoxModel",
          "state": {
            "_dom_classes": [],
            "_model_module": "@jupyter-widgets/controls",
            "_model_module_version": "1.5.0",
            "_model_name": "HBoxModel",
            "_view_count": null,
            "_view_module": "@jupyter-widgets/controls",
            "_view_module_version": "1.5.0",
            "_view_name": "HBoxView",
            "box_style": "",
            "children": [
              "IPY_MODEL_6e5fbce166a64664ba26eaf1f09a6973",
              "IPY_MODEL_baa797f012314f2e9ec0f0d1cb798522",
              "IPY_MODEL_af921d772b68415580de7f6bcfb04e32"
            ],
            "layout": "IPY_MODEL_8c837265f4924a54b5d45f658f197bfb"
          }
        },
        "ab95bb281bc84444804cfe6124134da0": {
          "model_module": "@jupyter-widgets/base",
          "model_module_version": "1.2.0",
          "model_name": "LayoutModel",
          "state": {
            "_model_module": "@jupyter-widgets/base",
            "_model_module_version": "1.2.0",
            "_model_name": "LayoutModel",
            "_view_count": null,
            "_view_module": "@jupyter-widgets/base",
            "_view_module_version": "1.2.0",
            "_view_name": "LayoutView",
            "align_content": null,
            "align_items": null,
            "align_self": null,
            "border": null,
            "bottom": null,
            "display": null,
            "flex": null,
            "flex_flow": null,
            "grid_area": null,
            "grid_auto_columns": null,
            "grid_auto_flow": null,
            "grid_auto_rows": null,
            "grid_column": null,
            "grid_gap": null,
            "grid_row": null,
            "grid_template_areas": null,
            "grid_template_columns": null,
            "grid_template_rows": null,
            "height": null,
            "justify_content": null,
            "justify_items": null,
            "left": null,
            "margin": null,
            "max_height": null,
            "max_width": null,
            "min_height": null,
            "min_width": null,
            "object_fit": null,
            "object_position": null,
            "order": null,
            "overflow": null,
            "overflow_x": null,
            "overflow_y": null,
            "padding": null,
            "right": null,
            "top": null,
            "visibility": null,
            "width": null
          }
        },
        "af921d772b68415580de7f6bcfb04e32": {
          "model_module": "@jupyter-widgets/controls",
          "model_module_version": "1.5.0",
          "model_name": "HTMLModel",
          "state": {
            "_dom_classes": [],
            "_model_module": "@jupyter-widgets/controls",
            "_model_module_version": "1.5.0",
            "_model_name": "HTMLModel",
            "_view_count": null,
            "_view_module": "@jupyter-widgets/controls",
            "_view_module_version": "1.5.0",
            "_view_name": "HTMLView",
            "description": "",
            "description_tooltip": null,
            "layout": "IPY_MODEL_e4dbf568e088472fa416cfd82a16a321",
            "placeholder": "​",
            "style": "IPY_MODEL_d9b50136fa7945ecbd87be01747565c8",
            "value": " 998/998 [00:00&lt;00:00, 26.3kB/s]"
          }
        },
        "b4bbeadca3dc4bcfa75655bcd5c56ef2": {
          "model_module": "@jupyter-widgets/controls",
          "model_module_version": "1.5.0",
          "model_name": "DescriptionStyleModel",
          "state": {
            "_model_module": "@jupyter-widgets/controls",
            "_model_module_version": "1.5.0",
            "_model_name": "DescriptionStyleModel",
            "_view_count": null,
            "_view_module": "@jupyter-widgets/base",
            "_view_module_version": "1.2.0",
            "_view_name": "StyleView",
            "description_width": ""
          }
        },
        "b607305ba3fe4a43bb29ef2906637b73": {
          "model_module": "@jupyter-widgets/controls",
          "model_module_version": "1.5.0",
          "model_name": "FloatProgressModel",
          "state": {
            "_dom_classes": [],
            "_model_module": "@jupyter-widgets/controls",
            "_model_module_version": "1.5.0",
            "_model_name": "FloatProgressModel",
            "_view_count": null,
            "_view_module": "@jupyter-widgets/controls",
            "_view_module_version": "1.5.0",
            "_view_name": "ProgressView",
            "bar_style": "success",
            "description": "",
            "description_tooltip": null,
            "layout": "IPY_MODEL_33f3b504e9314024add373c325094a92",
            "max": 1334448817,
            "min": 0,
            "orientation": "horizontal",
            "style": "IPY_MODEL_45d11f5463a448b39623fb8a5de69408",
            "value": 1334448817
          }
        },
        "b746f9f61b2a487d9b23d53176980b32": {
          "model_module": "@jupyter-widgets/base",
          "model_module_version": "1.2.0",
          "model_name": "LayoutModel",
          "state": {
            "_model_module": "@jupyter-widgets/base",
            "_model_module_version": "1.2.0",
            "_model_name": "LayoutModel",
            "_view_count": null,
            "_view_module": "@jupyter-widgets/base",
            "_view_module_version": "1.2.0",
            "_view_name": "LayoutView",
            "align_content": null,
            "align_items": null,
            "align_self": null,
            "border": null,
            "bottom": null,
            "display": null,
            "flex": null,
            "flex_flow": null,
            "grid_area": null,
            "grid_auto_columns": null,
            "grid_auto_flow": null,
            "grid_auto_rows": null,
            "grid_column": null,
            "grid_gap": null,
            "grid_row": null,
            "grid_template_areas": null,
            "grid_template_columns": null,
            "grid_template_rows": null,
            "height": null,
            "justify_content": null,
            "justify_items": null,
            "left": null,
            "margin": null,
            "max_height": null,
            "max_width": null,
            "min_height": null,
            "min_width": null,
            "object_fit": null,
            "object_position": null,
            "order": null,
            "overflow": null,
            "overflow_x": null,
            "overflow_y": null,
            "padding": null,
            "right": null,
            "top": null,
            "visibility": null,
            "width": null
          }
        },
        "b7e0d499ccec4ba696ee7460930fa935": {
          "model_module": "@jupyter-widgets/base",
          "model_module_version": "1.2.0",
          "model_name": "LayoutModel",
          "state": {
            "_model_module": "@jupyter-widgets/base",
            "_model_module_version": "1.2.0",
            "_model_name": "LayoutModel",
            "_view_count": null,
            "_view_module": "@jupyter-widgets/base",
            "_view_module_version": "1.2.0",
            "_view_name": "LayoutView",
            "align_content": null,
            "align_items": null,
            "align_self": null,
            "border": null,
            "bottom": null,
            "display": null,
            "flex": null,
            "flex_flow": null,
            "grid_area": null,
            "grid_auto_columns": null,
            "grid_auto_flow": null,
            "grid_auto_rows": null,
            "grid_column": null,
            "grid_gap": null,
            "grid_row": null,
            "grid_template_areas": null,
            "grid_template_columns": null,
            "grid_template_rows": null,
            "height": null,
            "justify_content": null,
            "justify_items": null,
            "left": null,
            "margin": null,
            "max_height": null,
            "max_width": null,
            "min_height": null,
            "min_width": null,
            "object_fit": null,
            "object_position": null,
            "order": null,
            "overflow": null,
            "overflow_x": null,
            "overflow_y": null,
            "padding": null,
            "right": null,
            "top": null,
            "visibility": null,
            "width": null
          }
        },
        "b887f1213b4d49f5bceca7c550caffb4": {
          "model_module": "@jupyter-widgets/controls",
          "model_module_version": "1.5.0",
          "model_name": "FloatProgressModel",
          "state": {
            "_dom_classes": [],
            "_model_module": "@jupyter-widgets/controls",
            "_model_module_version": "1.5.0",
            "_model_name": "FloatProgressModel",
            "_view_count": null,
            "_view_module": "@jupyter-widgets/controls",
            "_view_module_version": "1.5.0",
            "_view_name": "ProgressView",
            "bar_style": "success",
            "description": "",
            "description_tooltip": null,
            "layout": "IPY_MODEL_33f2fb8b15f04042b7da2681970aa6b6",
            "max": 433316646,
            "min": 0,
            "orientation": "horizontal",
            "style": "IPY_MODEL_042c69a9488447ac921a02d4eedffe74",
            "value": 433316646
          }
        },
        "b91952dd2d6045ab98ec5b1693cc91c5": {
          "model_module": "@jupyter-widgets/base",
          "model_module_version": "1.2.0",
          "model_name": "LayoutModel",
          "state": {
            "_model_module": "@jupyter-widgets/base",
            "_model_module_version": "1.2.0",
            "_model_name": "LayoutModel",
            "_view_count": null,
            "_view_module": "@jupyter-widgets/base",
            "_view_module_version": "1.2.0",
            "_view_name": "LayoutView",
            "align_content": null,
            "align_items": null,
            "align_self": null,
            "border": null,
            "bottom": null,
            "display": null,
            "flex": null,
            "flex_flow": null,
            "grid_area": null,
            "grid_auto_columns": null,
            "grid_auto_flow": null,
            "grid_auto_rows": null,
            "grid_column": null,
            "grid_gap": null,
            "grid_row": null,
            "grid_template_areas": null,
            "grid_template_columns": null,
            "grid_template_rows": null,
            "height": null,
            "justify_content": null,
            "justify_items": null,
            "left": null,
            "margin": null,
            "max_height": null,
            "max_width": null,
            "min_height": null,
            "min_width": null,
            "object_fit": null,
            "object_position": null,
            "order": null,
            "overflow": null,
            "overflow_x": null,
            "overflow_y": null,
            "padding": null,
            "right": null,
            "top": null,
            "visibility": null,
            "width": null
          }
        },
        "baa797f012314f2e9ec0f0d1cb798522": {
          "model_module": "@jupyter-widgets/controls",
          "model_module_version": "1.5.0",
          "model_name": "FloatProgressModel",
          "state": {
            "_dom_classes": [],
            "_model_module": "@jupyter-widgets/controls",
            "_model_module_version": "1.5.0",
            "_model_name": "FloatProgressModel",
            "_view_count": null,
            "_view_module": "@jupyter-widgets/controls",
            "_view_module_version": "1.5.0",
            "_view_name": "ProgressView",
            "bar_style": "success",
            "description": "",
            "description_tooltip": null,
            "layout": "IPY_MODEL_763705413575433094c9c31ca91b54c9",
            "max": 998,
            "min": 0,
            "orientation": "horizontal",
            "style": "IPY_MODEL_11fe8baa378e40828ea829416cdc94b4",
            "value": 998
          }
        },
        "bc24b81a7b6f4a22af19aa68c02884b5": {
          "model_module": "@jupyter-widgets/controls",
          "model_module_version": "1.5.0",
          "model_name": "DescriptionStyleModel",
          "state": {
            "_model_module": "@jupyter-widgets/controls",
            "_model_module_version": "1.5.0",
            "_model_name": "DescriptionStyleModel",
            "_view_count": null,
            "_view_module": "@jupyter-widgets/base",
            "_view_module_version": "1.2.0",
            "_view_name": "StyleView",
            "description_width": ""
          }
        },
        "c3d830420abf4b0a848047d6e8ad080b": {
          "model_module": "@jupyter-widgets/controls",
          "model_module_version": "1.5.0",
          "model_name": "ProgressStyleModel",
          "state": {
            "_model_module": "@jupyter-widgets/controls",
            "_model_module_version": "1.5.0",
            "_model_name": "ProgressStyleModel",
            "_view_count": null,
            "_view_module": "@jupyter-widgets/base",
            "_view_module_version": "1.2.0",
            "_view_name": "StyleView",
            "bar_color": null,
            "description_width": ""
          }
        },
        "c86ca809e3af4a198a219d49f400e392": {
          "model_module": "@jupyter-widgets/controls",
          "model_module_version": "1.5.0",
          "model_name": "HBoxModel",
          "state": {
            "_dom_classes": [],
            "_model_module": "@jupyter-widgets/controls",
            "_model_module_version": "1.5.0",
            "_model_name": "HBoxModel",
            "_view_count": null,
            "_view_module": "@jupyter-widgets/controls",
            "_view_module_version": "1.5.0",
            "_view_name": "HBoxView",
            "box_style": "",
            "children": [
              "IPY_MODEL_2269c1a35b504b8a8290308ae185d904",
              "IPY_MODEL_e06845cbc12a4349a5441d83455bab77",
              "IPY_MODEL_e71fd8d0706749b0804ae38e48830921"
            ],
            "layout": "IPY_MODEL_601ef2fdeddb4742ba306ceaf3374e61"
          }
        },
        "c9042952310c499a8554544fe65588c0": {
          "model_module": "@jupyter-widgets/controls",
          "model_module_version": "1.5.0",
          "model_name": "FloatProgressModel",
          "state": {
            "_dom_classes": [],
            "_model_module": "@jupyter-widgets/controls",
            "_model_module_version": "1.5.0",
            "_model_name": "FloatProgressModel",
            "_view_count": null,
            "_view_module": "@jupyter-widgets/controls",
            "_view_module_version": "1.5.0",
            "_view_name": "ProgressView",
            "bar_style": "success",
            "description": "",
            "description_tooltip": null,
            "layout": "IPY_MODEL_81dedd7e1f354bd89ebb7ac1bb5cd7da",
            "max": 213450,
            "min": 0,
            "orientation": "horizontal",
            "style": "IPY_MODEL_f472beb5b8c448038e5d5d259b7af4a5",
            "value": 213450
          }
        },
        "ca47537fa7a041aa8b9b8ceda8ff4124": {
          "model_module": "@jupyter-widgets/controls",
          "model_module_version": "1.5.0",
          "model_name": "HTMLModel",
          "state": {
            "_dom_classes": [],
            "_model_module": "@jupyter-widgets/controls",
            "_model_module_version": "1.5.0",
            "_model_name": "HTMLModel",
            "_view_count": null,
            "_view_module": "@jupyter-widgets/controls",
            "_view_module_version": "1.5.0",
            "_view_name": "HTMLView",
            "description": "",
            "description_tooltip": null,
            "layout": "IPY_MODEL_139a17520c2e4271a1225785a3cf78e9",
            "placeholder": "​",
            "style": "IPY_MODEL_ed1ff54758eb4d91a355ab5c52fc9de1",
            "value": " 2.00/2.00 [00:00&lt;00:00, 32.6B/s]"
          }
        },
        "ccbcebe1f3f14251bfb60752c48cc181": {
          "model_module": "@jupyter-widgets/base",
          "model_module_version": "1.2.0",
          "model_name": "LayoutModel",
          "state": {
            "_model_module": "@jupyter-widgets/base",
            "_model_module_version": "1.2.0",
            "_model_name": "LayoutModel",
            "_view_count": null,
            "_view_module": "@jupyter-widgets/base",
            "_view_module_version": "1.2.0",
            "_view_name": "LayoutView",
            "align_content": null,
            "align_items": null,
            "align_self": null,
            "border": null,
            "bottom": null,
            "display": null,
            "flex": null,
            "flex_flow": null,
            "grid_area": null,
            "grid_auto_columns": null,
            "grid_auto_flow": null,
            "grid_auto_rows": null,
            "grid_column": null,
            "grid_gap": null,
            "grid_row": null,
            "grid_template_areas": null,
            "grid_template_columns": null,
            "grid_template_rows": null,
            "height": null,
            "justify_content": null,
            "justify_items": null,
            "left": null,
            "margin": null,
            "max_height": null,
            "max_width": null,
            "min_height": null,
            "min_width": null,
            "object_fit": null,
            "object_position": null,
            "order": null,
            "overflow": null,
            "overflow_x": null,
            "overflow_y": null,
            "padding": null,
            "right": null,
            "top": null,
            "visibility": null,
            "width": null
          }
        },
        "cf47e98819b74f29915fead7c1e2e287": {
          "model_module": "@jupyter-widgets/controls",
          "model_module_version": "1.5.0",
          "model_name": "HTMLModel",
          "state": {
            "_dom_classes": [],
            "_model_module": "@jupyter-widgets/controls",
            "_model_module_version": "1.5.0",
            "_model_name": "HTMLModel",
            "_view_count": null,
            "_view_module": "@jupyter-widgets/controls",
            "_view_module_version": "1.5.0",
            "_view_name": "HTMLView",
            "description": "",
            "description_tooltip": null,
            "layout": "IPY_MODEL_323f7237deb2428c8ccd7b476bc87fb4",
            "placeholder": "​",
            "style": "IPY_MODEL_7aadb6b79dd645fab1be626ec571953a",
            "value": "Downloading (…)in/added_tokens.json: 100%"
          }
        },
        "cf4fc8c81f334e52b4c90c4e9db2e890": {
          "model_module": "@jupyter-widgets/base",
          "model_module_version": "1.2.0",
          "model_name": "LayoutModel",
          "state": {
            "_model_module": "@jupyter-widgets/base",
            "_model_module_version": "1.2.0",
            "_model_name": "LayoutModel",
            "_view_count": null,
            "_view_module": "@jupyter-widgets/base",
            "_view_module_version": "1.2.0",
            "_view_name": "LayoutView",
            "align_content": null,
            "align_items": null,
            "align_self": null,
            "border": null,
            "bottom": null,
            "display": null,
            "flex": null,
            "flex_flow": null,
            "grid_area": null,
            "grid_auto_columns": null,
            "grid_auto_flow": null,
            "grid_auto_rows": null,
            "grid_column": null,
            "grid_gap": null,
            "grid_row": null,
            "grid_template_areas": null,
            "grid_template_columns": null,
            "grid_template_rows": null,
            "height": null,
            "justify_content": null,
            "justify_items": null,
            "left": null,
            "margin": null,
            "max_height": null,
            "max_width": null,
            "min_height": null,
            "min_width": null,
            "object_fit": null,
            "object_position": null,
            "order": null,
            "overflow": null,
            "overflow_x": null,
            "overflow_y": null,
            "padding": null,
            "right": null,
            "top": null,
            "visibility": null,
            "width": null
          }
        },
        "d8bd61b8e25b4b17a546cfbb1c608869": {
          "model_module": "@jupyter-widgets/controls",
          "model_module_version": "1.5.0",
          "model_name": "HBoxModel",
          "state": {
            "_dom_classes": [],
            "_model_module": "@jupyter-widgets/controls",
            "_model_module_version": "1.5.0",
            "_model_name": "HBoxModel",
            "_view_count": null,
            "_view_module": "@jupyter-widgets/controls",
            "_view_module_version": "1.5.0",
            "_view_name": "HBoxView",
            "box_style": "",
            "children": [
              "IPY_MODEL_761411bd08664a328ac0479241bd6194",
              "IPY_MODEL_49fd181e22e64c698de6e8aa577bca3d",
              "IPY_MODEL_e938f7f0f6b54d64b71ff3c586973106"
            ],
            "layout": "IPY_MODEL_b746f9f61b2a487d9b23d53176980b32"
          }
        },
        "d9113d0a87ec4258a77ec9f6def4d379": {
          "model_module": "@jupyter-widgets/base",
          "model_module_version": "1.2.0",
          "model_name": "LayoutModel",
          "state": {
            "_model_module": "@jupyter-widgets/base",
            "_model_module_version": "1.2.0",
            "_model_name": "LayoutModel",
            "_view_count": null,
            "_view_module": "@jupyter-widgets/base",
            "_view_module_version": "1.2.0",
            "_view_name": "LayoutView",
            "align_content": null,
            "align_items": null,
            "align_self": null,
            "border": null,
            "bottom": null,
            "display": null,
            "flex": null,
            "flex_flow": null,
            "grid_area": null,
            "grid_auto_columns": null,
            "grid_auto_flow": null,
            "grid_auto_rows": null,
            "grid_column": null,
            "grid_gap": null,
            "grid_row": null,
            "grid_template_areas": null,
            "grid_template_columns": null,
            "grid_template_rows": null,
            "height": null,
            "justify_content": null,
            "justify_items": null,
            "left": null,
            "margin": null,
            "max_height": null,
            "max_width": null,
            "min_height": null,
            "min_width": null,
            "object_fit": null,
            "object_position": null,
            "order": null,
            "overflow": null,
            "overflow_x": null,
            "overflow_y": null,
            "padding": null,
            "right": null,
            "top": null,
            "visibility": null,
            "width": null
          }
        },
        "d9b50136fa7945ecbd87be01747565c8": {
          "model_module": "@jupyter-widgets/controls",
          "model_module_version": "1.5.0",
          "model_name": "DescriptionStyleModel",
          "state": {
            "_model_module": "@jupyter-widgets/controls",
            "_model_module_version": "1.5.0",
            "_model_name": "DescriptionStyleModel",
            "_view_count": null,
            "_view_module": "@jupyter-widgets/base",
            "_view_module_version": "1.2.0",
            "_view_name": "StyleView",
            "description_width": ""
          }
        },
        "e06845cbc12a4349a5441d83455bab77": {
          "model_module": "@jupyter-widgets/controls",
          "model_module_version": "1.5.0",
          "model_name": "FloatProgressModel",
          "state": {
            "_dom_classes": [],
            "_model_module": "@jupyter-widgets/controls",
            "_model_module_version": "1.5.0",
            "_model_name": "FloatProgressModel",
            "_view_count": null,
            "_view_module": "@jupyter-widgets/controls",
            "_view_module_version": "1.5.0",
            "_view_name": "ProgressView",
            "bar_style": "success",
            "description": "",
            "description_tooltip": null,
            "layout": "IPY_MODEL_1dab5c66dd444041a75e1ed595068194",
            "max": 59,
            "min": 0,
            "orientation": "horizontal",
            "style": "IPY_MODEL_c3d830420abf4b0a848047d6e8ad080b",
            "value": 59
          }
        },
        "e4dbf568e088472fa416cfd82a16a321": {
          "model_module": "@jupyter-widgets/base",
          "model_module_version": "1.2.0",
          "model_name": "LayoutModel",
          "state": {
            "_model_module": "@jupyter-widgets/base",
            "_model_module_version": "1.2.0",
            "_model_name": "LayoutModel",
            "_view_count": null,
            "_view_module": "@jupyter-widgets/base",
            "_view_module_version": "1.2.0",
            "_view_name": "LayoutView",
            "align_content": null,
            "align_items": null,
            "align_self": null,
            "border": null,
            "bottom": null,
            "display": null,
            "flex": null,
            "flex_flow": null,
            "grid_area": null,
            "grid_auto_columns": null,
            "grid_auto_flow": null,
            "grid_auto_rows": null,
            "grid_column": null,
            "grid_gap": null,
            "grid_row": null,
            "grid_template_areas": null,
            "grid_template_columns": null,
            "grid_template_rows": null,
            "height": null,
            "justify_content": null,
            "justify_items": null,
            "left": null,
            "margin": null,
            "max_height": null,
            "max_width": null,
            "min_height": null,
            "min_width": null,
            "object_fit": null,
            "object_position": null,
            "order": null,
            "overflow": null,
            "overflow_x": null,
            "overflow_y": null,
            "padding": null,
            "right": null,
            "top": null,
            "visibility": null,
            "width": null
          }
        },
        "e56f6eabbe2a43f7bc80c51fb83591b2": {
          "model_module": "@jupyter-widgets/controls",
          "model_module_version": "1.5.0",
          "model_name": "ProgressStyleModel",
          "state": {
            "_model_module": "@jupyter-widgets/controls",
            "_model_module_version": "1.5.0",
            "_model_name": "ProgressStyleModel",
            "_view_count": null,
            "_view_module": "@jupyter-widgets/base",
            "_view_module_version": "1.2.0",
            "_view_name": "StyleView",
            "bar_color": null,
            "description_width": ""
          }
        },
        "e71fd8d0706749b0804ae38e48830921": {
          "model_module": "@jupyter-widgets/controls",
          "model_module_version": "1.5.0",
          "model_name": "HTMLModel",
          "state": {
            "_dom_classes": [],
            "_model_module": "@jupyter-widgets/controls",
            "_model_module_version": "1.5.0",
            "_model_name": "HTMLModel",
            "_view_count": null,
            "_view_module": "@jupyter-widgets/controls",
            "_view_module_version": "1.5.0",
            "_view_name": "HTMLView",
            "description": "",
            "description_tooltip": null,
            "layout": "IPY_MODEL_0d4a8f4dc8ab4140b28ed6bda8b08bc0",
            "placeholder": "​",
            "style": "IPY_MODEL_89cb7ca3329c4ebbb79868fd0884d9b5",
            "value": " 59.0/59.0 [00:00&lt;00:00, 486B/s]"
          }
        },
        "e938f7f0f6b54d64b71ff3c586973106": {
          "model_module": "@jupyter-widgets/controls",
          "model_module_version": "1.5.0",
          "model_name": "HTMLModel",
          "state": {
            "_dom_classes": [],
            "_model_module": "@jupyter-widgets/controls",
            "_model_module_version": "1.5.0",
            "_model_name": "HTMLModel",
            "_view_count": null,
            "_view_module": "@jupyter-widgets/controls",
            "_view_module_version": "1.5.0",
            "_view_name": "HTMLView",
            "description": "",
            "description_tooltip": null,
            "layout": "IPY_MODEL_87f915e9a24647d6a6e986ed5760d00a",
            "placeholder": "​",
            "style": "IPY_MODEL_5124780e54d94086a83229f64966d16f",
            "value": " 213k/213k [00:00&lt;00:00, 290kB/s]"
          }
        },
        "ed1ff54758eb4d91a355ab5c52fc9de1": {
          "model_module": "@jupyter-widgets/controls",
          "model_module_version": "1.5.0",
          "model_name": "DescriptionStyleModel",
          "state": {
            "_model_module": "@jupyter-widgets/controls",
            "_model_module_version": "1.5.0",
            "_model_name": "DescriptionStyleModel",
            "_view_count": null,
            "_view_module": "@jupyter-widgets/base",
            "_view_module_version": "1.2.0",
            "_view_name": "StyleView",
            "description_width": ""
          }
        },
        "ed84b9a1373b4efa9ebd54c9b1b6665a": {
          "model_module": "@jupyter-widgets/controls",
          "model_module_version": "1.5.0",
          "model_name": "ProgressStyleModel",
          "state": {
            "_model_module": "@jupyter-widgets/controls",
            "_model_module_version": "1.5.0",
            "_model_name": "ProgressStyleModel",
            "_view_count": null,
            "_view_module": "@jupyter-widgets/base",
            "_view_module_version": "1.2.0",
            "_view_name": "StyleView",
            "bar_color": null,
            "description_width": ""
          }
        },
        "f227938cbc594b1ea358c78e3d547606": {
          "model_module": "@jupyter-widgets/controls",
          "model_module_version": "1.5.0",
          "model_name": "DescriptionStyleModel",
          "state": {
            "_model_module": "@jupyter-widgets/controls",
            "_model_module_version": "1.5.0",
            "_model_name": "DescriptionStyleModel",
            "_view_count": null,
            "_view_module": "@jupyter-widgets/base",
            "_view_module_version": "1.2.0",
            "_view_name": "StyleView",
            "description_width": ""
          }
        },
        "f3c9eca7d2f44a1bb5992df7bf14e8ee": {
          "model_module": "@jupyter-widgets/controls",
          "model_module_version": "1.5.0",
          "model_name": "HTMLModel",
          "state": {
            "_dom_classes": [],
            "_model_module": "@jupyter-widgets/controls",
            "_model_module_version": "1.5.0",
            "_model_name": "HTMLModel",
            "_view_count": null,
            "_view_module": "@jupyter-widgets/controls",
            "_view_module_version": "1.5.0",
            "_view_name": "HTMLView",
            "description": "",
            "description_tooltip": null,
            "layout": "IPY_MODEL_cf4fc8c81f334e52b4c90c4e9db2e890",
            "placeholder": "​",
            "style": "IPY_MODEL_b4bbeadca3dc4bcfa75655bcd5c56ef2",
            "value": "Downloading pytorch_model.bin: 100%"
          }
        },
        "f3f2ef5fe4f04292b26f485be5510c87": {
          "model_module": "@jupyter-widgets/controls",
          "model_module_version": "1.5.0",
          "model_name": "DescriptionStyleModel",
          "state": {
            "_model_module": "@jupyter-widgets/controls",
            "_model_module_version": "1.5.0",
            "_model_name": "DescriptionStyleModel",
            "_view_count": null,
            "_view_module": "@jupyter-widgets/base",
            "_view_module_version": "1.2.0",
            "_view_name": "StyleView",
            "description_width": ""
          }
        },
        "f472beb5b8c448038e5d5d259b7af4a5": {
          "model_module": "@jupyter-widgets/controls",
          "model_module_version": "1.5.0",
          "model_name": "ProgressStyleModel",
          "state": {
            "_model_module": "@jupyter-widgets/controls",
            "_model_module_version": "1.5.0",
            "_model_name": "ProgressStyleModel",
            "_view_count": null,
            "_view_module": "@jupyter-widgets/base",
            "_view_module_version": "1.2.0",
            "_view_name": "StyleView",
            "bar_color": null,
            "description_width": ""
          }
        },
        "f48e57d2c3334523b6dafb89cf932364": {
          "model_module": "@jupyter-widgets/base",
          "model_module_version": "1.2.0",
          "model_name": "LayoutModel",
          "state": {
            "_model_module": "@jupyter-widgets/base",
            "_model_module_version": "1.2.0",
            "_model_name": "LayoutModel",
            "_view_count": null,
            "_view_module": "@jupyter-widgets/base",
            "_view_module_version": "1.2.0",
            "_view_name": "LayoutView",
            "align_content": null,
            "align_items": null,
            "align_self": null,
            "border": null,
            "bottom": null,
            "display": null,
            "flex": null,
            "flex_flow": null,
            "grid_area": null,
            "grid_auto_columns": null,
            "grid_auto_flow": null,
            "grid_auto_rows": null,
            "grid_column": null,
            "grid_gap": null,
            "grid_row": null,
            "grid_template_areas": null,
            "grid_template_columns": null,
            "grid_template_rows": null,
            "height": null,
            "justify_content": null,
            "justify_items": null,
            "left": null,
            "margin": null,
            "max_height": null,
            "max_width": null,
            "min_height": null,
            "min_width": null,
            "object_fit": null,
            "object_position": null,
            "order": null,
            "overflow": null,
            "overflow_x": null,
            "overflow_y": null,
            "padding": null,
            "right": null,
            "top": null,
            "visibility": null,
            "width": null
          }
        },
        "f59ff01bb1e14521b4a233b9ec4d3717": {
          "model_module": "@jupyter-widgets/base",
          "model_module_version": "1.2.0",
          "model_name": "LayoutModel",
          "state": {
            "_model_module": "@jupyter-widgets/base",
            "_model_module_version": "1.2.0",
            "_model_name": "LayoutModel",
            "_view_count": null,
            "_view_module": "@jupyter-widgets/base",
            "_view_module_version": "1.2.0",
            "_view_name": "LayoutView",
            "align_content": null,
            "align_items": null,
            "align_self": null,
            "border": null,
            "bottom": null,
            "display": null,
            "flex": null,
            "flex_flow": null,
            "grid_area": null,
            "grid_auto_columns": null,
            "grid_auto_flow": null,
            "grid_auto_rows": null,
            "grid_column": null,
            "grid_gap": null,
            "grid_row": null,
            "grid_template_areas": null,
            "grid_template_columns": null,
            "grid_template_rows": null,
            "height": null,
            "justify_content": null,
            "justify_items": null,
            "left": null,
            "margin": null,
            "max_height": null,
            "max_width": null,
            "min_height": null,
            "min_width": null,
            "object_fit": null,
            "object_position": null,
            "order": null,
            "overflow": null,
            "overflow_x": null,
            "overflow_y": null,
            "padding": null,
            "right": null,
            "top": null,
            "visibility": null,
            "width": null
          }
        },
        "f7a1a582ff794bd2811177ab23345fe1": {
          "model_module": "@jupyter-widgets/controls",
          "model_module_version": "1.5.0",
          "model_name": "HBoxModel",
          "state": {
            "_dom_classes": [],
            "_model_module": "@jupyter-widgets/controls",
            "_model_module_version": "1.5.0",
            "_model_name": "HBoxModel",
            "_view_count": null,
            "_view_module": "@jupyter-widgets/controls",
            "_view_module_version": "1.5.0",
            "_view_name": "HBoxView",
            "box_style": "",
            "children": [
              "IPY_MODEL_695c0de4c6c548ea88da792216372cf4",
              "IPY_MODEL_c9042952310c499a8554544fe65588c0",
              "IPY_MODEL_f832cdc6c6304a17ba447f622da7d417"
            ],
            "layout": "IPY_MODEL_64100dd783ea4cd898d246844a3b5cec"
          }
        },
        "f832cdc6c6304a17ba447f622da7d417": {
          "model_module": "@jupyter-widgets/controls",
          "model_module_version": "1.5.0",
          "model_name": "HTMLModel",
          "state": {
            "_dom_classes": [],
            "_model_module": "@jupyter-widgets/controls",
            "_model_module_version": "1.5.0",
            "_model_name": "HTMLModel",
            "_view_count": null,
            "_view_module": "@jupyter-widgets/controls",
            "_view_module_version": "1.5.0",
            "_view_name": "HTMLView",
            "description": "",
            "description_tooltip": null,
            "layout": "IPY_MODEL_d9113d0a87ec4258a77ec9f6def4d379",
            "placeholder": "​",
            "style": "IPY_MODEL_779e896f670740448f92887615b99e08",
            "value": " 213k/213k [00:00&lt;00:00, 360kB/s]"
          }
        },
        "fcb36dfdbbf74c06a2de93eb6081bbaf": {
          "model_module": "@jupyter-widgets/controls",
          "model_module_version": "1.5.0",
          "model_name": "FloatProgressModel",
          "state": {
            "_dom_classes": [],
            "_model_module": "@jupyter-widgets/controls",
            "_model_module_version": "1.5.0",
            "_model_name": "FloatProgressModel",
            "_view_count": null,
            "_view_module": "@jupyter-widgets/controls",
            "_view_module_version": "1.5.0",
            "_view_name": "ProgressView",
            "bar_style": "success",
            "description": "",
            "description_tooltip": null,
            "layout": "IPY_MODEL_47e1497994e74295bc8de7b8464726da",
            "max": 2,
            "min": 0,
            "orientation": "horizontal",
            "style": "IPY_MODEL_750d7acd14164d65a090e7f30539fe3f",
            "value": 2
          }
        },
        "fd64a29969b742889250f63540236270": {
          "model_module": "@jupyter-widgets/controls",
          "model_module_version": "1.5.0",
          "model_name": "HTMLModel",
          "state": {
            "_dom_classes": [],
            "_model_module": "@jupyter-widgets/controls",
            "_model_module_version": "1.5.0",
            "_model_name": "HTMLModel",
            "_view_count": null,
            "_view_module": "@jupyter-widgets/controls",
            "_view_module_version": "1.5.0",
            "_view_name": "HTMLView",
            "description": "",
            "description_tooltip": null,
            "layout": "IPY_MODEL_0d4429b7898244708393fd1b3bd86587",
            "placeholder": "​",
            "style": "IPY_MODEL_90fe484ac111434489a4839215c35cad",
            "value": " 1.33G/1.33G [00:17&lt;00:00, 82.3MB/s]"
          }
        },
        "fd832e114e7a4132b4248902ebf482a9": {
          "model_module": "@jupyter-widgets/controls",
          "model_module_version": "1.5.0",
          "model_name": "FloatProgressModel",
          "state": {
            "_dom_classes": [],
            "_model_module": "@jupyter-widgets/controls",
            "_model_module_version": "1.5.0",
            "_model_name": "FloatProgressModel",
            "_view_count": null,
            "_view_module": "@jupyter-widgets/controls",
            "_view_module_version": "1.5.0",
            "_view_name": "ProgressView",
            "bar_style": "success",
            "description": "",
            "description_tooltip": null,
            "layout": "IPY_MODEL_0d145d6e08254dd58d31c09e2f3dd340",
            "max": 829,
            "min": 0,
            "orientation": "horizontal",
            "style": "IPY_MODEL_ed84b9a1373b4efa9ebd54c9b1b6665a",
            "value": 829
          }
        }
      }
    }
  },
  "nbformat": 4,
  "nbformat_minor": 0
}
